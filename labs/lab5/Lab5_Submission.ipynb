{
 "cells": [
  {
   "cell_type": "code",
   "execution_count": 1,
   "id": "3484c90c",
   "metadata": {},
   "outputs": [],
   "source": [
    "# Import libraries\n",
    "import pandas as pd\n",
    "import numpy as np\n",
    "import geopandas as gpd\n",
    "import matplotlib.pyplot as plt\n",
    "from sklearn.preprocessing import StandardScaler\n",
    "from sklearn.model_selection import train_test_split\n",
    "from sklearn.ensemble import RandomForestRegressor\n",
    "from sklearn.metrics import mean_squared_error"
   ]
  },
  {
   "cell_type": "code",
   "execution_count": 2,
   "id": "39c7aa22",
   "metadata": {},
   "outputs": [],
   "source": [
    "# Import data\n",
    "df = pd.read_csv('/Users/jack/Documents/GitHub/geospatial-data-science/labs/lab5/california_house_prices.csv')\n",
    "\n",
    "# Read dataset\n",
    "coast = gpd.read_file('/Users/jack/Documents/GitHub/geospatial-data-science/labs/lab5/california_coastline.shp')"
   ]
  },
  {
   "cell_type": "code",
   "execution_count": 3,
   "id": "25d34626",
   "metadata": {},
   "outputs": [
    {
     "data": {
      "text/html": [
       "<div>\n",
       "<style scoped>\n",
       "    .dataframe tbody tr th:only-of-type {\n",
       "        vertical-align: middle;\n",
       "    }\n",
       "\n",
       "    .dataframe tbody tr th {\n",
       "        vertical-align: top;\n",
       "    }\n",
       "\n",
       "    .dataframe thead th {\n",
       "        text-align: right;\n",
       "    }\n",
       "</style>\n",
       "<table border=\"1\" class=\"dataframe\">\n",
       "  <thead>\n",
       "    <tr style=\"text-align: right;\">\n",
       "      <th></th>\n",
       "      <th>longitude</th>\n",
       "      <th>latitude</th>\n",
       "      <th>housing_median_age</th>\n",
       "      <th>total_rooms</th>\n",
       "      <th>total_bedrooms</th>\n",
       "      <th>population</th>\n",
       "      <th>households</th>\n",
       "      <th>median_income</th>\n",
       "      <th>median_house_value</th>\n",
       "    </tr>\n",
       "  </thead>\n",
       "  <tbody>\n",
       "    <tr>\n",
       "      <th>0</th>\n",
       "      <td>-122.46</td>\n",
       "      <td>37.74</td>\n",
       "      <td>51</td>\n",
       "      <td>1905</td>\n",
       "      <td>291</td>\n",
       "      <td>707</td>\n",
       "      <td>284</td>\n",
       "      <td>6.2561</td>\n",
       "      <td>431000</td>\n",
       "    </tr>\n",
       "    <tr>\n",
       "      <th>1</th>\n",
       "      <td>-122.00</td>\n",
       "      <td>36.93</td>\n",
       "      <td>51</td>\n",
       "      <td>1616</td>\n",
       "      <td>374</td>\n",
       "      <td>608</td>\n",
       "      <td>302</td>\n",
       "      <td>3.1932</td>\n",
       "      <td>400000</td>\n",
       "    </tr>\n",
       "    <tr>\n",
       "      <th>2</th>\n",
       "      <td>-122.47</td>\n",
       "      <td>37.75</td>\n",
       "      <td>51</td>\n",
       "      <td>2413</td>\n",
       "      <td>431</td>\n",
       "      <td>1095</td>\n",
       "      <td>437</td>\n",
       "      <td>4.0089</td>\n",
       "      <td>357000</td>\n",
       "    </tr>\n",
       "    <tr>\n",
       "      <th>3</th>\n",
       "      <td>-118.30</td>\n",
       "      <td>34.19</td>\n",
       "      <td>51</td>\n",
       "      <td>1502</td>\n",
       "      <td>243</td>\n",
       "      <td>586</td>\n",
       "      <td>231</td>\n",
       "      <td>4.3750</td>\n",
       "      <td>332400</td>\n",
       "    </tr>\n",
       "    <tr>\n",
       "      <th>4</th>\n",
       "      <td>-118.32</td>\n",
       "      <td>33.83</td>\n",
       "      <td>51</td>\n",
       "      <td>2399</td>\n",
       "      <td>516</td>\n",
       "      <td>1160</td>\n",
       "      <td>514</td>\n",
       "      <td>3.8456</td>\n",
       "      <td>318900</td>\n",
       "    </tr>\n",
       "    <tr>\n",
       "      <th>...</th>\n",
       "      <td>...</td>\n",
       "      <td>...</td>\n",
       "      <td>...</td>\n",
       "      <td>...</td>\n",
       "      <td>...</td>\n",
       "      <td>...</td>\n",
       "      <td>...</td>\n",
       "      <td>...</td>\n",
       "      <td>...</td>\n",
       "    </tr>\n",
       "    <tr>\n",
       "      <th>15262</th>\n",
       "      <td>-117.23</td>\n",
       "      <td>33.83</td>\n",
       "      <td>2</td>\n",
       "      <td>1424</td>\n",
       "      <td>251</td>\n",
       "      <td>681</td>\n",
       "      <td>192</td>\n",
       "      <td>4.0833</td>\n",
       "      <td>100000</td>\n",
       "    </tr>\n",
       "    <tr>\n",
       "      <th>15263</th>\n",
       "      <td>-119.88</td>\n",
       "      <td>36.83</td>\n",
       "      <td>2</td>\n",
       "      <td>4055</td>\n",
       "      <td>735</td>\n",
       "      <td>1730</td>\n",
       "      <td>654</td>\n",
       "      <td>4.2132</td>\n",
       "      <td>96500</td>\n",
       "    </tr>\n",
       "    <tr>\n",
       "      <th>15264</th>\n",
       "      <td>-115.80</td>\n",
       "      <td>33.26</td>\n",
       "      <td>2</td>\n",
       "      <td>96</td>\n",
       "      <td>18</td>\n",
       "      <td>30</td>\n",
       "      <td>16</td>\n",
       "      <td>5.3374</td>\n",
       "      <td>47500</td>\n",
       "    </tr>\n",
       "    <tr>\n",
       "      <th>15265</th>\n",
       "      <td>-122.00</td>\n",
       "      <td>38.23</td>\n",
       "      <td>1</td>\n",
       "      <td>2062</td>\n",
       "      <td>343</td>\n",
       "      <td>872</td>\n",
       "      <td>268</td>\n",
       "      <td>5.2636</td>\n",
       "      <td>191300</td>\n",
       "    </tr>\n",
       "    <tr>\n",
       "      <th>15266</th>\n",
       "      <td>-120.93</td>\n",
       "      <td>37.65</td>\n",
       "      <td>1</td>\n",
       "      <td>2254</td>\n",
       "      <td>328</td>\n",
       "      <td>402</td>\n",
       "      <td>112</td>\n",
       "      <td>4.2500</td>\n",
       "      <td>189200</td>\n",
       "    </tr>\n",
       "  </tbody>\n",
       "</table>\n",
       "<p>15267 rows × 9 columns</p>\n",
       "</div>"
      ],
      "text/plain": [
       "       longitude  latitude  housing_median_age  total_rooms  total_bedrooms  \\\n",
       "0        -122.46     37.74                  51         1905             291   \n",
       "1        -122.00     36.93                  51         1616             374   \n",
       "2        -122.47     37.75                  51         2413             431   \n",
       "3        -118.30     34.19                  51         1502             243   \n",
       "4        -118.32     33.83                  51         2399             516   \n",
       "...          ...       ...                 ...          ...             ...   \n",
       "15262    -117.23     33.83                   2         1424             251   \n",
       "15263    -119.88     36.83                   2         4055             735   \n",
       "15264    -115.80     33.26                   2           96              18   \n",
       "15265    -122.00     38.23                   1         2062             343   \n",
       "15266    -120.93     37.65                   1         2254             328   \n",
       "\n",
       "       population  households  median_income  median_house_value  \n",
       "0             707         284         6.2561              431000  \n",
       "1             608         302         3.1932              400000  \n",
       "2            1095         437         4.0089              357000  \n",
       "3             586         231         4.3750              332400  \n",
       "4            1160         514         3.8456              318900  \n",
       "...           ...         ...            ...                 ...  \n",
       "15262         681         192         4.0833              100000  \n",
       "15263        1730         654         4.2132               96500  \n",
       "15264          30          16         5.3374               47500  \n",
       "15265         872         268         5.2636              191300  \n",
       "15266         402         112         4.2500              189200  \n",
       "\n",
       "[15267 rows x 9 columns]"
      ]
     },
     "execution_count": 3,
     "metadata": {},
     "output_type": "execute_result"
    }
   ],
   "source": [
    "df"
   ]
  },
  {
   "cell_type": "code",
   "execution_count": 4,
   "id": "105e8e4c",
   "metadata": {},
   "outputs": [
    {
     "data": {
      "text/html": [
       "<div>\n",
       "<style scoped>\n",
       "    .dataframe tbody tr th:only-of-type {\n",
       "        vertical-align: middle;\n",
       "    }\n",
       "\n",
       "    .dataframe tbody tr th {\n",
       "        vertical-align: top;\n",
       "    }\n",
       "\n",
       "    .dataframe thead th {\n",
       "        text-align: right;\n",
       "    }\n",
       "</style>\n",
       "<table border=\"1\" class=\"dataframe\">\n",
       "  <thead>\n",
       "    <tr style=\"text-align: right;\">\n",
       "      <th></th>\n",
       "      <th>FNODE_</th>\n",
       "      <th>TNODE_</th>\n",
       "      <th>LPOLY_</th>\n",
       "      <th>RPOLY_</th>\n",
       "      <th>LENGTH</th>\n",
       "      <th>COUNTY_</th>\n",
       "      <th>COUNTY_ID</th>\n",
       "      <th>LUCODE</th>\n",
       "      <th>STATE</th>\n",
       "      <th>geometry</th>\n",
       "    </tr>\n",
       "  </thead>\n",
       "  <tbody>\n",
       "    <tr>\n",
       "      <th>0</th>\n",
       "      <td>297</td>\n",
       "      <td>291</td>\n",
       "      <td>1</td>\n",
       "      <td>24</td>\n",
       "      <td>15270.99572</td>\n",
       "      <td>113</td>\n",
       "      <td>12</td>\n",
       "      <td>2</td>\n",
       "      <td>CA</td>\n",
       "      <td>MULTILINESTRING ((-124.22911 40.74913, -124.22...</td>\n",
       "    </tr>\n",
       "  </tbody>\n",
       "</table>\n",
       "</div>"
      ],
      "text/plain": [
       "   FNODE_  TNODE_  LPOLY_  RPOLY_       LENGTH  COUNTY_  COUNTY_ID  LUCODE  \\\n",
       "0     297     291       1      24  15270.99572      113         12       2   \n",
       "\n",
       "  STATE                                           geometry  \n",
       "0    CA  MULTILINESTRING ((-124.22911 40.74913, -124.22...  "
      ]
     },
     "execution_count": 4,
     "metadata": {},
     "output_type": "execute_result"
    }
   ],
   "source": [
    "coast"
   ]
  },
  {
   "cell_type": "code",
   "execution_count": 5,
   "id": "8cc8416d",
   "metadata": {},
   "outputs": [
    {
     "data": {
      "text/plain": [
       "Index(['longitude', 'latitude', 'housing_median_age', 'total_rooms',\n",
       "       'total_bedrooms', 'population', 'households', 'median_income',\n",
       "       'median_house_value'],\n",
       "      dtype='object')"
      ]
     },
     "execution_count": 5,
     "metadata": {},
     "output_type": "execute_result"
    }
   ],
   "source": [
    "df.columns"
   ]
  },
  {
   "cell_type": "code",
   "execution_count": 6,
   "id": "5d85a5bd",
   "metadata": {},
   "outputs": [],
   "source": [
    "# Convert DataFrame to GeoDataFrame\n",
    "gdf = gpd.GeoDataFrame(df, geometry=gpd.points_from_xy(df['longitude'], df['latitude']))\n",
    "gdf = gdf.set_crs(4326, allow_override=True)\n",
    "\n",
    "# Reproject everything to UTM 10N (EPSG:32610)\n",
    "gdf_utm = gdf.to_crs('EPSG:32610')\n",
    "coast_utm = coast.to_crs('EPSG:32610')"
   ]
  },
  {
   "cell_type": "code",
   "execution_count": null,
   "id": "23c66c30",
   "metadata": {},
   "outputs": [],
   "source": []
  },
  {
   "cell_type": "code",
   "execution_count": 7,
   "id": "30531c25",
   "metadata": {},
   "outputs": [],
   "source": [
    "# Compute distance to Space Needle \n",
    "distance_to_coast = []\n",
    "for i in range(gdf_utm.shape[0]):\n",
    "    distance_to_coast.append(coast_utm.distance(gdf_utm['geometry'].iloc[i]).min())\n",
    "    \n",
    "# Add to DataFrame\n",
    "gdf_utm['distance_to_coast'] = distance_to_coast"
   ]
  },
  {
   "cell_type": "code",
   "execution_count": 8,
   "id": "9f341935",
   "metadata": {},
   "outputs": [
    {
     "data": {
      "text/plain": [
       "<matplotlib.colorbar.Colorbar at 0x7ffc8257db50>"
      ]
     },
     "execution_count": 8,
     "metadata": {},
     "output_type": "execute_result"
    },
    {
     "data": {
      "image/png": "[encoded data removed]",
      "text/plain": [
       "<Figure size 432x288 with 2 Axes>"
      ]
     },
     "metadata": {
      "needs_background": "light"
     },
     "output_type": "display_data"
    }
   ],
   "source": [
    "# Quickly check that it worked!\n",
    "plt.scatter(gdf_utm['longitude'], gdf_utm['latitude'], c=gdf_utm['distance_to_coast'])\n",
    "plt.colorbar()"
   ]
  },
  {
   "cell_type": "code",
   "execution_count": 9,
   "id": "899cd3eb",
   "metadata": {},
   "outputs": [
    {
     "data": {
      "text/plain": [
       "median_house_value    1.000000\n",
       "median_income         0.668566\n",
       "total_rooms           0.152923\n",
       "households            0.098525\n",
       "total_bedrooms        0.079023\n",
       "population            0.020930\n",
       "housing_median_age    0.014355\n",
       "longitude            -0.020092\n",
       "latitude             -0.173908\n",
       "distance_to_coast    -0.505078\n",
       "Name: median_house_value, dtype: float64"
      ]
     },
     "execution_count": 9,
     "metadata": {},
     "output_type": "execute_result"
    }
   ],
   "source": [
    "# Compute correlation matrix\n",
    "corr_matrix = gdf_utm.corr()\n",
    "\n",
    "# Display just house value correlations\n",
    "corr_matrix[\"median_house_value\"].sort_values(ascending= False)"
   ]
  },
  {
   "cell_type": "code",
   "execution_count": 10,
   "id": "f377700d",
   "metadata": {},
   "outputs": [],
   "source": [
    "# Rooms per house\n",
    "gdf_utm['rooms_per_house'] = gdf_utm['total_rooms'] / gdf_utm['households']\n",
    "\n",
    "# Bedrooms per house\n",
    "gdf_utm['bedrooms_per_room'] = gdf_utm['total_bedrooms'] / gdf_utm['total_rooms']"
   ]
  },
  {
   "cell_type": "code",
   "execution_count": 11,
   "id": "7a81f487",
   "metadata": {},
   "outputs": [
    {
     "data": {
      "text/plain": [
       "median_house_value    1.000000\n",
       "median_income         0.668566\n",
       "total_rooms           0.152923\n",
       "rooms_per_house       0.113277\n",
       "households            0.098525\n",
       "total_bedrooms        0.079023\n",
       "population            0.020930\n",
       "housing_median_age    0.014355\n",
       "longitude            -0.020092\n",
       "latitude             -0.173908\n",
       "bedrooms_per_room    -0.233964\n",
       "distance_to_coast    -0.505078\n",
       "Name: median_house_value, dtype: float64"
      ]
     },
     "execution_count": 11,
     "metadata": {},
     "output_type": "execute_result"
    }
   ],
   "source": [
    "# Compute correlation matrix\n",
    "corr_matrix = gdf_utm.corr()\n",
    "\n",
    "# Display just house value correlations\n",
    "corr_matrix[\"median_house_value\"].sort_values(ascending= False)"
   ]
  },
  {
   "cell_type": "code",
   "execution_count": 12,
   "id": "1ab560eb",
   "metadata": {},
   "outputs": [],
   "source": [
    "# Define feature list\n",
    "feature_list =  ['median_income', 'distance_to_coast', 'bedrooms_per_room', \n",
    "                 'total_rooms', 'rooms_per_house', 'total_bedrooms', 'households']\n",
    "\n",
    "# Define features and labels \n",
    "X = gdf_utm[feature_list]\n",
    "y = gdf_utm['median_house_value']\n",
    "\n",
    "# Standarize data\n",
    "scaler = StandardScaler()  \n",
    "X_scaled = scaler.fit_transform(X)"
   ]
  },
  {
   "cell_type": "code",
   "execution_count": 13,
   "id": "06e340b5",
   "metadata": {},
   "outputs": [],
   "source": [
    "# Split data \n",
    "X_train, X_test, y_train, y_test = train_test_split(X_scaled, y, test_size=0.2, random_state=42)"
   ]
  },
  {
   "cell_type": "code",
   "execution_count": 14,
   "id": "8d5b44c8",
   "metadata": {},
   "outputs": [
    {
     "data": {
      "text/plain": [
       "RandomForestRegressor(n_estimators=30)"
      ]
     },
     "execution_count": 14,
     "metadata": {},
     "output_type": "execute_result"
    }
   ],
   "source": [
    "# Define model\n",
    "forest_reg = RandomForestRegressor(n_estimators = 30)\n",
    "\n",
    "# Fit model\n",
    "forest_reg.fit(X_train, y_train)"
   ]
  },
  {
   "cell_type": "code",
   "execution_count": 15,
   "id": "7ade4ad6",
   "metadata": {},
   "outputs": [
    {
     "data": {
      "text/plain": [
       "55771.87429558656"
      ]
     },
     "execution_count": 15,
     "metadata": {},
     "output_type": "execute_result"
    }
   ],
   "source": [
    "# Predict test labels predictions\n",
    "predictions = forest_reg.predict(X_test)\n",
    "\n",
    "# Compute mean-squared-error\n",
    "final_mse = mean_squared_error(y_test , predictions)\n",
    "final_rmse = np.sqrt(final_mse)\n",
    "final_rmse"
   ]
  },
  {
   "cell_type": "markdown",
   "id": "0d3280d7",
   "metadata": {},
   "source": [
    "# Question 1 "
   ]
  },
  {
   "cell_type": "code",
   "execution_count": 16,
   "id": "18615aa2",
   "metadata": {},
   "outputs": [],
   "source": [
    "#from sklearn.ensemble import RandomForestRegressor\n",
    "\n",
    "#forest_reg = RandomForestRegressor(n_estimators = 30)\n",
    "\n",
    "#forest_reg.fit "
   ]
  },
  {
   "cell_type": "code",
   "execution_count": 17,
   "id": "705ab3c5",
   "metadata": {},
   "outputs": [],
   "source": [
    "# Import data for Seattle \n",
    "seattle_data = pd.read_csv('/Users/jack/Documents/GitHub/geospatial-data-science/labs/lab5/seattle_house_prices.csv')\n",
    "\n",
    "# Read dataset\n",
    "seattle_coast = gpd.read_file('/Users/jack/Documents/GitHub/geospatial-data-science/labs/lab5/washington_coastline.shp')"
   ]
  },
  {
   "cell_type": "code",
   "execution_count": 18,
   "id": "7eb44cfb",
   "metadata": {},
   "outputs": [
    {
     "data": {
      "text/plain": [
       "Index(['price', 'bedrooms', 'bathrooms', 'sqft_living', 'sqft_lot', 'yr_built',\n",
       "       'lat', 'long'],\n",
       "      dtype='object')"
      ]
     },
     "execution_count": 18,
     "metadata": {},
     "output_type": "execute_result"
    }
   ],
   "source": [
    "seattle_data.columns"
   ]
  },
  {
   "cell_type": "code",
   "execution_count": 19,
   "id": "ffcf5edc",
   "metadata": {},
   "outputs": [
    {
     "name": "stdout",
     "output_type": "stream",
     "text": [
      "<class 'pandas.core.frame.DataFrame'>\n",
      "RangeIndex: 19451 entries, 0 to 19450\n",
      "Data columns (total 8 columns):\n",
      " #   Column       Non-Null Count  Dtype  \n",
      "---  ------       --------------  -----  \n",
      " 0   price        19451 non-null  int64  \n",
      " 1   bedrooms     19451 non-null  int64  \n",
      " 2   bathrooms    19451 non-null  float64\n",
      " 3   sqft_living  19451 non-null  int64  \n",
      " 4   sqft_lot     19451 non-null  int64  \n",
      " 5   yr_built     19451 non-null  int64  \n",
      " 6   lat          19451 non-null  float64\n",
      " 7   long         19451 non-null  float64\n",
      "dtypes: float64(3), int64(5)\n",
      "memory usage: 1.2 MB\n"
     ]
    }
   ],
   "source": [
    "seattle_data.info()"
   ]
  },
  {
   "cell_type": "code",
   "execution_count": 20,
   "id": "68aa5ac0",
   "metadata": {},
   "outputs": [],
   "source": [
    "seattle_coast_utm = seattle_coast.to_crs(32610)"
   ]
  },
  {
   "cell_type": "code",
   "execution_count": 21,
   "id": "da32baaa",
   "metadata": {},
   "outputs": [
    {
     "data": {
      "text/html": [
       "<div>\n",
       "<style scoped>\n",
       "    .dataframe tbody tr th:only-of-type {\n",
       "        vertical-align: middle;\n",
       "    }\n",
       "\n",
       "    .dataframe tbody tr th {\n",
       "        vertical-align: top;\n",
       "    }\n",
       "\n",
       "    .dataframe thead th {\n",
       "        text-align: right;\n",
       "    }\n",
       "</style>\n",
       "<table border=\"1\" class=\"dataframe\">\n",
       "  <thead>\n",
       "    <tr style=\"text-align: right;\">\n",
       "      <th></th>\n",
       "      <th>NAME</th>\n",
       "      <th>MTFCC</th>\n",
       "      <th>geometry</th>\n",
       "    </tr>\n",
       "  </thead>\n",
       "  <tbody>\n",
       "    <tr>\n",
       "      <th>0</th>\n",
       "      <td>Pacific</td>\n",
       "      <td>L4150</td>\n",
       "      <td>LINESTRING (505407.678 5323560.749, 505406.177...</td>\n",
       "    </tr>\n",
       "    <tr>\n",
       "      <th>1</th>\n",
       "      <td>Pacific</td>\n",
       "      <td>L4150</td>\n",
       "      <td>LINESTRING (544009.095 5240908.754, 544015.188...</td>\n",
       "    </tr>\n",
       "    <tr>\n",
       "      <th>2</th>\n",
       "      <td>Pacific</td>\n",
       "      <td>L4150</td>\n",
       "      <td>LINESTRING (524251.546 5362207.085, 524261.425...</td>\n",
       "    </tr>\n",
       "    <tr>\n",
       "      <th>3</th>\n",
       "      <td>Pacific</td>\n",
       "      <td>L4150</td>\n",
       "      <td>LINESTRING (543812.537 5345133.673, 543810.169...</td>\n",
       "    </tr>\n",
       "    <tr>\n",
       "      <th>4</th>\n",
       "      <td>Pacific</td>\n",
       "      <td>L4150</td>\n",
       "      <td>LINESTRING (420246.733 5124016.964, 419988.090...</td>\n",
       "    </tr>\n",
       "    <tr>\n",
       "      <th>...</th>\n",
       "      <td>...</td>\n",
       "      <td>...</td>\n",
       "      <td>...</td>\n",
       "    </tr>\n",
       "    <tr>\n",
       "      <th>165</th>\n",
       "      <td>Pacific</td>\n",
       "      <td>L4150</td>\n",
       "      <td>LINESTRING (424777.900 5081688.350, 424801.962...</td>\n",
       "    </tr>\n",
       "    <tr>\n",
       "      <th>166</th>\n",
       "      <td>Pacific</td>\n",
       "      <td>L4150</td>\n",
       "      <td>LINESTRING (443524.779 5118719.482, 443512.294...</td>\n",
       "    </tr>\n",
       "    <tr>\n",
       "      <th>167</th>\n",
       "      <td>Pacific</td>\n",
       "      <td>L4150</td>\n",
       "      <td>LINESTRING (447014.682 5121216.461, 447041.556...</td>\n",
       "    </tr>\n",
       "    <tr>\n",
       "      <th>168</th>\n",
       "      <td>Pacific</td>\n",
       "      <td>L4150</td>\n",
       "      <td>LINESTRING (447495.516 5121428.219, 447457.454...</td>\n",
       "    </tr>\n",
       "    <tr>\n",
       "      <th>169</th>\n",
       "      <td>Pacific</td>\n",
       "      <td>L4150</td>\n",
       "      <td>LINESTRING (448673.161 5121006.191, 448640.818...</td>\n",
       "    </tr>\n",
       "  </tbody>\n",
       "</table>\n",
       "<p>170 rows × 3 columns</p>\n",
       "</div>"
      ],
      "text/plain": [
       "        NAME  MTFCC                                           geometry\n",
       "0    Pacific  L4150  LINESTRING (505407.678 5323560.749, 505406.177...\n",
       "1    Pacific  L4150  LINESTRING (544009.095 5240908.754, 544015.188...\n",
       "2    Pacific  L4150  LINESTRING (524251.546 5362207.085, 524261.425...\n",
       "3    Pacific  L4150  LINESTRING (543812.537 5345133.673, 543810.169...\n",
       "4    Pacific  L4150  LINESTRING (420246.733 5124016.964, 419988.090...\n",
       "..       ...    ...                                                ...\n",
       "165  Pacific  L4150  LINESTRING (424777.900 5081688.350, 424801.962...\n",
       "166  Pacific  L4150  LINESTRING (443524.779 5118719.482, 443512.294...\n",
       "167  Pacific  L4150  LINESTRING (447014.682 5121216.461, 447041.556...\n",
       "168  Pacific  L4150  LINESTRING (447495.516 5121428.219, 447457.454...\n",
       "169  Pacific  L4150  LINESTRING (448673.161 5121006.191, 448640.818...\n",
       "\n",
       "[170 rows x 3 columns]"
      ]
     },
     "execution_count": 21,
     "metadata": {},
     "output_type": "execute_result"
    }
   ],
   "source": [
    "seattle_coast_utm"
   ]
  },
  {
   "cell_type": "code",
   "execution_count": 22,
   "id": "95e260ba",
   "metadata": {},
   "outputs": [
    {
     "data": {
      "text/html": [
       "<div>\n",
       "<style scoped>\n",
       "    .dataframe tbody tr th:only-of-type {\n",
       "        vertical-align: middle;\n",
       "    }\n",
       "\n",
       "    .dataframe tbody tr th {\n",
       "        vertical-align: top;\n",
       "    }\n",
       "\n",
       "    .dataframe thead th {\n",
       "        text-align: right;\n",
       "    }\n",
       "</style>\n",
       "<table border=\"1\" class=\"dataframe\">\n",
       "  <thead>\n",
       "    <tr style=\"text-align: right;\">\n",
       "      <th></th>\n",
       "      <th>price</th>\n",
       "      <th>bedrooms</th>\n",
       "      <th>bathrooms</th>\n",
       "      <th>sqft_living</th>\n",
       "      <th>sqft_lot</th>\n",
       "      <th>yr_built</th>\n",
       "      <th>lat</th>\n",
       "      <th>long</th>\n",
       "    </tr>\n",
       "  </thead>\n",
       "  <tbody>\n",
       "    <tr>\n",
       "      <th>0</th>\n",
       "      <td>538000</td>\n",
       "      <td>3</td>\n",
       "      <td>2.25</td>\n",
       "      <td>2570</td>\n",
       "      <td>7242</td>\n",
       "      <td>1951</td>\n",
       "      <td>47.7210</td>\n",
       "      <td>-122.319</td>\n",
       "    </tr>\n",
       "    <tr>\n",
       "      <th>1</th>\n",
       "      <td>180000</td>\n",
       "      <td>2</td>\n",
       "      <td>1.00</td>\n",
       "      <td>770</td>\n",
       "      <td>10000</td>\n",
       "      <td>1933</td>\n",
       "      <td>47.7379</td>\n",
       "      <td>-122.233</td>\n",
       "    </tr>\n",
       "    <tr>\n",
       "      <th>2</th>\n",
       "      <td>604000</td>\n",
       "      <td>4</td>\n",
       "      <td>3.00</td>\n",
       "      <td>1960</td>\n",
       "      <td>5000</td>\n",
       "      <td>1965</td>\n",
       "      <td>47.5208</td>\n",
       "      <td>-122.393</td>\n",
       "    </tr>\n",
       "    <tr>\n",
       "      <th>3</th>\n",
       "      <td>510000</td>\n",
       "      <td>3</td>\n",
       "      <td>2.00</td>\n",
       "      <td>1680</td>\n",
       "      <td>8080</td>\n",
       "      <td>1987</td>\n",
       "      <td>47.6168</td>\n",
       "      <td>-122.045</td>\n",
       "    </tr>\n",
       "    <tr>\n",
       "      <th>4</th>\n",
       "      <td>1230000</td>\n",
       "      <td>4</td>\n",
       "      <td>4.50</td>\n",
       "      <td>5420</td>\n",
       "      <td>101930</td>\n",
       "      <td>2001</td>\n",
       "      <td>47.6561</td>\n",
       "      <td>-122.005</td>\n",
       "    </tr>\n",
       "    <tr>\n",
       "      <th>...</th>\n",
       "      <td>...</td>\n",
       "      <td>...</td>\n",
       "      <td>...</td>\n",
       "      <td>...</td>\n",
       "      <td>...</td>\n",
       "      <td>...</td>\n",
       "      <td>...</td>\n",
       "      <td>...</td>\n",
       "    </tr>\n",
       "    <tr>\n",
       "      <th>19446</th>\n",
       "      <td>475000</td>\n",
       "      <td>3</td>\n",
       "      <td>2.50</td>\n",
       "      <td>1310</td>\n",
       "      <td>1294</td>\n",
       "      <td>2008</td>\n",
       "      <td>47.5773</td>\n",
       "      <td>-122.409</td>\n",
       "    </tr>\n",
       "    <tr>\n",
       "      <th>19447</th>\n",
       "      <td>360000</td>\n",
       "      <td>3</td>\n",
       "      <td>2.50</td>\n",
       "      <td>1530</td>\n",
       "      <td>1131</td>\n",
       "      <td>2009</td>\n",
       "      <td>47.6993</td>\n",
       "      <td>-122.346</td>\n",
       "    </tr>\n",
       "    <tr>\n",
       "      <th>19448</th>\n",
       "      <td>400000</td>\n",
       "      <td>4</td>\n",
       "      <td>2.50</td>\n",
       "      <td>2310</td>\n",
       "      <td>5813</td>\n",
       "      <td>2014</td>\n",
       "      <td>47.5107</td>\n",
       "      <td>-122.362</td>\n",
       "    </tr>\n",
       "    <tr>\n",
       "      <th>19449</th>\n",
       "      <td>400000</td>\n",
       "      <td>3</td>\n",
       "      <td>2.50</td>\n",
       "      <td>1600</td>\n",
       "      <td>2388</td>\n",
       "      <td>2004</td>\n",
       "      <td>47.5345</td>\n",
       "      <td>-122.069</td>\n",
       "    </tr>\n",
       "    <tr>\n",
       "      <th>19450</th>\n",
       "      <td>325000</td>\n",
       "      <td>2</td>\n",
       "      <td>0.75</td>\n",
       "      <td>1020</td>\n",
       "      <td>1076</td>\n",
       "      <td>2008</td>\n",
       "      <td>47.5941</td>\n",
       "      <td>-122.299</td>\n",
       "    </tr>\n",
       "  </tbody>\n",
       "</table>\n",
       "<p>19451 rows × 8 columns</p>\n",
       "</div>"
      ],
      "text/plain": [
       "         price  bedrooms  bathrooms  sqft_living  sqft_lot  yr_built      lat  \\\n",
       "0       538000         3       2.25         2570      7242      1951  47.7210   \n",
       "1       180000         2       1.00          770     10000      1933  47.7379   \n",
       "2       604000         4       3.00         1960      5000      1965  47.5208   \n",
       "3       510000         3       2.00         1680      8080      1987  47.6168   \n",
       "4      1230000         4       4.50         5420    101930      2001  47.6561   \n",
       "...        ...       ...        ...          ...       ...       ...      ...   \n",
       "19446   475000         3       2.50         1310      1294      2008  47.5773   \n",
       "19447   360000         3       2.50         1530      1131      2009  47.6993   \n",
       "19448   400000         4       2.50         2310      5813      2014  47.5107   \n",
       "19449   400000         3       2.50         1600      2388      2004  47.5345   \n",
       "19450   325000         2       0.75         1020      1076      2008  47.5941   \n",
       "\n",
       "          long  \n",
       "0     -122.319  \n",
       "1     -122.233  \n",
       "2     -122.393  \n",
       "3     -122.045  \n",
       "4     -122.005  \n",
       "...        ...  \n",
       "19446 -122.409  \n",
       "19447 -122.346  \n",
       "19448 -122.362  \n",
       "19449 -122.069  \n",
       "19450 -122.299  \n",
       "\n",
       "[19451 rows x 8 columns]"
      ]
     },
     "execution_count": 22,
     "metadata": {},
     "output_type": "execute_result"
    }
   ],
   "source": [
    "# Check the number of houses \n",
    "seattle_data"
   ]
  },
  {
   "cell_type": "code",
   "execution_count": 23,
   "id": "5e73da13",
   "metadata": {},
   "outputs": [
    {
     "data": {
      "text/html": [
       "<div>\n",
       "<style scoped>\n",
       "    .dataframe tbody tr th:only-of-type {\n",
       "        vertical-align: middle;\n",
       "    }\n",
       "\n",
       "    .dataframe tbody tr th {\n",
       "        vertical-align: top;\n",
       "    }\n",
       "\n",
       "    .dataframe thead th {\n",
       "        text-align: right;\n",
       "    }\n",
       "</style>\n",
       "<table border=\"1\" class=\"dataframe\">\n",
       "  <thead>\n",
       "    <tr style=\"text-align: right;\">\n",
       "      <th></th>\n",
       "      <th>price</th>\n",
       "      <th>bedrooms</th>\n",
       "      <th>bathrooms</th>\n",
       "      <th>sqft_living</th>\n",
       "      <th>sqft_lot</th>\n",
       "      <th>yr_built</th>\n",
       "      <th>lat</th>\n",
       "      <th>long</th>\n",
       "    </tr>\n",
       "  </thead>\n",
       "  <tbody>\n",
       "    <tr>\n",
       "      <th>0</th>\n",
       "      <td>False</td>\n",
       "      <td>False</td>\n",
       "      <td>False</td>\n",
       "      <td>False</td>\n",
       "      <td>False</td>\n",
       "      <td>False</td>\n",
       "      <td>False</td>\n",
       "      <td>False</td>\n",
       "    </tr>\n",
       "    <tr>\n",
       "      <th>1</th>\n",
       "      <td>False</td>\n",
       "      <td>False</td>\n",
       "      <td>False</td>\n",
       "      <td>False</td>\n",
       "      <td>False</td>\n",
       "      <td>False</td>\n",
       "      <td>False</td>\n",
       "      <td>False</td>\n",
       "    </tr>\n",
       "    <tr>\n",
       "      <th>2</th>\n",
       "      <td>False</td>\n",
       "      <td>False</td>\n",
       "      <td>False</td>\n",
       "      <td>False</td>\n",
       "      <td>False</td>\n",
       "      <td>False</td>\n",
       "      <td>False</td>\n",
       "      <td>False</td>\n",
       "    </tr>\n",
       "    <tr>\n",
       "      <th>3</th>\n",
       "      <td>False</td>\n",
       "      <td>False</td>\n",
       "      <td>False</td>\n",
       "      <td>False</td>\n",
       "      <td>False</td>\n",
       "      <td>False</td>\n",
       "      <td>False</td>\n",
       "      <td>False</td>\n",
       "    </tr>\n",
       "    <tr>\n",
       "      <th>4</th>\n",
       "      <td>False</td>\n",
       "      <td>False</td>\n",
       "      <td>False</td>\n",
       "      <td>False</td>\n",
       "      <td>False</td>\n",
       "      <td>False</td>\n",
       "      <td>False</td>\n",
       "      <td>False</td>\n",
       "    </tr>\n",
       "    <tr>\n",
       "      <th>...</th>\n",
       "      <td>...</td>\n",
       "      <td>...</td>\n",
       "      <td>...</td>\n",
       "      <td>...</td>\n",
       "      <td>...</td>\n",
       "      <td>...</td>\n",
       "      <td>...</td>\n",
       "      <td>...</td>\n",
       "    </tr>\n",
       "    <tr>\n",
       "      <th>19446</th>\n",
       "      <td>False</td>\n",
       "      <td>False</td>\n",
       "      <td>False</td>\n",
       "      <td>False</td>\n",
       "      <td>False</td>\n",
       "      <td>False</td>\n",
       "      <td>False</td>\n",
       "      <td>False</td>\n",
       "    </tr>\n",
       "    <tr>\n",
       "      <th>19447</th>\n",
       "      <td>False</td>\n",
       "      <td>False</td>\n",
       "      <td>False</td>\n",
       "      <td>False</td>\n",
       "      <td>False</td>\n",
       "      <td>False</td>\n",
       "      <td>False</td>\n",
       "      <td>False</td>\n",
       "    </tr>\n",
       "    <tr>\n",
       "      <th>19448</th>\n",
       "      <td>False</td>\n",
       "      <td>False</td>\n",
       "      <td>False</td>\n",
       "      <td>False</td>\n",
       "      <td>False</td>\n",
       "      <td>False</td>\n",
       "      <td>False</td>\n",
       "      <td>False</td>\n",
       "    </tr>\n",
       "    <tr>\n",
       "      <th>19449</th>\n",
       "      <td>False</td>\n",
       "      <td>False</td>\n",
       "      <td>False</td>\n",
       "      <td>False</td>\n",
       "      <td>False</td>\n",
       "      <td>False</td>\n",
       "      <td>False</td>\n",
       "      <td>False</td>\n",
       "    </tr>\n",
       "    <tr>\n",
       "      <th>19450</th>\n",
       "      <td>False</td>\n",
       "      <td>False</td>\n",
       "      <td>False</td>\n",
       "      <td>False</td>\n",
       "      <td>False</td>\n",
       "      <td>False</td>\n",
       "      <td>False</td>\n",
       "      <td>False</td>\n",
       "    </tr>\n",
       "  </tbody>\n",
       "</table>\n",
       "<p>19451 rows × 8 columns</p>\n",
       "</div>"
      ],
      "text/plain": [
       "       price  bedrooms  bathrooms  sqft_living  sqft_lot  yr_built    lat  \\\n",
       "0      False     False      False        False     False     False  False   \n",
       "1      False     False      False        False     False     False  False   \n",
       "2      False     False      False        False     False     False  False   \n",
       "3      False     False      False        False     False     False  False   \n",
       "4      False     False      False        False     False     False  False   \n",
       "...      ...       ...        ...          ...       ...       ...    ...   \n",
       "19446  False     False      False        False     False     False  False   \n",
       "19447  False     False      False        False     False     False  False   \n",
       "19448  False     False      False        False     False     False  False   \n",
       "19449  False     False      False        False     False     False  False   \n",
       "19450  False     False      False        False     False     False  False   \n",
       "\n",
       "        long  \n",
       "0      False  \n",
       "1      False  \n",
       "2      False  \n",
       "3      False  \n",
       "4      False  \n",
       "...      ...  \n",
       "19446  False  \n",
       "19447  False  \n",
       "19448  False  \n",
       "19449  False  \n",
       "19450  False  \n",
       "\n",
       "[19451 rows x 8 columns]"
      ]
     },
     "execution_count": 23,
     "metadata": {},
     "output_type": "execute_result"
    }
   ],
   "source": [
    "seattle_data.isnull()"
   ]
  },
  {
   "cell_type": "code",
   "execution_count": 24,
   "id": "162a8693",
   "metadata": {},
   "outputs": [
    {
     "name": "stdout",
     "output_type": "stream",
     "text": [
      "price          0\n",
      "bedrooms       0\n",
      "bathrooms      0\n",
      "sqft_living    0\n",
      "sqft_lot       0\n",
      "yr_built       0\n",
      "lat            0\n",
      "long           0\n",
      "dtype: int64\n"
     ]
    }
   ],
   "source": [
    "# Check the null value in dataset \n",
    "print(seattle_data.isnull().sum())"
   ]
  },
  {
   "cell_type": "code",
   "execution_count": 25,
   "id": "f2f41506",
   "metadata": {},
   "outputs": [],
   "source": [
    "# Convert DataFrame to GeoDataFrame\n",
    "seattle_gdf = gpd.GeoDataFrame(seattle_data, geometry=gpd.points_from_xy(seattle_data['long'], seattle_data['lat']))\n",
    "seattle_gdf = seattle_gdf.set_crs(4326, allow_override=True)\n",
    "\n",
    "# Reproject everything to UTM 10N (EPSG:32610)\n",
    "seattle_gdf_utm = seattle_gdf.to_crs('EPSG:32610')\n",
    "seattle_coast_utm = seattle_coast.to_crs('EPSG:32610')\n"
   ]
  },
  {
   "cell_type": "code",
   "execution_count": 26,
   "id": "00cd9b24",
   "metadata": {},
   "outputs": [],
   "source": [
    "# Compute distance to coast\n",
    "seattle_coast = []\n",
    "for i in range(seattle_gdf_utm.shape[0]):\n",
    "    seattle_coast.append(seattle_coast_utm.distance(seattle_gdf_utm['geometry'].iloc[i]).min())\n",
    "    \n",
    "# Add to DataFrame\n",
    "seattle_gdf_utm['seattle_coast'] = seattle_coast"
   ]
  },
  {
   "cell_type": "code",
   "execution_count": 27,
   "id": "28244701",
   "metadata": {
    "scrolled": true
   },
   "outputs": [
    {
     "data": {
      "text/plain": [
       "<matplotlib.colorbar.Colorbar at 0x7ffc863fd3a0>"
      ]
     },
     "execution_count": 27,
     "metadata": {},
     "output_type": "execute_result"
    },
    {
     "data": {
      "image/png": "[encoded data removed]",
      "text/plain": [
       "<Figure size 432x288 with 2 Axes>"
      ]
     },
     "metadata": {
      "needs_background": "light"
     },
     "output_type": "display_data"
    }
   ],
   "source": [
    "# Quickly check that it worked!\n",
    "plt.scatter(seattle_gdf_utm['long'], seattle_gdf_utm['lat'], c=seattle_gdf_utm['seattle_coast'])\n",
    "plt.colorbar()"
   ]
  },
  {
   "cell_type": "code",
   "execution_count": 28,
   "id": "1bbc8c5d",
   "metadata": {},
   "outputs": [
    {
     "data": {
      "text/plain": [
       "Index(['longitude', 'latitude', 'housing_median_age', 'total_rooms',\n",
       "       'total_bedrooms', 'population', 'households', 'median_income',\n",
       "       'median_house_value', 'geometry', 'distance_to_coast',\n",
       "       'rooms_per_house', 'bedrooms_per_room'],\n",
       "      dtype='object')"
      ]
     },
     "execution_count": 28,
     "metadata": {},
     "output_type": "execute_result"
    }
   ],
   "source": [
    "gdf_utm.columns"
   ]
  },
  {
   "cell_type": "code",
   "execution_count": 29,
   "id": "0fe0c80e",
   "metadata": {},
   "outputs": [
    {
     "data": {
      "text/plain": [
       "Index(['price', 'bedrooms', 'bathrooms', 'sqft_living', 'sqft_lot', 'yr_built',\n",
       "       'lat', 'long', 'geometry', 'seattle_coast'],\n",
       "      dtype='object')"
      ]
     },
     "execution_count": 29,
     "metadata": {},
     "output_type": "execute_result"
    }
   ],
   "source": [
    "seattle_gdf_utm.columns"
   ]
  },
  {
   "cell_type": "markdown",
   "id": "872416b9",
   "metadata": {},
   "source": [
    "# Question 2, 4-5"
   ]
  },
  {
   "cell_type": "code",
   "execution_count": 30,
   "id": "3d72b9e5",
   "metadata": {
    "scrolled": true
   },
   "outputs": [
    {
     "data": {
      "text/plain": [
       "price            1.000000\n",
       "sqft_living      0.702296\n",
       "bathrooms        0.524395\n",
       "bedrooms         0.315804\n",
       "lat              0.308082\n",
       "sqft_lot         0.090125\n",
       "yr_built         0.052453\n",
       "seattle_coast    0.027830\n",
       "long             0.020092\n",
       "Name: price, dtype: float64"
      ]
     },
     "execution_count": 30,
     "metadata": {},
     "output_type": "execute_result"
    }
   ],
   "source": [
    "# Compute correlation matrix\n",
    "corr_matrix = seattle_gdf_utm.corr()\n",
    "\n",
    "# Display just house value correlations\n",
    "corr_matrix[\"price\"].sort_values(ascending= False)"
   ]
  },
  {
   "cell_type": "markdown",
   "id": "c1218711",
   "metadata": {},
   "source": [
    "# Question 3"
   ]
  },
  {
   "cell_type": "code",
   "execution_count": 31,
   "id": "08194ed5",
   "metadata": {},
   "outputs": [
    {
     "data": {
      "text/html": [
       "<div>\n",
       "<style scoped>\n",
       "    .dataframe tbody tr th:only-of-type {\n",
       "        vertical-align: middle;\n",
       "    }\n",
       "\n",
       "    .dataframe tbody tr th {\n",
       "        vertical-align: top;\n",
       "    }\n",
       "\n",
       "    .dataframe thead th {\n",
       "        text-align: right;\n",
       "    }\n",
       "</style>\n",
       "<table border=\"1\" class=\"dataframe\">\n",
       "  <thead>\n",
       "    <tr style=\"text-align: right;\">\n",
       "      <th></th>\n",
       "      <th>price</th>\n",
       "      <th>bedrooms</th>\n",
       "      <th>bathrooms</th>\n",
       "      <th>sqft_living</th>\n",
       "      <th>sqft_lot</th>\n",
       "      <th>yr_built</th>\n",
       "      <th>lat</th>\n",
       "      <th>long</th>\n",
       "      <th>geometry</th>\n",
       "    </tr>\n",
       "  </thead>\n",
       "  <tbody>\n",
       "    <tr>\n",
       "      <th>0</th>\n",
       "      <td>False</td>\n",
       "      <td>False</td>\n",
       "      <td>False</td>\n",
       "      <td>False</td>\n",
       "      <td>False</td>\n",
       "      <td>False</td>\n",
       "      <td>False</td>\n",
       "      <td>False</td>\n",
       "      <td>False</td>\n",
       "    </tr>\n",
       "    <tr>\n",
       "      <th>1</th>\n",
       "      <td>False</td>\n",
       "      <td>False</td>\n",
       "      <td>False</td>\n",
       "      <td>False</td>\n",
       "      <td>False</td>\n",
       "      <td>False</td>\n",
       "      <td>False</td>\n",
       "      <td>False</td>\n",
       "      <td>False</td>\n",
       "    </tr>\n",
       "    <tr>\n",
       "      <th>2</th>\n",
       "      <td>False</td>\n",
       "      <td>False</td>\n",
       "      <td>False</td>\n",
       "      <td>False</td>\n",
       "      <td>False</td>\n",
       "      <td>False</td>\n",
       "      <td>False</td>\n",
       "      <td>False</td>\n",
       "      <td>False</td>\n",
       "    </tr>\n",
       "    <tr>\n",
       "      <th>3</th>\n",
       "      <td>False</td>\n",
       "      <td>False</td>\n",
       "      <td>False</td>\n",
       "      <td>False</td>\n",
       "      <td>False</td>\n",
       "      <td>False</td>\n",
       "      <td>False</td>\n",
       "      <td>False</td>\n",
       "      <td>False</td>\n",
       "    </tr>\n",
       "    <tr>\n",
       "      <th>4</th>\n",
       "      <td>False</td>\n",
       "      <td>False</td>\n",
       "      <td>False</td>\n",
       "      <td>False</td>\n",
       "      <td>False</td>\n",
       "      <td>False</td>\n",
       "      <td>False</td>\n",
       "      <td>False</td>\n",
       "      <td>False</td>\n",
       "    </tr>\n",
       "    <tr>\n",
       "      <th>...</th>\n",
       "      <td>...</td>\n",
       "      <td>...</td>\n",
       "      <td>...</td>\n",
       "      <td>...</td>\n",
       "      <td>...</td>\n",
       "      <td>...</td>\n",
       "      <td>...</td>\n",
       "      <td>...</td>\n",
       "      <td>...</td>\n",
       "    </tr>\n",
       "    <tr>\n",
       "      <th>19446</th>\n",
       "      <td>False</td>\n",
       "      <td>False</td>\n",
       "      <td>False</td>\n",
       "      <td>False</td>\n",
       "      <td>False</td>\n",
       "      <td>False</td>\n",
       "      <td>False</td>\n",
       "      <td>False</td>\n",
       "      <td>False</td>\n",
       "    </tr>\n",
       "    <tr>\n",
       "      <th>19447</th>\n",
       "      <td>False</td>\n",
       "      <td>False</td>\n",
       "      <td>False</td>\n",
       "      <td>False</td>\n",
       "      <td>False</td>\n",
       "      <td>False</td>\n",
       "      <td>False</td>\n",
       "      <td>False</td>\n",
       "      <td>False</td>\n",
       "    </tr>\n",
       "    <tr>\n",
       "      <th>19448</th>\n",
       "      <td>False</td>\n",
       "      <td>False</td>\n",
       "      <td>False</td>\n",
       "      <td>False</td>\n",
       "      <td>False</td>\n",
       "      <td>False</td>\n",
       "      <td>False</td>\n",
       "      <td>False</td>\n",
       "      <td>False</td>\n",
       "    </tr>\n",
       "    <tr>\n",
       "      <th>19449</th>\n",
       "      <td>False</td>\n",
       "      <td>False</td>\n",
       "      <td>False</td>\n",
       "      <td>False</td>\n",
       "      <td>False</td>\n",
       "      <td>False</td>\n",
       "      <td>False</td>\n",
       "      <td>False</td>\n",
       "      <td>False</td>\n",
       "    </tr>\n",
       "    <tr>\n",
       "      <th>19450</th>\n",
       "      <td>False</td>\n",
       "      <td>False</td>\n",
       "      <td>False</td>\n",
       "      <td>False</td>\n",
       "      <td>False</td>\n",
       "      <td>False</td>\n",
       "      <td>False</td>\n",
       "      <td>False</td>\n",
       "      <td>False</td>\n",
       "    </tr>\n",
       "  </tbody>\n",
       "</table>\n",
       "<p>19451 rows × 9 columns</p>\n",
       "</div>"
      ],
      "text/plain": [
       "       price  bedrooms  bathrooms  sqft_living  sqft_lot  yr_built    lat  \\\n",
       "0      False     False      False        False     False     False  False   \n",
       "1      False     False      False        False     False     False  False   \n",
       "2      False     False      False        False     False     False  False   \n",
       "3      False     False      False        False     False     False  False   \n",
       "4      False     False      False        False     False     False  False   \n",
       "...      ...       ...        ...          ...       ...       ...    ...   \n",
       "19446  False     False      False        False     False     False  False   \n",
       "19447  False     False      False        False     False     False  False   \n",
       "19448  False     False      False        False     False     False  False   \n",
       "19449  False     False      False        False     False     False  False   \n",
       "19450  False     False      False        False     False     False  False   \n",
       "\n",
       "        long  geometry  \n",
       "0      False     False  \n",
       "1      False     False  \n",
       "2      False     False  \n",
       "3      False     False  \n",
       "4      False     False  \n",
       "...      ...       ...  \n",
       "19446  False     False  \n",
       "19447  False     False  \n",
       "19448  False     False  \n",
       "19449  False     False  \n",
       "19450  False     False  \n",
       "\n",
       "[19451 rows x 9 columns]"
      ]
     },
     "execution_count": 31,
     "metadata": {},
     "output_type": "execute_result"
    }
   ],
   "source": [
    "seattle_data.isnull()"
   ]
  },
  {
   "cell_type": "code",
   "execution_count": 32,
   "id": "e055a263",
   "metadata": {},
   "outputs": [],
   "source": [
    "# Import library\n",
    "from sklearn.preprocessing import StandardScaler\n",
    "# Define feature list\n",
    "seattle_feature_list =  ['bedrooms', 'bathrooms', 'sqft_living', 'sqft_lot', 'yr_built',\n",
    "       'lat', 'long']\n",
    "\n",
    "# Define features and labels \n",
    "seattle_X = seattle_gdf_utm[seattle_feature_list]\n",
    "seattle_y = seattle_gdf_utm['price']\n",
    "\n",
    "# Standarize data\n",
    "seattle_scaler = StandardScaler()  \n",
    "seattle_X_scaled = seattle_scaler.fit_transform(seattle_X)"
   ]
  },
  {
   "cell_type": "code",
   "execution_count": 33,
   "id": "a7bc4064",
   "metadata": {},
   "outputs": [],
   "source": [
    "# Split data \n",
    "X_train, X_test, y_train, y_test = train_test_split(seattle_X_scaled, seattle_y, test_size=0.2, random_state=42)"
   ]
  },
  {
   "cell_type": "code",
   "execution_count": 34,
   "id": "f6c85f37",
   "metadata": {},
   "outputs": [
    {
     "data": {
      "text/plain": [
       "RandomForestRegressor(n_estimators=30)"
      ]
     },
     "execution_count": 34,
     "metadata": {},
     "output_type": "execute_result"
    }
   ],
   "source": [
    "# Define model\n",
    "forest_reg = RandomForestRegressor(n_estimators = 30)\n",
    "\n",
    "# Fit model\n",
    "forest_reg.fit(X_train, y_train)"
   ]
  },
  {
   "cell_type": "code",
   "execution_count": 35,
   "id": "63dcae9e",
   "metadata": {},
   "outputs": [
    {
     "data": {
      "text/plain": [
       "161998.9710966534"
      ]
     },
     "execution_count": 35,
     "metadata": {},
     "output_type": "execute_result"
    }
   ],
   "source": [
    "# Predict test labels predictions\n",
    "seattle_predictions = forest_reg.predict(X_test)\n",
    "\n",
    "# Compute mean-squared-error\n",
    "final_mse = mean_squared_error(y_test , seattle_predictions)\n",
    "final_rmse = np.sqrt(final_mse)\n",
    "final_rmse"
   ]
  },
  {
   "cell_type": "markdown",
   "id": "fc7636af",
   "metadata": {},
   "source": [
    "# Check for correlation "
   ]
  },
  {
   "cell_type": "code",
   "execution_count": 36,
   "id": "0f38e23a",
   "metadata": {},
   "outputs": [],
   "source": [
    "import pandas as pd\n",
    "import geopandas as gpd\n",
    "from shapely.geometry import Point\n",
    "\n",
    "sea = pd.read_csv(\"/Users/jack/Documents/GitHub/geospatial-data-science/labs/lab5/seattle_house_prices.csv\")\n",
    "sea_gdf = gpd.GeoDataFrame(sea, geometry = gpd.points_from_xy(sea['long'], sea['lat']))\n",
    "sea_gdf = sea_gdf.set_crs(4326, allow_override=True)\n",
    "# Reproject everything to UTM 10N (EPSG:32610)\n",
    "sea_utm = sea_gdf.to_crs('EPSG:32610')\n",
    "\n",
    "rand_point = Point(5.6e5, 5.27e6)\n",
    "rand_gdf = gpd.GeoDataFrame(geometry = [rand_point])\n",
    "rand_gdf = rand_gdf.set_crs(32610)\n",
    "dist_sea_rand_pnt = []\n",
    "for i in range(sea_utm.shape[0]):\n",
    "    dist_sea_rand_pnt.append(rand_gdf.distance(sea_utm['geometry'].iloc[i]).min())"
   ]
  },
  {
   "cell_type": "markdown",
   "id": "c2de12ae",
   "metadata": {},
   "source": [
    "# Correlation matrix for square foot divide by bedroom"
   ]
  },
  {
   "cell_type": "code",
   "execution_count": 37,
   "id": "f2b2e23b",
   "metadata": {},
   "outputs": [],
   "source": [
    "# House size\n",
    "seattle_gdf_utm['house_size'] = seattle_gdf_utm['sqft_living'] / seattle_gdf_utm['sqft_lot']"
   ]
  },
  {
   "cell_type": "code",
   "execution_count": 38,
   "id": "c891ab92",
   "metadata": {},
   "outputs": [
    {
     "data": {
      "text/plain": [
       "Index(['price', 'bedrooms', 'bathrooms', 'sqft_living', 'sqft_lot', 'yr_built',\n",
       "       'lat', 'long', 'geometry', 'seattle_coast', 'house_size'],\n",
       "      dtype='object')"
      ]
     },
     "execution_count": 38,
     "metadata": {},
     "output_type": "execute_result"
    }
   ],
   "source": [
    "seattle_gdf_utm.columns"
   ]
  },
  {
   "cell_type": "code",
   "execution_count": 39,
   "id": "1cb09847",
   "metadata": {},
   "outputs": [],
   "source": [
    "# Import library\n",
    "from sklearn.preprocessing import StandardScaler\n",
    "# Define feature list\n",
    "seattle_feature_list =  ['bedrooms', 'bathrooms', 'sqft_living', 'sqft_lot', 'yr_built',\n",
    "       'lat', 'long','house_size']\n",
    "\n",
    "# Define features and labels \n",
    "seattle_X = seattle_gdf_utm[seattle_feature_list]\n",
    "seattle_y = seattle_gdf_utm['price']\n",
    "\n",
    "# Standarize data\n",
    "seattle_scaler = StandardScaler()  \n",
    "seattle_X_scaled = seattle_scaler.fit_transform(seattle_X)\n"
   ]
  },
  {
   "cell_type": "code",
   "execution_count": 40,
   "id": "02bec98d",
   "metadata": {},
   "outputs": [
    {
     "data": {
      "text/plain": [
       "153023.53775454397"
      ]
     },
     "execution_count": 40,
     "metadata": {},
     "output_type": "execute_result"
    }
   ],
   "source": [
    "# Split data \n",
    "X_train, X_test, y_train, y_test = train_test_split(seattle_X_scaled, seattle_y, test_size=0.2, random_state=42)\n",
    "\n",
    "# Define model\n",
    "forest_reg = RandomForestRegressor(n_estimators = 30)\n",
    "\n",
    "# Fit model\n",
    "forest_reg.fit(X_train, y_train)\n",
    "\n",
    "# Predict test labels predictions\n",
    "seattle_predictions = forest_reg.predict(X_test)\n",
    "\n",
    "# Compute mean-squared-error\n",
    "seattle_final_mse = mean_squared_error(y_test , seattle_predictions)\n",
    "seattle_final_rmse = np.sqrt(seattle_final_mse)\n",
    "seattle_final_rmse"
   ]
  },
  {
   "cell_type": "markdown",
   "id": "cec6092b",
   "metadata": {},
   "source": [
    "# Compute distance to Washington Park Arboretum UW Seattle"
   ]
  },
  {
   "cell_type": "code",
   "execution_count": 41,
   "id": "bfbb1b78",
   "metadata": {},
   "outputs": [],
   "source": [
    "#47.63982848173617, -122.29614021004966\n",
    "from shapely.geometry import Point\n",
    "uw_arboretum = Point( -122.28120001226782, 47.6167207495107)\n",
    "uw_arboretum_gdf = gpd.GeoDataFrame(geometry = [uw_arboretum], crs = 4326)\n",
    "uw_arboretum_gdf = uw_arboretum_gdf.to_crs(\"EPSG:32610\")\n",
    "distance_to_Arboretum = []\n",
    "for i in range(seattle_gdf_utm.shape[0]):\n",
    "    distance_to_Arboretum.append(uw_arboretum_gdf.distance(seattle_gdf_utm['geometry'].iloc[i]).min())\n",
    "# Add to DataFrame\n",
    "seattle_gdf_utm['distance_to_Arboretum'] = distance_to_Arboretum"
   ]
  },
  {
   "cell_type": "code",
   "execution_count": 42,
   "id": "05f40732",
   "metadata": {},
   "outputs": [
    {
     "data": {
      "text/plain": [
       "Index(['price', 'bedrooms', 'bathrooms', 'sqft_living', 'sqft_lot', 'yr_built',\n",
       "       'lat', 'long', 'geometry', 'seattle_coast', 'house_size',\n",
       "       'distance_to_Arboretum'],\n",
       "      dtype='object')"
      ]
     },
     "execution_count": 42,
     "metadata": {},
     "output_type": "execute_result"
    }
   ],
   "source": [
    "seattle_gdf_utm.columns"
   ]
  },
  {
   "cell_type": "code",
   "execution_count": 43,
   "id": "144ff16f",
   "metadata": {},
   "outputs": [],
   "source": [
    "# Import library\n",
    "from sklearn.preprocessing import StandardScaler\n",
    "# Define feature list\n",
    "seattle_feature_list =  ['bedrooms', 'bathrooms', 'sqft_living', 'sqft_lot', 'yr_built',\n",
    "       'lat', 'long','distance_to_Arboretum']\n",
    "\n",
    "# Define features and labels \n",
    "seattle_X = seattle_gdf_utm[seattle_feature_list]\n",
    "seattle_y = seattle_gdf_utm['price']\n",
    "\n",
    "# Standarize data\n",
    "seattle_scaler = StandardScaler()  \n",
    "seattle_X_scaled = seattle_scaler.fit_transform(seattle_X)"
   ]
  },
  {
   "cell_type": "code",
   "execution_count": 44,
   "id": "7f30523f",
   "metadata": {},
   "outputs": [],
   "source": [
    "# Split data \n",
    "X_train, X_test, y_train, y_test = train_test_split(seattle_X_scaled, seattle_y, test_size=0.2, random_state=42)"
   ]
  },
  {
   "cell_type": "code",
   "execution_count": 45,
   "id": "dbb3a377",
   "metadata": {},
   "outputs": [
    {
     "data": {
      "text/plain": [
       "RandomForestRegressor(n_estimators=30)"
      ]
     },
     "execution_count": 45,
     "metadata": {},
     "output_type": "execute_result"
    }
   ],
   "source": [
    "# Define model\n",
    "forest_reg = RandomForestRegressor(n_estimators = 30)\n",
    "\n",
    "# Fit model\n",
    "forest_reg.fit(X_train, y_train)"
   ]
  },
  {
   "cell_type": "code",
   "execution_count": 46,
   "id": "3025af68",
   "metadata": {},
   "outputs": [
    {
     "data": {
      "text/plain": [
       "150907.06671017915"
      ]
     },
     "execution_count": 46,
     "metadata": {},
     "output_type": "execute_result"
    }
   ],
   "source": [
    "# Predict test labels predictions\n",
    "seattle_predictions = forest_reg.predict(X_test)\n",
    "\n",
    "# Compute mean-squared-error\n",
    "seattle_final_mse = mean_squared_error(y_test , seattle_predictions)\n",
    "seattle_final_rmse = np.sqrt(seattle_final_mse)\n",
    "seattle_final_rmse"
   ]
  },
  {
   "cell_type": "raw",
   "id": "44e9b618",
   "metadata": {},
   "source": [
    "The houses near Washington Park Arboretum UW are more expensive, so it's correlated with the house price. "
   ]
  },
  {
   "cell_type": "markdown",
   "id": "f1c8ae2c",
   "metadata": {},
   "source": [
    "# Compute distance to Seattle University, WA "
   ]
  },
  {
   "cell_type": "code",
   "execution_count": 47,
   "id": "5d9c0d61",
   "metadata": {},
   "outputs": [],
   "source": [
    "# 47.609774530443964, -122.3177216635164\n",
    "from shapely.geometry import Point\n",
    "seattle_University = Point(-122.3177216635164, 47.609774530443964)\n",
    "seattle_University_gdf = gpd.GeoDataFrame(geometry = [seattle_University], crs = 4326)\n",
    "seattle_University_gdf = seattle_University_gdf.to_crs(\"EPSG:32610\")\n",
    "distance_to_seattle_University = []\n",
    "for i in range(seattle_gdf_utm.shape[0]):\n",
    "    distance_to_seattle_University.append(seattle_University_gdf.distance(seattle_gdf_utm['geometry'].iloc[i]).min())\n",
    "# Add to DataFrame\n",
    "seattle_gdf_utm['distance_to_seattle_University'] = distance_to_seattle_University"
   ]
  },
  {
   "cell_type": "code",
   "execution_count": 48,
   "id": "f0dc0734",
   "metadata": {},
   "outputs": [
    {
     "data": {
      "text/plain": [
       "Index(['price', 'bedrooms', 'bathrooms', 'sqft_living', 'sqft_lot', 'yr_built',\n",
       "       'lat', 'long', 'geometry', 'seattle_coast', 'house_size',\n",
       "       'distance_to_Arboretum', 'distance_to_seattle_University'],\n",
       "      dtype='object')"
      ]
     },
     "execution_count": 48,
     "metadata": {},
     "output_type": "execute_result"
    }
   ],
   "source": [
    "seattle_gdf_utm.columns"
   ]
  },
  {
   "cell_type": "code",
   "execution_count": 49,
   "id": "9a9cc1f3",
   "metadata": {},
   "outputs": [],
   "source": [
    "# Import library\n",
    "from sklearn.preprocessing import StandardScaler\n",
    "# Define feature list\n",
    "seattle_feature_list =  ['bedrooms', 'bathrooms', 'sqft_living', 'sqft_lot', 'yr_built',\n",
    "       'lat', 'long', 'distance_to_seattle_University']\n",
    "\n",
    "# Define features and labels \n",
    "seattle_X = seattle_gdf_utm[seattle_feature_list]\n",
    "seattle_y = seattle_gdf_utm['price']\n",
    "\n",
    "# Standarize data\n",
    "seattle_scaler = StandardScaler()  \n",
    "seattle_X_scaled = seattle_scaler.fit_transform(seattle_X)"
   ]
  },
  {
   "cell_type": "code",
   "execution_count": 50,
   "id": "37885a78",
   "metadata": {},
   "outputs": [],
   "source": [
    "# Split data \n",
    "X_train, X_test, y_train, y_test = train_test_split(seattle_X_scaled, seattle_y, test_size=0.2, random_state=42)"
   ]
  },
  {
   "cell_type": "code",
   "execution_count": 51,
   "id": "7c3be9ef",
   "metadata": {},
   "outputs": [
    {
     "data": {
      "text/plain": [
       "RandomForestRegressor(n_estimators=30)"
      ]
     },
     "execution_count": 51,
     "metadata": {},
     "output_type": "execute_result"
    }
   ],
   "source": [
    "# Define model\n",
    "forest_reg = RandomForestRegressor(n_estimators = 30)\n",
    "\n",
    "# Fit model\n",
    "forest_reg.fit(X_train, y_train)"
   ]
  },
  {
   "cell_type": "code",
   "execution_count": 52,
   "id": "9ca91c28",
   "metadata": {},
   "outputs": [
    {
     "data": {
      "text/plain": [
       "155020.88638338653"
      ]
     },
     "execution_count": 52,
     "metadata": {},
     "output_type": "execute_result"
    }
   ],
   "source": [
    "# Predict test labels predictions\n",
    "seattle_predictions = forest_reg.predict(X_test)\n",
    "\n",
    "# Compute mean-squared-error\n",
    "seattle_final_mse = mean_squared_error(y_test , seattle_predictions)\n",
    "seattle_final_rmse = np.sqrt(seattle_final_mse)\n",
    "seattle_final_rmse"
   ]
  },
  {
   "cell_type": "raw",
   "id": "757c7dec",
   "metadata": {},
   "source": [
    "The compute distance to Washington Park Arboretum UW Seattle seems more accurate than the distance to Seattle University."
   ]
  },
  {
   "cell_type": "markdown",
   "id": "ae844f8e",
   "metadata": {},
   "source": [
    "# Questions/Answers"
   ]
  },
  {
   "cell_type": "raw",
   "id": "e028a1f3",
   "metadata": {},
   "source": [
    "1. How many houses are in this dataset?\n",
    "There are 19451 houses in this dataset. \n",
    "\n",
    "2. How many features are there for predicting house price?\n",
    "All 7 features, (bedrooms,bathrooms, sqft_living, sqft_lot, yr_built, lat,long) can predict the house price because the number of bedroom, bathroom, the area size, the age of the house and its location can affect prices. \n",
    "\n",
    "3. Are there any null values in this dataset?\n",
    "There are no null values in this dataset. \n",
    "\n",
    "4. Which three variables are best correlated with house price (include correlation coefficients)?\n",
    "The total house square footage of the house, bathroom and number of bedrooms, are best correlated with house price. \n",
    "\n",
    "5. Which three variables are least correlated with house price (include correlation coefficients)?\n",
    "The age of the house, the distance to coast and longitude, are least correlated with house price. \n"
   ]
  },
  {
   "cell_type": "markdown",
   "id": "3d6d2c0b",
   "metadata": {},
   "source": [
    "# Insang Demo"
   ]
  },
  {
   "cell_type": "code",
   "execution_count": 53,
   "id": "a57896e9",
   "metadata": {},
   "outputs": [],
   "source": [
    "from shapely.geometry import Point\n",
    "rand_point = Point(5.6e5, 5.27e6)\n",
    "rand_gdf = gpd.GeoDataFrame(geometry = [rand_point])"
   ]
  },
  {
   "cell_type": "code",
   "execution_count": 54,
   "id": "a80078b6",
   "metadata": {},
   "outputs": [
    {
     "data": {
      "text/plain": [
       "<AxesSubplot:>"
      ]
     },
     "execution_count": 54,
     "metadata": {},
     "output_type": "execute_result"
    },
    {
     "data": {
      "image/png": "[encoded data removed]",
      "text/plain": [
       "<Figure size 432x288 with 1 Axes>"
      ]
     },
     "metadata": {
      "needs_background": "light"
     },
     "output_type": "display_data"
    }
   ],
   "source": [
    "rand_gdf.plot()"
   ]
  },
  {
   "cell_type": "code",
   "execution_count": null,
   "id": "44331567",
   "metadata": {},
   "outputs": [],
   "source": []
  }
 ],
 "metadata": {
  "kernelspec": {
   "display_name": "Python 3 (ipykernel)",
   "language": "python",
   "name": "python3"
  },
  "language_info": {
   "codemirror_mode": {
    "name": "ipython",
    "version": 3
   },
   "file_extension": ".py",
   "mimetype": "text/x-python",
   "name": "python",
   "nbconvert_exporter": "python",
   "pygments_lexer": "ipython3",
   "version": "3.8.12"
  }
 },
 "nbformat": 4,
 "nbformat_minor": 5
}
