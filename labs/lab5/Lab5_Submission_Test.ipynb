{
 "cells": [
  {
   "cell_type": "code",
   "execution_count": 1,
   "id": "3484c90c",
   "metadata": {},
   "outputs": [],
   "source": [
    "# Import libraries\n",
    "import pandas as pd\n",
    "import numpy as np\n",
    "import geopandas as gpd\n",
    "import matplotlib.pyplot as plt\n",
    "from sklearn.preprocessing import StandardScaler\n",
    "from sklearn.model_selection import train_test_split\n",
    "from sklearn.ensemble import RandomForestRegressor\n",
    "from sklearn.metrics import mean_squared_error"
   ]
  },
  {
   "cell_type": "code",
   "execution_count": 2,
   "id": "39c7aa22",
   "metadata": {},
   "outputs": [],
   "source": [
    "# Import data\n",
    "df = pd.read_csv('/Users/jack/Documents/GitHub/geospatial-data-science/labs/lab5/california_house_prices.csv')\n",
    "\n",
    "# Read dataset\n",
    "coast = gpd.read_file('/Users/jack/Documents/GitHub/geospatial-data-science/labs/lab5/california_coastline.shp')"
   ]
  },
  {
   "cell_type": "code",
   "execution_count": 20,
   "id": "25d34626",
   "metadata": {},
   "outputs": [
    {
     "data": {
      "text/html": [
       "<div>\n",
       "<style scoped>\n",
       "    .dataframe tbody tr th:only-of-type {\n",
       "        vertical-align: middle;\n",
       "    }\n",
       "\n",
       "    .dataframe tbody tr th {\n",
       "        vertical-align: top;\n",
       "    }\n",
       "\n",
       "    .dataframe thead th {\n",
       "        text-align: right;\n",
       "    }\n",
       "</style>\n",
       "<table border=\"1\" class=\"dataframe\">\n",
       "  <thead>\n",
       "    <tr style=\"text-align: right;\">\n",
       "      <th></th>\n",
       "      <th>price</th>\n",
       "      <th>bedrooms</th>\n",
       "      <th>bathrooms</th>\n",
       "      <th>sqft_living</th>\n",
       "      <th>sqft_lot</th>\n",
       "      <th>yr_built</th>\n",
       "      <th>lat</th>\n",
       "      <th>long</th>\n",
       "    </tr>\n",
       "  </thead>\n",
       "  <tbody>\n",
       "    <tr>\n",
       "      <th>0</th>\n",
       "      <td>538000</td>\n",
       "      <td>3</td>\n",
       "      <td>2.25</td>\n",
       "      <td>2570</td>\n",
       "      <td>7242</td>\n",
       "      <td>1951</td>\n",
       "      <td>47.7210</td>\n",
       "      <td>-122.319</td>\n",
       "    </tr>\n",
       "    <tr>\n",
       "      <th>1</th>\n",
       "      <td>180000</td>\n",
       "      <td>2</td>\n",
       "      <td>1.00</td>\n",
       "      <td>770</td>\n",
       "      <td>10000</td>\n",
       "      <td>1933</td>\n",
       "      <td>47.7379</td>\n",
       "      <td>-122.233</td>\n",
       "    </tr>\n",
       "    <tr>\n",
       "      <th>2</th>\n",
       "      <td>604000</td>\n",
       "      <td>4</td>\n",
       "      <td>3.00</td>\n",
       "      <td>1960</td>\n",
       "      <td>5000</td>\n",
       "      <td>1965</td>\n",
       "      <td>47.5208</td>\n",
       "      <td>-122.393</td>\n",
       "    </tr>\n",
       "    <tr>\n",
       "      <th>3</th>\n",
       "      <td>510000</td>\n",
       "      <td>3</td>\n",
       "      <td>2.00</td>\n",
       "      <td>1680</td>\n",
       "      <td>8080</td>\n",
       "      <td>1987</td>\n",
       "      <td>47.6168</td>\n",
       "      <td>-122.045</td>\n",
       "    </tr>\n",
       "    <tr>\n",
       "      <th>4</th>\n",
       "      <td>1230000</td>\n",
       "      <td>4</td>\n",
       "      <td>4.50</td>\n",
       "      <td>5420</td>\n",
       "      <td>101930</td>\n",
       "      <td>2001</td>\n",
       "      <td>47.6561</td>\n",
       "      <td>-122.005</td>\n",
       "    </tr>\n",
       "    <tr>\n",
       "      <th>...</th>\n",
       "      <td>...</td>\n",
       "      <td>...</td>\n",
       "      <td>...</td>\n",
       "      <td>...</td>\n",
       "      <td>...</td>\n",
       "      <td>...</td>\n",
       "      <td>...</td>\n",
       "      <td>...</td>\n",
       "    </tr>\n",
       "    <tr>\n",
       "      <th>19446</th>\n",
       "      <td>475000</td>\n",
       "      <td>3</td>\n",
       "      <td>2.50</td>\n",
       "      <td>1310</td>\n",
       "      <td>1294</td>\n",
       "      <td>2008</td>\n",
       "      <td>47.5773</td>\n",
       "      <td>-122.409</td>\n",
       "    </tr>\n",
       "    <tr>\n",
       "      <th>19447</th>\n",
       "      <td>360000</td>\n",
       "      <td>3</td>\n",
       "      <td>2.50</td>\n",
       "      <td>1530</td>\n",
       "      <td>1131</td>\n",
       "      <td>2009</td>\n",
       "      <td>47.6993</td>\n",
       "      <td>-122.346</td>\n",
       "    </tr>\n",
       "    <tr>\n",
       "      <th>19448</th>\n",
       "      <td>400000</td>\n",
       "      <td>4</td>\n",
       "      <td>2.50</td>\n",
       "      <td>2310</td>\n",
       "      <td>5813</td>\n",
       "      <td>2014</td>\n",
       "      <td>47.5107</td>\n",
       "      <td>-122.362</td>\n",
       "    </tr>\n",
       "    <tr>\n",
       "      <th>19449</th>\n",
       "      <td>400000</td>\n",
       "      <td>3</td>\n",
       "      <td>2.50</td>\n",
       "      <td>1600</td>\n",
       "      <td>2388</td>\n",
       "      <td>2004</td>\n",
       "      <td>47.5345</td>\n",
       "      <td>-122.069</td>\n",
       "    </tr>\n",
       "    <tr>\n",
       "      <th>19450</th>\n",
       "      <td>325000</td>\n",
       "      <td>2</td>\n",
       "      <td>0.75</td>\n",
       "      <td>1020</td>\n",
       "      <td>1076</td>\n",
       "      <td>2008</td>\n",
       "      <td>47.5941</td>\n",
       "      <td>-122.299</td>\n",
       "    </tr>\n",
       "  </tbody>\n",
       "</table>\n",
       "<p>19451 rows × 8 columns</p>\n",
       "</div>"
      ],
      "text/plain": [
       "         price  bedrooms  bathrooms  sqft_living  sqft_lot  yr_built      lat  \\\n",
       "0       538000         3       2.25         2570      7242      1951  47.7210   \n",
       "1       180000         2       1.00          770     10000      1933  47.7379   \n",
       "2       604000         4       3.00         1960      5000      1965  47.5208   \n",
       "3       510000         3       2.00         1680      8080      1987  47.6168   \n",
       "4      1230000         4       4.50         5420    101930      2001  47.6561   \n",
       "...        ...       ...        ...          ...       ...       ...      ...   \n",
       "19446   475000         3       2.50         1310      1294      2008  47.5773   \n",
       "19447   360000         3       2.50         1530      1131      2009  47.6993   \n",
       "19448   400000         4       2.50         2310      5813      2014  47.5107   \n",
       "19449   400000         3       2.50         1600      2388      2004  47.5345   \n",
       "19450   325000         2       0.75         1020      1076      2008  47.5941   \n",
       "\n",
       "          long  \n",
       "0     -122.319  \n",
       "1     -122.233  \n",
       "2     -122.393  \n",
       "3     -122.045  \n",
       "4     -122.005  \n",
       "...        ...  \n",
       "19446 -122.409  \n",
       "19447 -122.346  \n",
       "19448 -122.362  \n",
       "19449 -122.069  \n",
       "19450 -122.299  \n",
       "\n",
       "[19451 rows x 8 columns]"
      ]
     },
     "execution_count": 20,
     "metadata": {},
     "output_type": "execute_result"
    }
   ],
   "source": [
    "df"
   ]
  },
  {
   "cell_type": "code",
   "execution_count": 21,
   "id": "105e8e4c",
   "metadata": {},
   "outputs": [
    {
     "data": {
      "text/html": [
       "<div>\n",
       "<style scoped>\n",
       "    .dataframe tbody tr th:only-of-type {\n",
       "        vertical-align: middle;\n",
       "    }\n",
       "\n",
       "    .dataframe tbody tr th {\n",
       "        vertical-align: top;\n",
       "    }\n",
       "\n",
       "    .dataframe thead th {\n",
       "        text-align: right;\n",
       "    }\n",
       "</style>\n",
       "<table border=\"1\" class=\"dataframe\">\n",
       "  <thead>\n",
       "    <tr style=\"text-align: right;\">\n",
       "      <th></th>\n",
       "      <th>FNODE_</th>\n",
       "      <th>TNODE_</th>\n",
       "      <th>LPOLY_</th>\n",
       "      <th>RPOLY_</th>\n",
       "      <th>LENGTH</th>\n",
       "      <th>COUNTY_</th>\n",
       "      <th>COUNTY_ID</th>\n",
       "      <th>LUCODE</th>\n",
       "      <th>STATE</th>\n",
       "      <th>geometry</th>\n",
       "    </tr>\n",
       "  </thead>\n",
       "  <tbody>\n",
       "    <tr>\n",
       "      <th>0</th>\n",
       "      <td>297</td>\n",
       "      <td>291</td>\n",
       "      <td>1</td>\n",
       "      <td>24</td>\n",
       "      <td>15270.99572</td>\n",
       "      <td>113</td>\n",
       "      <td>12</td>\n",
       "      <td>2</td>\n",
       "      <td>CA</td>\n",
       "      <td>MULTILINESTRING ((-124.22911 40.74913, -124.22...</td>\n",
       "    </tr>\n",
       "  </tbody>\n",
       "</table>\n",
       "</div>"
      ],
      "text/plain": [
       "   FNODE_  TNODE_  LPOLY_  RPOLY_       LENGTH  COUNTY_  COUNTY_ID  LUCODE  \\\n",
       "0     297     291       1      24  15270.99572      113         12       2   \n",
       "\n",
       "  STATE                                           geometry  \n",
       "0    CA  MULTILINESTRING ((-124.22911 40.74913, -124.22...  "
      ]
     },
     "execution_count": 21,
     "metadata": {},
     "output_type": "execute_result"
    }
   ],
   "source": [
    "coast"
   ]
  },
  {
   "cell_type": "code",
   "execution_count": 40,
   "id": "8cc8416d",
   "metadata": {},
   "outputs": [
    {
     "data": {
      "text/plain": [
       "Index(['price', 'bedrooms', 'bathrooms', 'sqft_living', 'sqft_lot', 'yr_built',\n",
       "       'lat', 'long', 'geometry'],\n",
       "      dtype='object')"
      ]
     },
     "execution_count": 40,
     "metadata": {},
     "output_type": "execute_result"
    }
   ],
   "source": [
    "df.columns"
   ]
  },
  {
   "cell_type": "code",
   "execution_count": 3,
   "id": "5d85a5bd",
   "metadata": {},
   "outputs": [],
   "source": [
    "# Convert DataFrame to GeoDataFrame\n",
    "gdf = gpd.GeoDataFrame(df, geometry=gpd.points_from_xy(df['longitude'], df['latitude']))\n",
    "gdf = gdf.set_crs(4326, allow_override=True)\n",
    "\n",
    "# Reproject everything to UTM 10N (EPSG:32610)\n",
    "gdf_utm = gdf.to_crs('EPSG:32610')\n",
    "coast_utm = coast.to_crs('EPSG:32610')"
   ]
  },
  {
   "cell_type": "code",
   "execution_count": null,
   "id": "23c66c30",
   "metadata": {},
   "outputs": [],
   "source": []
  },
  {
   "cell_type": "code",
   "execution_count": 4,
   "id": "30531c25",
   "metadata": {},
   "outputs": [],
   "source": [
    "# Compute distance to Space Needle \n",
    "distance_to_coast = []\n",
    "for i in range(gdf_utm.shape[0]):\n",
    "    distance_to_coast.append(coast_utm.distance(gdf_utm['geometry'].iloc[i]).min())\n",
    "    \n",
    "# Add to DataFrame\n",
    "gdf_utm['distance_to_coast'] = distance_to_coast"
   ]
  },
  {
   "cell_type": "code",
   "execution_count": 5,
   "id": "9f341935",
   "metadata": {},
   "outputs": [
    {
     "data": {
      "text/plain": [
       "<matplotlib.colorbar.Colorbar at 0x7ffeb487da00>"
      ]
     },
     "execution_count": 5,
     "metadata": {},
     "output_type": "execute_result"
    },
    {
     "data": {
      "image/png": "[encoded data removed]",
      "text/plain": [
       "<Figure size 432x288 with 2 Axes>"
      ]
     },
     "metadata": {
      "needs_background": "light"
     },
     "output_type": "display_data"
    }
   ],
   "source": [
    "# Quickly check that it worked!\n",
    "plt.scatter(gdf_utm['longitude'], gdf_utm['latitude'], c=gdf_utm['distance_to_coast'])\n",
    "plt.colorbar()"
   ]
  },
  {
   "cell_type": "code",
   "execution_count": 6,
   "id": "899cd3eb",
   "metadata": {},
   "outputs": [
    {
     "data": {
      "text/plain": [
       "median_house_value    1.000000\n",
       "median_income         0.668566\n",
       "total_rooms           0.152923\n",
       "households            0.098525\n",
       "total_bedrooms        0.079023\n",
       "population            0.020930\n",
       "housing_median_age    0.014355\n",
       "longitude            -0.020092\n",
       "latitude             -0.173908\n",
       "distance_to_coast    -0.505078\n",
       "Name: median_house_value, dtype: float64"
      ]
     },
     "execution_count": 6,
     "metadata": {},
     "output_type": "execute_result"
    }
   ],
   "source": [
    "# Compute correlation matrix\n",
    "corr_matrix = gdf_utm.corr()\n",
    "\n",
    "# Display just house value correlations\n",
    "corr_matrix[\"median_house_value\"].sort_values(ascending= False)"
   ]
  },
  {
   "cell_type": "code",
   "execution_count": 7,
   "id": "f377700d",
   "metadata": {},
   "outputs": [],
   "source": [
    "# Rooms per house\n",
    "gdf_utm['rooms_per_house'] = gdf_utm['total_rooms'] / gdf_utm['households']\n",
    "\n",
    "# Bedrooms per house\n",
    "gdf_utm['bedrooms_per_room'] = gdf_utm['total_bedrooms'] / gdf_utm['total_rooms']"
   ]
  },
  {
   "cell_type": "code",
   "execution_count": 8,
   "id": "7a81f487",
   "metadata": {},
   "outputs": [
    {
     "data": {
      "text/plain": [
       "median_house_value    1.000000\n",
       "median_income         0.668566\n",
       "total_rooms           0.152923\n",
       "rooms_per_house       0.113277\n",
       "households            0.098525\n",
       "total_bedrooms        0.079023\n",
       "population            0.020930\n",
       "housing_median_age    0.014355\n",
       "longitude            -0.020092\n",
       "latitude             -0.173908\n",
       "bedrooms_per_room    -0.233964\n",
       "distance_to_coast    -0.505078\n",
       "Name: median_house_value, dtype: float64"
      ]
     },
     "execution_count": 8,
     "metadata": {},
     "output_type": "execute_result"
    }
   ],
   "source": [
    "# Compute correlation matrix\n",
    "corr_matrix = gdf_utm.corr()\n",
    "\n",
    "# Display just house value correlations\n",
    "corr_matrix[\"median_house_value\"].sort_values(ascending= False)"
   ]
  },
  {
   "cell_type": "code",
   "execution_count": 9,
   "id": "1ab560eb",
   "metadata": {},
   "outputs": [],
   "source": [
    "# Define feature list\n",
    "feature_list =  ['median_income', 'distance_to_coast', 'bedrooms_per_room', \n",
    "                 'total_rooms', 'rooms_per_house', 'total_bedrooms', 'households']\n",
    "\n",
    "# Define features and labels \n",
    "X = gdf_utm[feature_list]\n",
    "y = gdf_utm['median_house_value']\n",
    "\n",
    "# Standarize data\n",
    "scaler = StandardScaler()  \n",
    "X_scaled = scaler.fit_transform(X)"
   ]
  },
  {
   "cell_type": "code",
   "execution_count": 10,
   "id": "06e340b5",
   "metadata": {},
   "outputs": [],
   "source": [
    "# Split data \n",
    "X_train, X_test, y_train, y_test = train_test_split(X_scaled, y, test_size=0.2, random_state=42)"
   ]
  },
  {
   "cell_type": "code",
   "execution_count": 11,
   "id": "8d5b44c8",
   "metadata": {},
   "outputs": [
    {
     "data": {
      "text/plain": [
       "RandomForestRegressor(n_estimators=30)"
      ]
     },
     "execution_count": 11,
     "metadata": {},
     "output_type": "execute_result"
    }
   ],
   "source": [
    "# Define model\n",
    "forest_reg = RandomForestRegressor(n_estimators = 30)\n",
    "\n",
    "# Fit model\n",
    "forest_reg.fit(X_train, y_train)"
   ]
  },
  {
   "cell_type": "code",
   "execution_count": 12,
   "id": "7ade4ad6",
   "metadata": {},
   "outputs": [
    {
     "data": {
      "text/plain": [
       "55739.784271081"
      ]
     },
     "execution_count": 12,
     "metadata": {},
     "output_type": "execute_result"
    }
   ],
   "source": [
    "# Predict test labels predictions\n",
    "predictions = forest_reg.predict(X_test)\n",
    "\n",
    "# Compute mean-squared-error\n",
    "final_mse = mean_squared_error(y_test , predictions)\n",
    "final_rmse = np.sqrt(final_mse)\n",
    "final_rmse"
   ]
  },
  {
   "cell_type": "markdown",
   "id": "0d3280d7",
   "metadata": {},
   "source": [
    "# Question 1 "
   ]
  },
  {
   "cell_type": "code",
   "execution_count": 13,
   "id": "18615aa2",
   "metadata": {},
   "outputs": [],
   "source": [
    "#from sklearn.ensemble import RandomForestRegressor\n",
    "\n",
    "#forest_reg = RandomForestRegressor(n_estimators = 30)\n",
    "\n",
    "#forest_reg.fit "
   ]
  },
  {
   "cell_type": "code",
   "execution_count": 17,
   "id": "705ab3c5",
   "metadata": {},
   "outputs": [],
   "source": [
    "# Import data for Seattle \n",
    "seattle_data = pd.read_csv('/Users/jack/Documents/GitHub/geospatial-data-science/labs/lab5/seattle_house_prices.csv')"
   ]
  },
  {
   "cell_type": "code",
   "execution_count": 18,
   "id": "7eb44cfb",
   "metadata": {},
   "outputs": [
    {
     "data": {
      "text/plain": [
       "Index(['price', 'bedrooms', 'bathrooms', 'sqft_living', 'sqft_lot', 'yr_built',\n",
       "       'lat', 'long'],\n",
       "      dtype='object')"
      ]
     },
     "execution_count": 18,
     "metadata": {},
     "output_type": "execute_result"
    }
   ],
   "source": [
    "seattle_data.columns"
   ]
  },
  {
   "cell_type": "code",
   "execution_count": 46,
   "id": "ffcf5edc",
   "metadata": {},
   "outputs": [
    {
     "name": "stdout",
     "output_type": "stream",
     "text": [
      "<class 'pandas.core.frame.DataFrame'>\n",
      "RangeIndex: 19451 entries, 0 to 19450\n",
      "Data columns (total 8 columns):\n",
      " #   Column       Non-Null Count  Dtype  \n",
      "---  ------       --------------  -----  \n",
      " 0   price        19451 non-null  int64  \n",
      " 1   bedrooms     19451 non-null  int64  \n",
      " 2   bathrooms    19451 non-null  float64\n",
      " 3   sqft_living  19451 non-null  int64  \n",
      " 4   sqft_lot     19451 non-null  int64  \n",
      " 5   yr_built     19451 non-null  int64  \n",
      " 6   lat          19451 non-null  float64\n",
      " 7   long         19451 non-null  float64\n",
      "dtypes: float64(3), int64(5)\n",
      "memory usage: 1.2 MB\n"
     ]
    }
   ],
   "source": [
    "seattle_data.info()"
   ]
  },
  {
   "cell_type": "code",
   "execution_count": 34,
   "id": "95e260ba",
   "metadata": {},
   "outputs": [
    {
     "data": {
      "text/html": [
       "<div>\n",
       "<style scoped>\n",
       "    .dataframe tbody tr th:only-of-type {\n",
       "        vertical-align: middle;\n",
       "    }\n",
       "\n",
       "    .dataframe tbody tr th {\n",
       "        vertical-align: top;\n",
       "    }\n",
       "\n",
       "    .dataframe thead th {\n",
       "        text-align: right;\n",
       "    }\n",
       "</style>\n",
       "<table border=\"1\" class=\"dataframe\">\n",
       "  <thead>\n",
       "    <tr style=\"text-align: right;\">\n",
       "      <th></th>\n",
       "      <th>price</th>\n",
       "      <th>bedrooms</th>\n",
       "      <th>bathrooms</th>\n",
       "      <th>sqft_living</th>\n",
       "      <th>sqft_lot</th>\n",
       "      <th>yr_built</th>\n",
       "      <th>lat</th>\n",
       "      <th>long</th>\n",
       "    </tr>\n",
       "  </thead>\n",
       "  <tbody>\n",
       "    <tr>\n",
       "      <th>0</th>\n",
       "      <td>538000</td>\n",
       "      <td>3</td>\n",
       "      <td>2.25</td>\n",
       "      <td>2570</td>\n",
       "      <td>7242</td>\n",
       "      <td>1951</td>\n",
       "      <td>47.7210</td>\n",
       "      <td>-122.319</td>\n",
       "    </tr>\n",
       "    <tr>\n",
       "      <th>1</th>\n",
       "      <td>180000</td>\n",
       "      <td>2</td>\n",
       "      <td>1.00</td>\n",
       "      <td>770</td>\n",
       "      <td>10000</td>\n",
       "      <td>1933</td>\n",
       "      <td>47.7379</td>\n",
       "      <td>-122.233</td>\n",
       "    </tr>\n",
       "    <tr>\n",
       "      <th>2</th>\n",
       "      <td>604000</td>\n",
       "      <td>4</td>\n",
       "      <td>3.00</td>\n",
       "      <td>1960</td>\n",
       "      <td>5000</td>\n",
       "      <td>1965</td>\n",
       "      <td>47.5208</td>\n",
       "      <td>-122.393</td>\n",
       "    </tr>\n",
       "    <tr>\n",
       "      <th>3</th>\n",
       "      <td>510000</td>\n",
       "      <td>3</td>\n",
       "      <td>2.00</td>\n",
       "      <td>1680</td>\n",
       "      <td>8080</td>\n",
       "      <td>1987</td>\n",
       "      <td>47.6168</td>\n",
       "      <td>-122.045</td>\n",
       "    </tr>\n",
       "    <tr>\n",
       "      <th>4</th>\n",
       "      <td>1230000</td>\n",
       "      <td>4</td>\n",
       "      <td>4.50</td>\n",
       "      <td>5420</td>\n",
       "      <td>101930</td>\n",
       "      <td>2001</td>\n",
       "      <td>47.6561</td>\n",
       "      <td>-122.005</td>\n",
       "    </tr>\n",
       "    <tr>\n",
       "      <th>...</th>\n",
       "      <td>...</td>\n",
       "      <td>...</td>\n",
       "      <td>...</td>\n",
       "      <td>...</td>\n",
       "      <td>...</td>\n",
       "      <td>...</td>\n",
       "      <td>...</td>\n",
       "      <td>...</td>\n",
       "    </tr>\n",
       "    <tr>\n",
       "      <th>19446</th>\n",
       "      <td>475000</td>\n",
       "      <td>3</td>\n",
       "      <td>2.50</td>\n",
       "      <td>1310</td>\n",
       "      <td>1294</td>\n",
       "      <td>2008</td>\n",
       "      <td>47.5773</td>\n",
       "      <td>-122.409</td>\n",
       "    </tr>\n",
       "    <tr>\n",
       "      <th>19447</th>\n",
       "      <td>360000</td>\n",
       "      <td>3</td>\n",
       "      <td>2.50</td>\n",
       "      <td>1530</td>\n",
       "      <td>1131</td>\n",
       "      <td>2009</td>\n",
       "      <td>47.6993</td>\n",
       "      <td>-122.346</td>\n",
       "    </tr>\n",
       "    <tr>\n",
       "      <th>19448</th>\n",
       "      <td>400000</td>\n",
       "      <td>4</td>\n",
       "      <td>2.50</td>\n",
       "      <td>2310</td>\n",
       "      <td>5813</td>\n",
       "      <td>2014</td>\n",
       "      <td>47.5107</td>\n",
       "      <td>-122.362</td>\n",
       "    </tr>\n",
       "    <tr>\n",
       "      <th>19449</th>\n",
       "      <td>400000</td>\n",
       "      <td>3</td>\n",
       "      <td>2.50</td>\n",
       "      <td>1600</td>\n",
       "      <td>2388</td>\n",
       "      <td>2004</td>\n",
       "      <td>47.5345</td>\n",
       "      <td>-122.069</td>\n",
       "    </tr>\n",
       "    <tr>\n",
       "      <th>19450</th>\n",
       "      <td>325000</td>\n",
       "      <td>2</td>\n",
       "      <td>0.75</td>\n",
       "      <td>1020</td>\n",
       "      <td>1076</td>\n",
       "      <td>2008</td>\n",
       "      <td>47.5941</td>\n",
       "      <td>-122.299</td>\n",
       "    </tr>\n",
       "  </tbody>\n",
       "</table>\n",
       "<p>19451 rows × 8 columns</p>\n",
       "</div>"
      ],
      "text/plain": [
       "         price  bedrooms  bathrooms  sqft_living  sqft_lot  yr_built      lat  \\\n",
       "0       538000         3       2.25         2570      7242      1951  47.7210   \n",
       "1       180000         2       1.00          770     10000      1933  47.7379   \n",
       "2       604000         4       3.00         1960      5000      1965  47.5208   \n",
       "3       510000         3       2.00         1680      8080      1987  47.6168   \n",
       "4      1230000         4       4.50         5420    101930      2001  47.6561   \n",
       "...        ...       ...        ...          ...       ...       ...      ...   \n",
       "19446   475000         3       2.50         1310      1294      2008  47.5773   \n",
       "19447   360000         3       2.50         1530      1131      2009  47.6993   \n",
       "19448   400000         4       2.50         2310      5813      2014  47.5107   \n",
       "19449   400000         3       2.50         1600      2388      2004  47.5345   \n",
       "19450   325000         2       0.75         1020      1076      2008  47.5941   \n",
       "\n",
       "          long  \n",
       "0     -122.319  \n",
       "1     -122.233  \n",
       "2     -122.393  \n",
       "3     -122.045  \n",
       "4     -122.005  \n",
       "...        ...  \n",
       "19446 -122.409  \n",
       "19447 -122.346  \n",
       "19448 -122.362  \n",
       "19449 -122.069  \n",
       "19450 -122.299  \n",
       "\n",
       "[19451 rows x 8 columns]"
      ]
     },
     "execution_count": 34,
     "metadata": {},
     "output_type": "execute_result"
    }
   ],
   "source": [
    "# Check the number of houses \n",
    "seattle_data"
   ]
  },
  {
   "cell_type": "code",
   "execution_count": 35,
   "id": "5e73da13",
   "metadata": {},
   "outputs": [
    {
     "data": {
      "text/html": [
       "<div>\n",
       "<style scoped>\n",
       "    .dataframe tbody tr th:only-of-type {\n",
       "        vertical-align: middle;\n",
       "    }\n",
       "\n",
       "    .dataframe tbody tr th {\n",
       "        vertical-align: top;\n",
       "    }\n",
       "\n",
       "    .dataframe thead th {\n",
       "        text-align: right;\n",
       "    }\n",
       "</style>\n",
       "<table border=\"1\" class=\"dataframe\">\n",
       "  <thead>\n",
       "    <tr style=\"text-align: right;\">\n",
       "      <th></th>\n",
       "      <th>price</th>\n",
       "      <th>bedrooms</th>\n",
       "      <th>bathrooms</th>\n",
       "      <th>sqft_living</th>\n",
       "      <th>sqft_lot</th>\n",
       "      <th>yr_built</th>\n",
       "      <th>lat</th>\n",
       "      <th>long</th>\n",
       "    </tr>\n",
       "  </thead>\n",
       "  <tbody>\n",
       "    <tr>\n",
       "      <th>0</th>\n",
       "      <td>False</td>\n",
       "      <td>False</td>\n",
       "      <td>False</td>\n",
       "      <td>False</td>\n",
       "      <td>False</td>\n",
       "      <td>False</td>\n",
       "      <td>False</td>\n",
       "      <td>False</td>\n",
       "    </tr>\n",
       "    <tr>\n",
       "      <th>1</th>\n",
       "      <td>False</td>\n",
       "      <td>False</td>\n",
       "      <td>False</td>\n",
       "      <td>False</td>\n",
       "      <td>False</td>\n",
       "      <td>False</td>\n",
       "      <td>False</td>\n",
       "      <td>False</td>\n",
       "    </tr>\n",
       "    <tr>\n",
       "      <th>2</th>\n",
       "      <td>False</td>\n",
       "      <td>False</td>\n",
       "      <td>False</td>\n",
       "      <td>False</td>\n",
       "      <td>False</td>\n",
       "      <td>False</td>\n",
       "      <td>False</td>\n",
       "      <td>False</td>\n",
       "    </tr>\n",
       "    <tr>\n",
       "      <th>3</th>\n",
       "      <td>False</td>\n",
       "      <td>False</td>\n",
       "      <td>False</td>\n",
       "      <td>False</td>\n",
       "      <td>False</td>\n",
       "      <td>False</td>\n",
       "      <td>False</td>\n",
       "      <td>False</td>\n",
       "    </tr>\n",
       "    <tr>\n",
       "      <th>4</th>\n",
       "      <td>False</td>\n",
       "      <td>False</td>\n",
       "      <td>False</td>\n",
       "      <td>False</td>\n",
       "      <td>False</td>\n",
       "      <td>False</td>\n",
       "      <td>False</td>\n",
       "      <td>False</td>\n",
       "    </tr>\n",
       "    <tr>\n",
       "      <th>...</th>\n",
       "      <td>...</td>\n",
       "      <td>...</td>\n",
       "      <td>...</td>\n",
       "      <td>...</td>\n",
       "      <td>...</td>\n",
       "      <td>...</td>\n",
       "      <td>...</td>\n",
       "      <td>...</td>\n",
       "    </tr>\n",
       "    <tr>\n",
       "      <th>19446</th>\n",
       "      <td>False</td>\n",
       "      <td>False</td>\n",
       "      <td>False</td>\n",
       "      <td>False</td>\n",
       "      <td>False</td>\n",
       "      <td>False</td>\n",
       "      <td>False</td>\n",
       "      <td>False</td>\n",
       "    </tr>\n",
       "    <tr>\n",
       "      <th>19447</th>\n",
       "      <td>False</td>\n",
       "      <td>False</td>\n",
       "      <td>False</td>\n",
       "      <td>False</td>\n",
       "      <td>False</td>\n",
       "      <td>False</td>\n",
       "      <td>False</td>\n",
       "      <td>False</td>\n",
       "    </tr>\n",
       "    <tr>\n",
       "      <th>19448</th>\n",
       "      <td>False</td>\n",
       "      <td>False</td>\n",
       "      <td>False</td>\n",
       "      <td>False</td>\n",
       "      <td>False</td>\n",
       "      <td>False</td>\n",
       "      <td>False</td>\n",
       "      <td>False</td>\n",
       "    </tr>\n",
       "    <tr>\n",
       "      <th>19449</th>\n",
       "      <td>False</td>\n",
       "      <td>False</td>\n",
       "      <td>False</td>\n",
       "      <td>False</td>\n",
       "      <td>False</td>\n",
       "      <td>False</td>\n",
       "      <td>False</td>\n",
       "      <td>False</td>\n",
       "    </tr>\n",
       "    <tr>\n",
       "      <th>19450</th>\n",
       "      <td>False</td>\n",
       "      <td>False</td>\n",
       "      <td>False</td>\n",
       "      <td>False</td>\n",
       "      <td>False</td>\n",
       "      <td>False</td>\n",
       "      <td>False</td>\n",
       "      <td>False</td>\n",
       "    </tr>\n",
       "  </tbody>\n",
       "</table>\n",
       "<p>19451 rows × 8 columns</p>\n",
       "</div>"
      ],
      "text/plain": [
       "       price  bedrooms  bathrooms  sqft_living  sqft_lot  yr_built    lat  \\\n",
       "0      False     False      False        False     False     False  False   \n",
       "1      False     False      False        False     False     False  False   \n",
       "2      False     False      False        False     False     False  False   \n",
       "3      False     False      False        False     False     False  False   \n",
       "4      False     False      False        False     False     False  False   \n",
       "...      ...       ...        ...          ...       ...       ...    ...   \n",
       "19446  False     False      False        False     False     False  False   \n",
       "19447  False     False      False        False     False     False  False   \n",
       "19448  False     False      False        False     False     False  False   \n",
       "19449  False     False      False        False     False     False  False   \n",
       "19450  False     False      False        False     False     False  False   \n",
       "\n",
       "        long  \n",
       "0      False  \n",
       "1      False  \n",
       "2      False  \n",
       "3      False  \n",
       "4      False  \n",
       "...      ...  \n",
       "19446  False  \n",
       "19447  False  \n",
       "19448  False  \n",
       "19449  False  \n",
       "19450  False  \n",
       "\n",
       "[19451 rows x 8 columns]"
      ]
     },
     "execution_count": 35,
     "metadata": {},
     "output_type": "execute_result"
    }
   ],
   "source": [
    "seattle_data.isnull()"
   ]
  },
  {
   "cell_type": "code",
   "execution_count": 37,
   "id": "162a8693",
   "metadata": {},
   "outputs": [
    {
     "name": "stdout",
     "output_type": "stream",
     "text": [
      "price          0\n",
      "bedrooms       0\n",
      "bathrooms      0\n",
      "sqft_living    0\n",
      "sqft_lot       0\n",
      "yr_built       0\n",
      "lat            0\n",
      "long           0\n",
      "dtype: int64\n"
     ]
    }
   ],
   "source": [
    "# Check the null value in dataset \n",
    "print(seattle_data.isnull().sum())"
   ]
  },
  {
   "cell_type": "code",
   "execution_count": 53,
   "id": "f2f41506",
   "metadata": {},
   "outputs": [],
   "source": [
    "# Convert DataFrame to GeoDataFrame\n",
    "seattle_gdf = gpd.GeoDataFrame(seattle_data, geometry=gpd.points_from_xy(seattle_data['long'], seattle_data['lat']))\n",
    "seattle_gdf = seattle_gdf.set_crs(4326, allow_override=True)\n",
    "\n",
    "# Reproject everything to UTM 10N (EPSG:32610)\n",
    "seattle_gdf_utm = seattle_gdf.to_crs('EPSG:32610')\n",
    "coast_utm = coast.to_crs('EPSG:32610')"
   ]
  },
  {
   "cell_type": "code",
   "execution_count": 54,
   "id": "00cd9b24",
   "metadata": {},
   "outputs": [],
   "source": [
    "# Compute distance to coast\n",
    "distance_to_coast = []\n",
    "for i in range(gdf_utm.shape[0]):\n",
    "    distance_to_coast.append(coast_utm.distance(gdf_utm['geometry'].iloc[i]).min())\n",
    "    \n",
    "# Add to DataFrame\n",
    "gdf_utm['distance_to_coast'] = distance_to_coast"
   ]
  },
  {
   "cell_type": "code",
   "execution_count": 55,
   "id": "28244701",
   "metadata": {},
   "outputs": [
    {
     "data": {
      "text/plain": [
       "<matplotlib.colorbar.Colorbar at 0x7ffe9eeba4f0>"
      ]
     },
     "execution_count": 55,
     "metadata": {},
     "output_type": "execute_result"
    },
    {
     "data": {
      "image/png": "[encoded data removed]",
      "text/plain": [
       "<Figure size 432x288 with 2 Axes>"
      ]
     },
     "metadata": {
      "needs_background": "light"
     },
     "output_type": "display_data"
    }
   ],
   "source": [
    "# Quickly check that it worked!\n",
    "plt.scatter(gdf_utm['long'], gdf_utm['lat'], c=gdf_utm['distance_to_coast'])\n",
    "plt.colorbar()"
   ]
  },
  {
   "cell_type": "code",
   "execution_count": 56,
   "id": "84836f5a",
   "metadata": {},
   "outputs": [
    {
     "data": {
      "text/plain": [
       "price                1.000000\n",
       "sqft_living          0.702296\n",
       "bathrooms            0.524395\n",
       "bedrooms             0.315804\n",
       "distance_to_coast    0.313581\n",
       "lat                  0.308082\n",
       "sqft_lot             0.090125\n",
       "yr_built             0.052453\n",
       "long                 0.020092\n",
       "Name: price, dtype: float64"
      ]
     },
     "execution_count": 56,
     "metadata": {},
     "output_type": "execute_result"
    }
   ],
   "source": [
    "# Compute correlation matrix\n",
    "corr_matrix = gdf_utm.corr()\n",
    "\n",
    "# Display just house value correlations\n",
    "corr_matrix[\"price\"].sort_values(ascending= False)"
   ]
  },
  {
   "cell_type": "code",
   "execution_count": 57,
   "id": "5d7d304f",
   "metadata": {},
   "outputs": [
    {
     "data": {
      "text/plain": [
       "Index(['price', 'bedrooms', 'bathrooms', 'sqft_living', 'sqft_lot', 'yr_built',\n",
       "       'lat', 'long', 'geometry'],\n",
       "      dtype='object')"
      ]
     },
     "execution_count": 57,
     "metadata": {},
     "output_type": "execute_result"
    }
   ],
   "source": [
    "seattle_data.columns"
   ]
  },
  {
   "cell_type": "code",
   "execution_count": 58,
   "id": "a6a75234",
   "metadata": {},
   "outputs": [
    {
     "data": {
      "text/plain": [
       "<bound method DataFrame.info of          price  bedrooms  bathrooms  sqft_living  sqft_lot  yr_built      lat  \\\n",
       "0       538000         3       2.25         2570      7242      1951  47.7210   \n",
       "1       180000         2       1.00          770     10000      1933  47.7379   \n",
       "2       604000         4       3.00         1960      5000      1965  47.5208   \n",
       "3       510000         3       2.00         1680      8080      1987  47.6168   \n",
       "4      1230000         4       4.50         5420    101930      2001  47.6561   \n",
       "...        ...       ...        ...          ...       ...       ...      ...   \n",
       "19446   475000         3       2.50         1310      1294      2008  47.5773   \n",
       "19447   360000         3       2.50         1530      1131      2009  47.6993   \n",
       "19448   400000         4       2.50         2310      5813      2014  47.5107   \n",
       "19449   400000         3       2.50         1600      2388      2004  47.5345   \n",
       "19450   325000         2       0.75         1020      1076      2008  47.5941   \n",
       "\n",
       "          long                     geometry  \n",
       "0     -122.319  POINT (-122.31900 47.72100)  \n",
       "1     -122.233  POINT (-122.23300 47.73790)  \n",
       "2     -122.393  POINT (-122.39300 47.52080)  \n",
       "3     -122.045  POINT (-122.04500 47.61680)  \n",
       "4     -122.005  POINT (-122.00500 47.65610)  \n",
       "...        ...                          ...  \n",
       "19446 -122.409  POINT (-122.40900 47.57730)  \n",
       "19447 -122.346  POINT (-122.34600 47.69930)  \n",
       "19448 -122.362  POINT (-122.36200 47.51070)  \n",
       "19449 -122.069  POINT (-122.06900 47.53450)  \n",
       "19450 -122.299  POINT (-122.29900 47.59410)  \n",
       "\n",
       "[19451 rows x 9 columns]>"
      ]
     },
     "execution_count": 58,
     "metadata": {},
     "output_type": "execute_result"
    }
   ],
   "source": [
    "seattle_data.info"
   ]
  },
  {
   "cell_type": "code",
   "execution_count": 61,
   "id": "8778ddb8",
   "metadata": {},
   "outputs": [],
   "source": [
    "# Define feature list\n",
    "seattle_feature_list =  ['price', 'bedrooms', 'bathrooms', 'sqft_living', 'sqft_lot', 'yr_built', 'lat', 'long']\n",
    "\n",
    "# Define features and labels \n",
    "X = gdf_utm[seattle_feature_list]\n",
    "y = gdf_utm['price']\n",
    "\n",
    "# Standarize data\n",
    "scaler = StandardScaler()  \n",
    "X_scaled = scaler.fit_transform(X)"
   ]
  },
  {
   "cell_type": "code",
   "execution_count": 62,
   "id": "a7bc4064",
   "metadata": {},
   "outputs": [],
   "source": [
    "# Split data \n",
    "X_train, X_test, y_train, y_test = train_test_split(X_scaled, y, test_size=0.2, random_state=42)"
   ]
  },
  {
   "cell_type": "code",
   "execution_count": 64,
   "id": "f6c85f37",
   "metadata": {},
   "outputs": [
    {
     "data": {
      "text/plain": [
       "RandomForestRegressor(n_estimators=30)"
      ]
     },
     "execution_count": 64,
     "metadata": {},
     "output_type": "execute_result"
    }
   ],
   "source": [
    "# Define model\n",
    "forest_reg = RandomForestRegressor(n_estimators = 30)\n",
    "\n",
    "# Fit model\n",
    "forest_reg.fit(X_train, y_train)"
   ]
  },
  {
   "cell_type": "code",
   "execution_count": 67,
   "id": "63dcae9e",
   "metadata": {},
   "outputs": [
    {
     "data": {
      "text/plain": [
       "26690.897649870793"
      ]
     },
     "execution_count": 67,
     "metadata": {},
     "output_type": "execute_result"
    }
   ],
   "source": [
    "# Predict test labels predictions\n",
    "seattle_predictions = forest_reg.predict(X_test)\n",
    "\n",
    "# Compute mean-squared-error\n",
    "final_mse = mean_squared_error(y_test , predictions)\n",
    "final_rmse = np.sqrt(final_mse)\n",
    "final_rmse"
   ]
  },
  {
   "cell_type": "code",
   "execution_count": null,
   "id": "f47c1897",
   "metadata": {},
   "outputs": [],
   "source": []
  },
  {
   "cell_type": "markdown",
   "id": "ae844f8e",
   "metadata": {},
   "source": [
    "# Questions/Answers"
   ]
  },
  {
   "cell_type": "raw",
   "id": "e028a1f3",
   "metadata": {},
   "source": [
    "1. How many houses are in this dataset?\n",
    "There are 19451 houses in this dataset. \n",
    "\n",
    "2. How many features are there for predicting house price?\n",
    "All 7 features, (bedrooms,bathrooms, sqft_living, sqft_lot, yr_built, lat,long) can predict the house price because the number of bedroom, bathroom, the area size, the age of the house and its location can affect prices. \n",
    "\n",
    "3. Are there any null values in this dataset?\n",
    "There are no null values in this dataset. \n",
    "\n",
    "4. Which three variables are best correlated with house price (include correlation coefficients)?\n",
    "The number of bedrooms, bathroom and total house square footage of the house are best correlated with house price. \n",
    "\n",
    "5. Which three variables are least correlated with house price (include correlation coefficients)?\n",
    "The age of the house, latitude and longitude are least correlated with house price. \n"
   ]
  },
  {
   "cell_type": "code",
   "execution_count": null,
   "id": "385daf0f",
   "metadata": {},
   "outputs": [],
   "source": []
  },
  {
   "cell_type": "markdown",
   "id": "3d6d2c0b",
   "metadata": {},
   "source": [
    "# Insang Demo"
   ]
  },
  {
   "cell_type": "code",
   "execution_count": 73,
   "id": "a57896e9",
   "metadata": {},
   "outputs": [],
   "source": [
    "from shapely.geometry import Point\n",
    "rand_point = Point(5.6e5, 5.27e6)\n",
    "rand_gdf = gpd.GeoDataFrame(geometry = [rand_point])\n"
   ]
  },
  {
   "cell_type": "code",
   "execution_count": 74,
   "id": "a80078b6",
   "metadata": {},
   "outputs": [
    {
     "data": {
      "text/plain": [
       "<AxesSubplot:>"
      ]
     },
     "execution_count": 74,
     "metadata": {},
     "output_type": "execute_result"
    },
    {
     "data": {
      "image/png": "[encoded data removed]",
      "text/plain": [
       "<Figure size 432x288 with 1 Axes>"
      ]
     },
     "metadata": {
      "needs_background": "light"
     },
     "output_type": "display_data"
    }
   ],
   "source": [
    "rand_gdf.plot()"
   ]
  },
  {
   "cell_type": "code",
   "execution_count": null,
   "id": "44331567",
   "metadata": {},
   "outputs": [],
   "source": []
  }
 ],
 "metadata": {
  "kernelspec": {
   "display_name": "Python 3 (ipykernel)",
   "language": "python",
   "name": "python3"
  },
  "language_info": {
   "codemirror_mode": {
    "name": "ipython",
    "version": 3
   },
   "file_extension": ".py",
   "mimetype": "text/x-python",
   "name": "python",
   "nbconvert_exporter": "python",
   "pygments_lexer": "ipython3",
   "version": "3.8.12"
  }
 },
 "nbformat": 4,
 "nbformat_minor": 5
}
