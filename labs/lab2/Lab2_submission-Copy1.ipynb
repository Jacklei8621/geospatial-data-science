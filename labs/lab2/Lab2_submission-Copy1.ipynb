{
 "cells": [
  {
   "cell_type": "code",
   "execution_count": 1,
   "id": "10429cb3",
   "metadata": {},
   "outputs": [],
   "source": [
    "# Import modules\n",
    "import pandas as pd\n",
    "import geopandas as gpd\n",
    "import matplotlib.pyplot as plt\n"
   ]
  },
  {
   "cell_type": "code",
   "execution_count": 2,
   "id": "5ec36786",
   "metadata": {},
   "outputs": [],
   "source": [
    "# Define data filepath\n",
    "pathname = '/Users/jack/Documents/GitHub/geospatial-data-science/labs/lab2/wildfire_data/'\n",
    "\n",
    "# Read data\n",
    "df = gpd.read_file(pathname + 'or_1992-2018.shp') # 'df' stands for DataFrame"
   ]
  },
  {
   "cell_type": "code",
   "execution_count": 3,
   "id": "ebe610ac",
   "metadata": {},
   "outputs": [
    {
     "data": {
      "text/plain": [
       "Index(['OBJECTID', 'FOD_ID', 'FPA_ID', 'SOURCE_SYS', 'SOURCE_S_1',\n",
       "       'NWCG_REPOR', 'NWCG_REP_1', 'NWCG_REP_2', 'SOURCE_REP', 'SOURCE_R_1',\n",
       "       'LOCAL_FIRE', 'LOCAL_INCI', 'FIRE_CODE', 'FIRE_NAME', 'ICS_209_PL',\n",
       "       'ICS_209__1', 'MTBS_ID', 'MTBS_FIRE_', 'COMPLEX_NA', 'FIRE_YEAR',\n",
       "       'DISCOVERY_', 'DISCOVER_1', 'DISCOVER_2', 'NWCG_CAUSE', 'NWCG_GENER',\n",
       "       'NWCG_CAU_1', 'CONT_DATE', 'CONT_DOY', 'CONT_TIME', 'FIRE_SIZE',\n",
       "       'FIRE_SIZE_', 'LATITUDE', 'LONGITUDE', 'OWNER_DESC', 'STATE', 'COUNTY',\n",
       "       'FIPS_CODE', 'FIPS_NAME', 'geometry'],\n",
       "      dtype='object')"
      ]
     },
     "execution_count": 3,
     "metadata": {},
     "output_type": "execute_result"
    }
   ],
   "source": [
    "# Find column labels\n",
    "df.columns"
   ]
  },
  {
   "cell_type": "code",
   "execution_count": 4,
   "id": "d39f15f1",
   "metadata": {},
   "outputs": [
    {
     "data": {
      "text/plain": [
       "OBJECTID       float64\n",
       "FOD_ID           int64\n",
       "FPA_ID          object\n",
       "SOURCE_SYS      object\n",
       "SOURCE_S_1      object\n",
       "NWCG_REPOR      object\n",
       "NWCG_REP_1      object\n",
       "NWCG_REP_2      object\n",
       "SOURCE_REP      object\n",
       "SOURCE_R_1      object\n",
       "LOCAL_FIRE      object\n",
       "LOCAL_INCI      object\n",
       "FIRE_CODE       object\n",
       "FIRE_NAME       object\n",
       "ICS_209_PL      object\n",
       "ICS_209__1      object\n",
       "MTBS_ID         object\n",
       "MTBS_FIRE_      object\n",
       "COMPLEX_NA      object\n",
       "FIRE_YEAR        int64\n",
       "DISCOVERY_      object\n",
       "DISCOVER_1       int64\n",
       "DISCOVER_2      object\n",
       "NWCG_CAUSE      object\n",
       "NWCG_GENER      object\n",
       "NWCG_CAU_1      object\n",
       "CONT_DATE       object\n",
       "CONT_DOY       float64\n",
       "CONT_TIME       object\n",
       "FIRE_SIZE      float64\n",
       "FIRE_SIZE_      object\n",
       "LATITUDE       float64\n",
       "LONGITUDE      float64\n",
       "OWNER_DESC      object\n",
       "STATE           object\n",
       "COUNTY          object\n",
       "FIPS_CODE       object\n",
       "FIPS_NAME       object\n",
       "geometry      geometry\n",
       "dtype: object"
      ]
     },
     "execution_count": 4,
     "metadata": {},
     "output_type": "execute_result"
    }
   ],
   "source": [
    "# Find columns datatypes\n",
    "df.dtypes"
   ]
  },
  {
   "cell_type": "code",
   "execution_count": 5,
   "id": "3ab56114",
   "metadata": {},
   "outputs": [
    {
     "data": {
      "text/plain": [
       "count     67042.000000\n",
       "mean        144.878795\n",
       "std        3815.600420\n",
       "min           0.010000\n",
       "25%           0.100000\n",
       "50%           0.100000\n",
       "75%           0.330000\n",
       "max      558198.300000\n",
       "Name: FIRE_SIZE, dtype: float64"
      ]
     },
     "execution_count": 5,
     "metadata": {},
     "output_type": "execute_result"
    }
   ],
   "source": [
    "# Get some stats for numeric columns\n",
    "df['FIRE_SIZE'].describe()"
   ]
  },
  {
   "cell_type": "code",
   "execution_count": 6,
   "id": "e685f9f9",
   "metadata": {},
   "outputs": [],
   "source": [
    "# Filter fires larger than 100 acres\n",
    "df_large = df[df['FIRE_SIZE'] > 100]"
   ]
  },
  {
   "cell_type": "code",
   "execution_count": 7,
   "id": "d8be40be",
   "metadata": {},
   "outputs": [
    {
     "data": {
      "text/plain": [
       "5077.047927022739"
      ]
     },
     "execution_count": 7,
     "metadata": {},
     "output_type": "execute_result"
    }
   ],
   "source": [
    "# Find mean size of wildfires larger than 100 acres\n",
    "df_large['FIRE_SIZE'].mean()"
   ]
  },
  {
   "cell_type": "code",
   "execution_count": 8,
   "id": "bdfed504",
   "metadata": {},
   "outputs": [
    {
     "data": {
      "text/plain": [
       "array(['Human', 'Natural', 'Missing data/not specified/undetermined'],\n",
       "      dtype=object)"
      ]
     },
     "execution_count": 8,
     "metadata": {},
     "output_type": "execute_result"
    }
   ],
   "source": [
    "# Find the different cause of large wildfires\n",
    "df_large['NWCG_CAUSE'].unique()"
   ]
  },
  {
   "cell_type": "code",
   "execution_count": 9,
   "id": "432f63c7",
   "metadata": {},
   "outputs": [],
   "source": [
    "# Filter fires that were caused by natural causes\n",
    "df_large_natural = df_large[df_large['NWCG_CAUSE'] == 'Natural']"
   ]
  },
  {
   "cell_type": "code",
   "execution_count": 10,
   "id": "0cbd814b",
   "metadata": {},
   "outputs": [
    {
     "data": {
      "text/plain": [
       "56       2008/07/02 00:00:00.000\n",
       "89       2000/07/22 00:00:00.000\n",
       "95       2007/08/31 00:00:00.000\n",
       "96       2003/06/29 00:00:00.000\n",
       "109      2007/07/13 00:00:00.000\n",
       "                  ...           \n",
       "67007    2017/08/29 00:00:00.000\n",
       "67008    2011/09/15 00:00:00.000\n",
       "67014    2014/09/16 00:00:00.000\n",
       "67017    2013/08/07 00:00:00.000\n",
       "67022    2016/08/17 00:00:00.000\n",
       "Name: DISCOVERY_, Length: 1164, dtype: object"
      ]
     },
     "execution_count": 10,
     "metadata": {},
     "output_type": "execute_result"
    }
   ],
   "source": [
    "# Find date of discovery\n",
    "df_large_natural['DISCOVERY_']"
   ]
  },
  {
   "cell_type": "code",
   "execution_count": 11,
   "id": "e7f1b281",
   "metadata": {},
   "outputs": [
    {
     "data": {
      "text/plain": [
       "56      2008-07-02\n",
       "89      2000-07-22\n",
       "95      2007-08-31\n",
       "96      2003-06-29\n",
       "109     2007-07-13\n",
       "           ...    \n",
       "67007   2017-08-29\n",
       "67008   2011-09-15\n",
       "67014   2014-09-16\n",
       "67017   2013-08-07\n",
       "67022   2016-08-17\n",
       "Name: DISCOVERY_, Length: 1164, dtype: datetime64[ns]"
      ]
     },
     "execution_count": 11,
     "metadata": {},
     "output_type": "execute_result"
    }
   ],
   "source": [
    "datetime = pd.to_datetime(df_large_natural['DISCOVERY_'], format='%Y/%m/%d %H:%M:%S.%f')\n",
    "datetime"
   ]
  },
  {
   "cell_type": "code",
   "execution_count": 12,
   "id": "96126b3c",
   "metadata": {},
   "outputs": [
    {
     "name": "stderr",
     "output_type": "stream",
     "text": [
      "/Users/jack/Documents/Anaconda3/anaconda3/envs/lab2/lib/python3.8/site-packages/geopandas/geodataframe.py:1351: SettingWithCopyWarning: \n",
      "A value is trying to be set on a copy of a slice from a DataFrame.\n",
      "Try using .loc[row_indexer,col_indexer] = value instead\n",
      "\n",
      "See the caveats in the documentation: https://pandas.pydata.org/pandas-docs/stable/user_guide/indexing.html#returning-a-view-versus-a-copy\n",
      "  super().__setitem__(key, value)\n"
     ]
    }
   ],
   "source": [
    "df_large_natural['datetime'] = datetime # Sorry about the warning, extra credit if someone can fix this!"
   ]
  },
  {
   "cell_type": "code",
   "execution_count": 13,
   "id": "0004941d",
   "metadata": {},
   "outputs": [],
   "source": [
    "# Filter large, natural wildfires in 2016\n",
    "df_large_natural_2016 = df_large_natural[df_large_natural['datetime'].dt.year == 2016]"
   ]
  },
  {
   "cell_type": "code",
   "execution_count": 14,
   "id": "0bf9deb3",
   "metadata": {},
   "outputs": [],
   "source": [
    "# Find number of large fires in each year (i.e. number of rows in each year)\n",
    "large_fire_count = df_large.iloc[:,0].groupby(df_large_natural['datetime'].dt.year).count()"
   ]
  },
  {
   "cell_type": "code",
   "execution_count": 15,
   "id": "e544f0c6",
   "metadata": {},
   "outputs": [],
   "source": [
    "# Find acres of wildfire for each year\n",
    "large_fire_area = df_large['FIRE_SIZE'].groupby(df_large_natural['datetime'].dt.year).sum()"
   ]
  },
  {
   "cell_type": "code",
   "execution_count": 16,
   "id": "19b572b0",
   "metadata": {},
   "outputs": [
    {
     "data": {
      "image/png": "[encoded data removed]",
      "text/plain": [
       "<Figure size 720x576 with 2 Axes>"
      ]
     },
     "metadata": {
      "needs_background": "light"
     },
     "output_type": "display_data"
    }
   ],
   "source": [
    "# Plot number and acres of wildfire for each year\n",
    "fig, (ax1, ax2) = plt.subplots(nrows=2, ncols=1, figsize=(10,8), sharex=True)\n",
    "ax1.plot(large_fire_count, lw=2)\n",
    "ax1.set_ylabel('Number of fires (>100 acres)', fontsize=14)\n",
    "ax1.tick_params(axis='x', labelsize=14)\n",
    "ax1.tick_params(axis='y', labelsize=14)\n",
    "ax1.grid(ls='dotted', lw=2, alpha=0.5)\n",
    "\n",
    "ax2.plot(large_fire_area, lw=2)\n",
    "ax2.set_ylabel('Area of fires (>100 acres)', fontsize=14)\n",
    "ax2.tick_params(axis='x', labelsize=14)\n",
    "ax2.tick_params(axis='y', labelsize=14)\n",
    "ax2.grid(ls='dotted', lw=2, alpha=0.5)"
   ]
  },
  {
   "cell_type": "markdown",
   "id": "c3937603",
   "metadata": {},
   "source": [
    "# Question 1a\n"
   ]
  },
  {
   "cell_type": "code",
   "execution_count": 17,
   "id": "0164b84b",
   "metadata": {},
   "outputs": [],
   "source": [
    "\n",
    "#df_large['FIRE_SIZE'].groupby(df_large_natural)\n",
    "df_large = df[df['FIRE_SIZE'] > 50]"
   ]
  },
  {
   "cell_type": "code",
   "execution_count": 18,
   "id": "d75a80dd",
   "metadata": {},
   "outputs": [],
   "source": [
    "# Find the fire area in acres\n",
    "#large_fire_area = df_large['FIRE_SIZE'].groupby(df_large_natural['datetime'].dt.year).sum()"
   ]
  },
  {
   "cell_type": "code",
   "execution_count": 19,
   "id": "8771d610",
   "metadata": {},
   "outputs": [],
   "source": [
    "# Filter fires that were caused by human causes\n",
    "df_large = df_large[df_large['NWCG_CAUSE'] == 'Human']"
   ]
  },
  {
   "cell_type": "code",
   "execution_count": 20,
   "id": "f0e4a1cf",
   "metadata": {},
   "outputs": [],
   "source": [
    "most_count = df_large.groupby('FIPS_NAME').count()"
   ]
  },
  {
   "cell_type": "code",
   "execution_count": 21,
   "id": "299c8378",
   "metadata": {
    "scrolled": false
   },
   "outputs": [
    {
     "data": {
      "text/html": [
       "<div>\n",
       "<style scoped>\n",
       "    .dataframe tbody tr th:only-of-type {\n",
       "        vertical-align: middle;\n",
       "    }\n",
       "\n",
       "    .dataframe tbody tr th {\n",
       "        vertical-align: top;\n",
       "    }\n",
       "\n",
       "    .dataframe thead th {\n",
       "        text-align: right;\n",
       "    }\n",
       "</style>\n",
       "<table border=\"1\" class=\"dataframe\">\n",
       "  <thead>\n",
       "    <tr style=\"text-align: right;\">\n",
       "      <th></th>\n",
       "      <th>OBJECTID</th>\n",
       "      <th>FOD_ID</th>\n",
       "      <th>FPA_ID</th>\n",
       "      <th>SOURCE_SYS</th>\n",
       "      <th>SOURCE_S_1</th>\n",
       "      <th>NWCG_REPOR</th>\n",
       "      <th>NWCG_REP_1</th>\n",
       "      <th>NWCG_REP_2</th>\n",
       "      <th>SOURCE_REP</th>\n",
       "      <th>SOURCE_R_1</th>\n",
       "      <th>...</th>\n",
       "      <th>CONT_TIME</th>\n",
       "      <th>FIRE_SIZE</th>\n",
       "      <th>FIRE_SIZE_</th>\n",
       "      <th>LATITUDE</th>\n",
       "      <th>LONGITUDE</th>\n",
       "      <th>OWNER_DESC</th>\n",
       "      <th>STATE</th>\n",
       "      <th>COUNTY</th>\n",
       "      <th>FIPS_CODE</th>\n",
       "      <th>geometry</th>\n",
       "    </tr>\n",
       "    <tr>\n",
       "      <th>FIPS_NAME</th>\n",
       "      <th></th>\n",
       "      <th></th>\n",
       "      <th></th>\n",
       "      <th></th>\n",
       "      <th></th>\n",
       "      <th></th>\n",
       "      <th></th>\n",
       "      <th></th>\n",
       "      <th></th>\n",
       "      <th></th>\n",
       "      <th></th>\n",
       "      <th></th>\n",
       "      <th></th>\n",
       "      <th></th>\n",
       "      <th></th>\n",
       "      <th></th>\n",
       "      <th></th>\n",
       "      <th></th>\n",
       "      <th></th>\n",
       "      <th></th>\n",
       "      <th></th>\n",
       "    </tr>\n",
       "  </thead>\n",
       "  <tbody>\n",
       "    <tr>\n",
       "      <th>Adams County</th>\n",
       "      <td>1</td>\n",
       "      <td>1</td>\n",
       "      <td>1</td>\n",
       "      <td>1</td>\n",
       "      <td>1</td>\n",
       "      <td>1</td>\n",
       "      <td>1</td>\n",
       "      <td>1</td>\n",
       "      <td>1</td>\n",
       "      <td>1</td>\n",
       "      <td>...</td>\n",
       "      <td>1</td>\n",
       "      <td>1</td>\n",
       "      <td>1</td>\n",
       "      <td>1</td>\n",
       "      <td>1</td>\n",
       "      <td>1</td>\n",
       "      <td>1</td>\n",
       "      <td>1</td>\n",
       "      <td>1</td>\n",
       "      <td>1</td>\n",
       "    </tr>\n",
       "    <tr>\n",
       "      <th>Tillamook County</th>\n",
       "      <td>1</td>\n",
       "      <td>1</td>\n",
       "      <td>1</td>\n",
       "      <td>1</td>\n",
       "      <td>1</td>\n",
       "      <td>1</td>\n",
       "      <td>1</td>\n",
       "      <td>1</td>\n",
       "      <td>1</td>\n",
       "      <td>1</td>\n",
       "      <td>...</td>\n",
       "      <td>1</td>\n",
       "      <td>1</td>\n",
       "      <td>1</td>\n",
       "      <td>1</td>\n",
       "      <td>1</td>\n",
       "      <td>1</td>\n",
       "      <td>1</td>\n",
       "      <td>1</td>\n",
       "      <td>1</td>\n",
       "      <td>1</td>\n",
       "    </tr>\n",
       "    <tr>\n",
       "      <th>Columbia County</th>\n",
       "      <td>1</td>\n",
       "      <td>1</td>\n",
       "      <td>1</td>\n",
       "      <td>1</td>\n",
       "      <td>1</td>\n",
       "      <td>1</td>\n",
       "      <td>1</td>\n",
       "      <td>1</td>\n",
       "      <td>1</td>\n",
       "      <td>1</td>\n",
       "      <td>...</td>\n",
       "      <td>1</td>\n",
       "      <td>1</td>\n",
       "      <td>1</td>\n",
       "      <td>1</td>\n",
       "      <td>1</td>\n",
       "      <td>1</td>\n",
       "      <td>1</td>\n",
       "      <td>1</td>\n",
       "      <td>1</td>\n",
       "      <td>1</td>\n",
       "    </tr>\n",
       "    <tr>\n",
       "      <th>Yamhill County</th>\n",
       "      <td>1</td>\n",
       "      <td>1</td>\n",
       "      <td>1</td>\n",
       "      <td>1</td>\n",
       "      <td>1</td>\n",
       "      <td>1</td>\n",
       "      <td>1</td>\n",
       "      <td>1</td>\n",
       "      <td>1</td>\n",
       "      <td>1</td>\n",
       "      <td>...</td>\n",
       "      <td>1</td>\n",
       "      <td>1</td>\n",
       "      <td>1</td>\n",
       "      <td>1</td>\n",
       "      <td>1</td>\n",
       "      <td>1</td>\n",
       "      <td>1</td>\n",
       "      <td>1</td>\n",
       "      <td>1</td>\n",
       "      <td>1</td>\n",
       "    </tr>\n",
       "    <tr>\n",
       "      <th>Klickitat County</th>\n",
       "      <td>2</td>\n",
       "      <td>2</td>\n",
       "      <td>2</td>\n",
       "      <td>2</td>\n",
       "      <td>2</td>\n",
       "      <td>2</td>\n",
       "      <td>2</td>\n",
       "      <td>2</td>\n",
       "      <td>2</td>\n",
       "      <td>2</td>\n",
       "      <td>...</td>\n",
       "      <td>2</td>\n",
       "      <td>2</td>\n",
       "      <td>2</td>\n",
       "      <td>2</td>\n",
       "      <td>2</td>\n",
       "      <td>2</td>\n",
       "      <td>2</td>\n",
       "      <td>2</td>\n",
       "      <td>2</td>\n",
       "      <td>2</td>\n",
       "    </tr>\n",
       "    <tr>\n",
       "      <th>Washington County</th>\n",
       "      <td>2</td>\n",
       "      <td>2</td>\n",
       "      <td>2</td>\n",
       "      <td>2</td>\n",
       "      <td>2</td>\n",
       "      <td>2</td>\n",
       "      <td>2</td>\n",
       "      <td>2</td>\n",
       "      <td>2</td>\n",
       "      <td>2</td>\n",
       "      <td>...</td>\n",
       "      <td>1</td>\n",
       "      <td>2</td>\n",
       "      <td>2</td>\n",
       "      <td>2</td>\n",
       "      <td>2</td>\n",
       "      <td>2</td>\n",
       "      <td>2</td>\n",
       "      <td>2</td>\n",
       "      <td>2</td>\n",
       "      <td>2</td>\n",
       "    </tr>\n",
       "    <tr>\n",
       "      <th>Clatsop County</th>\n",
       "      <td>3</td>\n",
       "      <td>3</td>\n",
       "      <td>3</td>\n",
       "      <td>3</td>\n",
       "      <td>3</td>\n",
       "      <td>3</td>\n",
       "      <td>3</td>\n",
       "      <td>3</td>\n",
       "      <td>3</td>\n",
       "      <td>3</td>\n",
       "      <td>...</td>\n",
       "      <td>2</td>\n",
       "      <td>3</td>\n",
       "      <td>3</td>\n",
       "      <td>3</td>\n",
       "      <td>3</td>\n",
       "      <td>3</td>\n",
       "      <td>3</td>\n",
       "      <td>3</td>\n",
       "      <td>3</td>\n",
       "      <td>3</td>\n",
       "    </tr>\n",
       "    <tr>\n",
       "      <th>Multnomah County</th>\n",
       "      <td>3</td>\n",
       "      <td>3</td>\n",
       "      <td>3</td>\n",
       "      <td>3</td>\n",
       "      <td>3</td>\n",
       "      <td>3</td>\n",
       "      <td>3</td>\n",
       "      <td>3</td>\n",
       "      <td>3</td>\n",
       "      <td>3</td>\n",
       "      <td>...</td>\n",
       "      <td>2</td>\n",
       "      <td>3</td>\n",
       "      <td>3</td>\n",
       "      <td>3</td>\n",
       "      <td>3</td>\n",
       "      <td>3</td>\n",
       "      <td>3</td>\n",
       "      <td>3</td>\n",
       "      <td>3</td>\n",
       "      <td>3</td>\n",
       "    </tr>\n",
       "    <tr>\n",
       "      <th>Polk County</th>\n",
       "      <td>4</td>\n",
       "      <td>4</td>\n",
       "      <td>4</td>\n",
       "      <td>4</td>\n",
       "      <td>4</td>\n",
       "      <td>4</td>\n",
       "      <td>4</td>\n",
       "      <td>4</td>\n",
       "      <td>4</td>\n",
       "      <td>4</td>\n",
       "      <td>...</td>\n",
       "      <td>0</td>\n",
       "      <td>4</td>\n",
       "      <td>4</td>\n",
       "      <td>4</td>\n",
       "      <td>4</td>\n",
       "      <td>4</td>\n",
       "      <td>4</td>\n",
       "      <td>4</td>\n",
       "      <td>4</td>\n",
       "      <td>4</td>\n",
       "    </tr>\n",
       "    <tr>\n",
       "      <th>Clackamas County</th>\n",
       "      <td>4</td>\n",
       "      <td>4</td>\n",
       "      <td>4</td>\n",
       "      <td>4</td>\n",
       "      <td>4</td>\n",
       "      <td>4</td>\n",
       "      <td>4</td>\n",
       "      <td>4</td>\n",
       "      <td>4</td>\n",
       "      <td>4</td>\n",
       "      <td>...</td>\n",
       "      <td>3</td>\n",
       "      <td>4</td>\n",
       "      <td>4</td>\n",
       "      <td>4</td>\n",
       "      <td>4</td>\n",
       "      <td>4</td>\n",
       "      <td>4</td>\n",
       "      <td>4</td>\n",
       "      <td>4</td>\n",
       "      <td>4</td>\n",
       "    </tr>\n",
       "    <tr>\n",
       "      <th>Benton County</th>\n",
       "      <td>5</td>\n",
       "      <td>5</td>\n",
       "      <td>5</td>\n",
       "      <td>5</td>\n",
       "      <td>5</td>\n",
       "      <td>5</td>\n",
       "      <td>5</td>\n",
       "      <td>5</td>\n",
       "      <td>5</td>\n",
       "      <td>5</td>\n",
       "      <td>...</td>\n",
       "      <td>3</td>\n",
       "      <td>5</td>\n",
       "      <td>5</td>\n",
       "      <td>5</td>\n",
       "      <td>5</td>\n",
       "      <td>5</td>\n",
       "      <td>5</td>\n",
       "      <td>5</td>\n",
       "      <td>5</td>\n",
       "      <td>5</td>\n",
       "    </tr>\n",
       "    <tr>\n",
       "      <th>Hood River County</th>\n",
       "      <td>5</td>\n",
       "      <td>5</td>\n",
       "      <td>5</td>\n",
       "      <td>5</td>\n",
       "      <td>5</td>\n",
       "      <td>5</td>\n",
       "      <td>5</td>\n",
       "      <td>5</td>\n",
       "      <td>5</td>\n",
       "      <td>5</td>\n",
       "      <td>...</td>\n",
       "      <td>3</td>\n",
       "      <td>5</td>\n",
       "      <td>5</td>\n",
       "      <td>5</td>\n",
       "      <td>5</td>\n",
       "      <td>5</td>\n",
       "      <td>5</td>\n",
       "      <td>5</td>\n",
       "      <td>5</td>\n",
       "      <td>5</td>\n",
       "    </tr>\n",
       "    <tr>\n",
       "      <th>Linn County</th>\n",
       "      <td>5</td>\n",
       "      <td>5</td>\n",
       "      <td>5</td>\n",
       "      <td>5</td>\n",
       "      <td>5</td>\n",
       "      <td>5</td>\n",
       "      <td>5</td>\n",
       "      <td>5</td>\n",
       "      <td>5</td>\n",
       "      <td>5</td>\n",
       "      <td>...</td>\n",
       "      <td>2</td>\n",
       "      <td>5</td>\n",
       "      <td>5</td>\n",
       "      <td>5</td>\n",
       "      <td>5</td>\n",
       "      <td>5</td>\n",
       "      <td>5</td>\n",
       "      <td>5</td>\n",
       "      <td>5</td>\n",
       "      <td>5</td>\n",
       "    </tr>\n",
       "    <tr>\n",
       "      <th>Lincoln County</th>\n",
       "      <td>6</td>\n",
       "      <td>6</td>\n",
       "      <td>6</td>\n",
       "      <td>6</td>\n",
       "      <td>6</td>\n",
       "      <td>6</td>\n",
       "      <td>6</td>\n",
       "      <td>6</td>\n",
       "      <td>6</td>\n",
       "      <td>6</td>\n",
       "      <td>...</td>\n",
       "      <td>2</td>\n",
       "      <td>6</td>\n",
       "      <td>6</td>\n",
       "      <td>6</td>\n",
       "      <td>6</td>\n",
       "      <td>6</td>\n",
       "      <td>6</td>\n",
       "      <td>6</td>\n",
       "      <td>6</td>\n",
       "      <td>6</td>\n",
       "    </tr>\n",
       "    <tr>\n",
       "      <th>Marion County</th>\n",
       "      <td>7</td>\n",
       "      <td>7</td>\n",
       "      <td>7</td>\n",
       "      <td>7</td>\n",
       "      <td>7</td>\n",
       "      <td>7</td>\n",
       "      <td>7</td>\n",
       "      <td>7</td>\n",
       "      <td>7</td>\n",
       "      <td>7</td>\n",
       "      <td>...</td>\n",
       "      <td>2</td>\n",
       "      <td>7</td>\n",
       "      <td>7</td>\n",
       "      <td>7</td>\n",
       "      <td>7</td>\n",
       "      <td>7</td>\n",
       "      <td>7</td>\n",
       "      <td>7</td>\n",
       "      <td>7</td>\n",
       "      <td>7</td>\n",
       "    </tr>\n",
       "    <tr>\n",
       "      <th>Coos County</th>\n",
       "      <td>8</td>\n",
       "      <td>8</td>\n",
       "      <td>8</td>\n",
       "      <td>8</td>\n",
       "      <td>8</td>\n",
       "      <td>8</td>\n",
       "      <td>8</td>\n",
       "      <td>8</td>\n",
       "      <td>8</td>\n",
       "      <td>8</td>\n",
       "      <td>...</td>\n",
       "      <td>2</td>\n",
       "      <td>8</td>\n",
       "      <td>8</td>\n",
       "      <td>8</td>\n",
       "      <td>8</td>\n",
       "      <td>8</td>\n",
       "      <td>8</td>\n",
       "      <td>8</td>\n",
       "      <td>8</td>\n",
       "      <td>8</td>\n",
       "    </tr>\n",
       "    <tr>\n",
       "      <th>Curry County</th>\n",
       "      <td>9</td>\n",
       "      <td>9</td>\n",
       "      <td>9</td>\n",
       "      <td>9</td>\n",
       "      <td>9</td>\n",
       "      <td>9</td>\n",
       "      <td>9</td>\n",
       "      <td>9</td>\n",
       "      <td>9</td>\n",
       "      <td>9</td>\n",
       "      <td>...</td>\n",
       "      <td>3</td>\n",
       "      <td>9</td>\n",
       "      <td>9</td>\n",
       "      <td>9</td>\n",
       "      <td>9</td>\n",
       "      <td>9</td>\n",
       "      <td>9</td>\n",
       "      <td>9</td>\n",
       "      <td>9</td>\n",
       "      <td>9</td>\n",
       "    </tr>\n",
       "    <tr>\n",
       "      <th>Crook County</th>\n",
       "      <td>10</td>\n",
       "      <td>10</td>\n",
       "      <td>10</td>\n",
       "      <td>10</td>\n",
       "      <td>10</td>\n",
       "      <td>10</td>\n",
       "      <td>10</td>\n",
       "      <td>10</td>\n",
       "      <td>10</td>\n",
       "      <td>10</td>\n",
       "      <td>...</td>\n",
       "      <td>8</td>\n",
       "      <td>10</td>\n",
       "      <td>10</td>\n",
       "      <td>10</td>\n",
       "      <td>10</td>\n",
       "      <td>10</td>\n",
       "      <td>10</td>\n",
       "      <td>10</td>\n",
       "      <td>10</td>\n",
       "      <td>10</td>\n",
       "    </tr>\n",
       "    <tr>\n",
       "      <th>Wallowa County</th>\n",
       "      <td>10</td>\n",
       "      <td>10</td>\n",
       "      <td>10</td>\n",
       "      <td>10</td>\n",
       "      <td>10</td>\n",
       "      <td>10</td>\n",
       "      <td>10</td>\n",
       "      <td>10</td>\n",
       "      <td>10</td>\n",
       "      <td>10</td>\n",
       "      <td>...</td>\n",
       "      <td>1</td>\n",
       "      <td>10</td>\n",
       "      <td>10</td>\n",
       "      <td>10</td>\n",
       "      <td>10</td>\n",
       "      <td>10</td>\n",
       "      <td>10</td>\n",
       "      <td>10</td>\n",
       "      <td>10</td>\n",
       "      <td>10</td>\n",
       "    </tr>\n",
       "    <tr>\n",
       "      <th>Morrow County</th>\n",
       "      <td>11</td>\n",
       "      <td>11</td>\n",
       "      <td>11</td>\n",
       "      <td>11</td>\n",
       "      <td>11</td>\n",
       "      <td>11</td>\n",
       "      <td>11</td>\n",
       "      <td>11</td>\n",
       "      <td>11</td>\n",
       "      <td>11</td>\n",
       "      <td>...</td>\n",
       "      <td>7</td>\n",
       "      <td>11</td>\n",
       "      <td>11</td>\n",
       "      <td>11</td>\n",
       "      <td>11</td>\n",
       "      <td>11</td>\n",
       "      <td>11</td>\n",
       "      <td>11</td>\n",
       "      <td>11</td>\n",
       "      <td>11</td>\n",
       "    </tr>\n",
       "    <tr>\n",
       "      <th>Union County</th>\n",
       "      <td>14</td>\n",
       "      <td>14</td>\n",
       "      <td>14</td>\n",
       "      <td>14</td>\n",
       "      <td>14</td>\n",
       "      <td>14</td>\n",
       "      <td>14</td>\n",
       "      <td>14</td>\n",
       "      <td>14</td>\n",
       "      <td>14</td>\n",
       "      <td>...</td>\n",
       "      <td>4</td>\n",
       "      <td>14</td>\n",
       "      <td>14</td>\n",
       "      <td>14</td>\n",
       "      <td>14</td>\n",
       "      <td>14</td>\n",
       "      <td>14</td>\n",
       "      <td>14</td>\n",
       "      <td>14</td>\n",
       "      <td>14</td>\n",
       "    </tr>\n",
       "    <tr>\n",
       "      <th>Lake County</th>\n",
       "      <td>18</td>\n",
       "      <td>18</td>\n",
       "      <td>18</td>\n",
       "      <td>18</td>\n",
       "      <td>18</td>\n",
       "      <td>18</td>\n",
       "      <td>18</td>\n",
       "      <td>18</td>\n",
       "      <td>18</td>\n",
       "      <td>18</td>\n",
       "      <td>...</td>\n",
       "      <td>18</td>\n",
       "      <td>18</td>\n",
       "      <td>18</td>\n",
       "      <td>18</td>\n",
       "      <td>18</td>\n",
       "      <td>18</td>\n",
       "      <td>18</td>\n",
       "      <td>18</td>\n",
       "      <td>18</td>\n",
       "      <td>18</td>\n",
       "    </tr>\n",
       "    <tr>\n",
       "      <th>Lane County</th>\n",
       "      <td>18</td>\n",
       "      <td>18</td>\n",
       "      <td>18</td>\n",
       "      <td>18</td>\n",
       "      <td>18</td>\n",
       "      <td>18</td>\n",
       "      <td>18</td>\n",
       "      <td>18</td>\n",
       "      <td>18</td>\n",
       "      <td>18</td>\n",
       "      <td>...</td>\n",
       "      <td>10</td>\n",
       "      <td>18</td>\n",
       "      <td>18</td>\n",
       "      <td>18</td>\n",
       "      <td>18</td>\n",
       "      <td>18</td>\n",
       "      <td>18</td>\n",
       "      <td>18</td>\n",
       "      <td>18</td>\n",
       "      <td>18</td>\n",
       "    </tr>\n",
       "    <tr>\n",
       "      <th>Gilliam County</th>\n",
       "      <td>19</td>\n",
       "      <td>19</td>\n",
       "      <td>19</td>\n",
       "      <td>19</td>\n",
       "      <td>19</td>\n",
       "      <td>19</td>\n",
       "      <td>19</td>\n",
       "      <td>19</td>\n",
       "      <td>19</td>\n",
       "      <td>19</td>\n",
       "      <td>...</td>\n",
       "      <td>18</td>\n",
       "      <td>19</td>\n",
       "      <td>19</td>\n",
       "      <td>19</td>\n",
       "      <td>19</td>\n",
       "      <td>19</td>\n",
       "      <td>19</td>\n",
       "      <td>19</td>\n",
       "      <td>19</td>\n",
       "      <td>19</td>\n",
       "    </tr>\n",
       "    <tr>\n",
       "      <th>Josephine County</th>\n",
       "      <td>20</td>\n",
       "      <td>20</td>\n",
       "      <td>20</td>\n",
       "      <td>20</td>\n",
       "      <td>20</td>\n",
       "      <td>20</td>\n",
       "      <td>20</td>\n",
       "      <td>20</td>\n",
       "      <td>20</td>\n",
       "      <td>20</td>\n",
       "      <td>...</td>\n",
       "      <td>17</td>\n",
       "      <td>20</td>\n",
       "      <td>20</td>\n",
       "      <td>20</td>\n",
       "      <td>20</td>\n",
       "      <td>20</td>\n",
       "      <td>20</td>\n",
       "      <td>20</td>\n",
       "      <td>20</td>\n",
       "      <td>20</td>\n",
       "    </tr>\n",
       "    <tr>\n",
       "      <th>Sherman County</th>\n",
       "      <td>20</td>\n",
       "      <td>20</td>\n",
       "      <td>20</td>\n",
       "      <td>20</td>\n",
       "      <td>20</td>\n",
       "      <td>20</td>\n",
       "      <td>20</td>\n",
       "      <td>20</td>\n",
       "      <td>20</td>\n",
       "      <td>20</td>\n",
       "      <td>...</td>\n",
       "      <td>19</td>\n",
       "      <td>20</td>\n",
       "      <td>20</td>\n",
       "      <td>20</td>\n",
       "      <td>20</td>\n",
       "      <td>20</td>\n",
       "      <td>20</td>\n",
       "      <td>20</td>\n",
       "      <td>20</td>\n",
       "      <td>20</td>\n",
       "    </tr>\n",
       "    <tr>\n",
       "      <th>Baker County</th>\n",
       "      <td>22</td>\n",
       "      <td>22</td>\n",
       "      <td>22</td>\n",
       "      <td>22</td>\n",
       "      <td>22</td>\n",
       "      <td>22</td>\n",
       "      <td>22</td>\n",
       "      <td>22</td>\n",
       "      <td>22</td>\n",
       "      <td>22</td>\n",
       "      <td>...</td>\n",
       "      <td>20</td>\n",
       "      <td>22</td>\n",
       "      <td>22</td>\n",
       "      <td>22</td>\n",
       "      <td>22</td>\n",
       "      <td>22</td>\n",
       "      <td>22</td>\n",
       "      <td>22</td>\n",
       "      <td>22</td>\n",
       "      <td>22</td>\n",
       "    </tr>\n",
       "    <tr>\n",
       "      <th>Deschutes County</th>\n",
       "      <td>22</td>\n",
       "      <td>22</td>\n",
       "      <td>22</td>\n",
       "      <td>22</td>\n",
       "      <td>22</td>\n",
       "      <td>22</td>\n",
       "      <td>22</td>\n",
       "      <td>22</td>\n",
       "      <td>22</td>\n",
       "      <td>22</td>\n",
       "      <td>...</td>\n",
       "      <td>19</td>\n",
       "      <td>22</td>\n",
       "      <td>22</td>\n",
       "      <td>22</td>\n",
       "      <td>22</td>\n",
       "      <td>22</td>\n",
       "      <td>22</td>\n",
       "      <td>22</td>\n",
       "      <td>22</td>\n",
       "      <td>22</td>\n",
       "    </tr>\n",
       "    <tr>\n",
       "      <th>Jackson County</th>\n",
       "      <td>25</td>\n",
       "      <td>25</td>\n",
       "      <td>25</td>\n",
       "      <td>25</td>\n",
       "      <td>25</td>\n",
       "      <td>25</td>\n",
       "      <td>25</td>\n",
       "      <td>25</td>\n",
       "      <td>25</td>\n",
       "      <td>25</td>\n",
       "      <td>...</td>\n",
       "      <td>15</td>\n",
       "      <td>25</td>\n",
       "      <td>25</td>\n",
       "      <td>25</td>\n",
       "      <td>25</td>\n",
       "      <td>25</td>\n",
       "      <td>25</td>\n",
       "      <td>25</td>\n",
       "      <td>25</td>\n",
       "      <td>25</td>\n",
       "    </tr>\n",
       "    <tr>\n",
       "      <th>Wheeler County</th>\n",
       "      <td>28</td>\n",
       "      <td>28</td>\n",
       "      <td>28</td>\n",
       "      <td>28</td>\n",
       "      <td>28</td>\n",
       "      <td>28</td>\n",
       "      <td>28</td>\n",
       "      <td>28</td>\n",
       "      <td>28</td>\n",
       "      <td>28</td>\n",
       "      <td>...</td>\n",
       "      <td>17</td>\n",
       "      <td>28</td>\n",
       "      <td>28</td>\n",
       "      <td>28</td>\n",
       "      <td>28</td>\n",
       "      <td>28</td>\n",
       "      <td>28</td>\n",
       "      <td>28</td>\n",
       "      <td>28</td>\n",
       "      <td>28</td>\n",
       "    </tr>\n",
       "    <tr>\n",
       "      <th>Grant County</th>\n",
       "      <td>28</td>\n",
       "      <td>28</td>\n",
       "      <td>28</td>\n",
       "      <td>28</td>\n",
       "      <td>28</td>\n",
       "      <td>28</td>\n",
       "      <td>28</td>\n",
       "      <td>28</td>\n",
       "      <td>28</td>\n",
       "      <td>28</td>\n",
       "      <td>...</td>\n",
       "      <td>11</td>\n",
       "      <td>28</td>\n",
       "      <td>28</td>\n",
       "      <td>28</td>\n",
       "      <td>28</td>\n",
       "      <td>28</td>\n",
       "      <td>28</td>\n",
       "      <td>28</td>\n",
       "      <td>28</td>\n",
       "      <td>28</td>\n",
       "    </tr>\n",
       "    <tr>\n",
       "      <th>Jefferson County</th>\n",
       "      <td>30</td>\n",
       "      <td>30</td>\n",
       "      <td>30</td>\n",
       "      <td>30</td>\n",
       "      <td>30</td>\n",
       "      <td>30</td>\n",
       "      <td>30</td>\n",
       "      <td>30</td>\n",
       "      <td>30</td>\n",
       "      <td>30</td>\n",
       "      <td>...</td>\n",
       "      <td>26</td>\n",
       "      <td>30</td>\n",
       "      <td>30</td>\n",
       "      <td>30</td>\n",
       "      <td>30</td>\n",
       "      <td>30</td>\n",
       "      <td>30</td>\n",
       "      <td>30</td>\n",
       "      <td>30</td>\n",
       "      <td>30</td>\n",
       "    </tr>\n",
       "    <tr>\n",
       "      <th>Harney County</th>\n",
       "      <td>31</td>\n",
       "      <td>31</td>\n",
       "      <td>31</td>\n",
       "      <td>31</td>\n",
       "      <td>31</td>\n",
       "      <td>31</td>\n",
       "      <td>31</td>\n",
       "      <td>31</td>\n",
       "      <td>31</td>\n",
       "      <td>31</td>\n",
       "      <td>...</td>\n",
       "      <td>31</td>\n",
       "      <td>31</td>\n",
       "      <td>31</td>\n",
       "      <td>31</td>\n",
       "      <td>31</td>\n",
       "      <td>31</td>\n",
       "      <td>31</td>\n",
       "      <td>31</td>\n",
       "      <td>31</td>\n",
       "      <td>31</td>\n",
       "    </tr>\n",
       "    <tr>\n",
       "      <th>Klamath County</th>\n",
       "      <td>34</td>\n",
       "      <td>34</td>\n",
       "      <td>34</td>\n",
       "      <td>34</td>\n",
       "      <td>34</td>\n",
       "      <td>34</td>\n",
       "      <td>34</td>\n",
       "      <td>34</td>\n",
       "      <td>34</td>\n",
       "      <td>34</td>\n",
       "      <td>...</td>\n",
       "      <td>17</td>\n",
       "      <td>34</td>\n",
       "      <td>34</td>\n",
       "      <td>34</td>\n",
       "      <td>34</td>\n",
       "      <td>34</td>\n",
       "      <td>34</td>\n",
       "      <td>34</td>\n",
       "      <td>34</td>\n",
       "      <td>34</td>\n",
       "    </tr>\n",
       "    <tr>\n",
       "      <th>Umatilla County</th>\n",
       "      <td>40</td>\n",
       "      <td>40</td>\n",
       "      <td>40</td>\n",
       "      <td>40</td>\n",
       "      <td>40</td>\n",
       "      <td>40</td>\n",
       "      <td>40</td>\n",
       "      <td>40</td>\n",
       "      <td>40</td>\n",
       "      <td>40</td>\n",
       "      <td>...</td>\n",
       "      <td>16</td>\n",
       "      <td>40</td>\n",
       "      <td>40</td>\n",
       "      <td>40</td>\n",
       "      <td>40</td>\n",
       "      <td>40</td>\n",
       "      <td>40</td>\n",
       "      <td>40</td>\n",
       "      <td>40</td>\n",
       "      <td>40</td>\n",
       "    </tr>\n",
       "    <tr>\n",
       "      <th>Douglas County</th>\n",
       "      <td>40</td>\n",
       "      <td>40</td>\n",
       "      <td>40</td>\n",
       "      <td>40</td>\n",
       "      <td>40</td>\n",
       "      <td>40</td>\n",
       "      <td>40</td>\n",
       "      <td>40</td>\n",
       "      <td>40</td>\n",
       "      <td>40</td>\n",
       "      <td>...</td>\n",
       "      <td>25</td>\n",
       "      <td>40</td>\n",
       "      <td>40</td>\n",
       "      <td>40</td>\n",
       "      <td>40</td>\n",
       "      <td>40</td>\n",
       "      <td>40</td>\n",
       "      <td>40</td>\n",
       "      <td>40</td>\n",
       "      <td>40</td>\n",
       "    </tr>\n",
       "    <tr>\n",
       "      <th>Malheur County</th>\n",
       "      <td>49</td>\n",
       "      <td>49</td>\n",
       "      <td>49</td>\n",
       "      <td>49</td>\n",
       "      <td>49</td>\n",
       "      <td>49</td>\n",
       "      <td>49</td>\n",
       "      <td>49</td>\n",
       "      <td>49</td>\n",
       "      <td>49</td>\n",
       "      <td>...</td>\n",
       "      <td>48</td>\n",
       "      <td>49</td>\n",
       "      <td>49</td>\n",
       "      <td>49</td>\n",
       "      <td>49</td>\n",
       "      <td>49</td>\n",
       "      <td>49</td>\n",
       "      <td>49</td>\n",
       "      <td>49</td>\n",
       "      <td>49</td>\n",
       "    </tr>\n",
       "    <tr>\n",
       "      <th>Wasco County</th>\n",
       "      <td>71</td>\n",
       "      <td>71</td>\n",
       "      <td>71</td>\n",
       "      <td>71</td>\n",
       "      <td>71</td>\n",
       "      <td>71</td>\n",
       "      <td>71</td>\n",
       "      <td>71</td>\n",
       "      <td>71</td>\n",
       "      <td>71</td>\n",
       "      <td>...</td>\n",
       "      <td>55</td>\n",
       "      <td>71</td>\n",
       "      <td>71</td>\n",
       "      <td>71</td>\n",
       "      <td>71</td>\n",
       "      <td>71</td>\n",
       "      <td>71</td>\n",
       "      <td>71</td>\n",
       "      <td>71</td>\n",
       "      <td>71</td>\n",
       "    </tr>\n",
       "  </tbody>\n",
       "</table>\n",
       "<p>38 rows × 38 columns</p>\n",
       "</div>"
      ],
      "text/plain": [
       "                   OBJECTID  FOD_ID  FPA_ID  SOURCE_SYS  SOURCE_S_1  \\\n",
       "FIPS_NAME                                                             \n",
       "Adams County              1       1       1           1           1   \n",
       "Tillamook County          1       1       1           1           1   \n",
       "Columbia County           1       1       1           1           1   \n",
       "Yamhill County            1       1       1           1           1   \n",
       "Klickitat County          2       2       2           2           2   \n",
       "Washington County         2       2       2           2           2   \n",
       "Clatsop County            3       3       3           3           3   \n",
       "Multnomah County          3       3       3           3           3   \n",
       "Polk County               4       4       4           4           4   \n",
       "Clackamas County          4       4       4           4           4   \n",
       "Benton County             5       5       5           5           5   \n",
       "Hood River County         5       5       5           5           5   \n",
       "Linn County               5       5       5           5           5   \n",
       "Lincoln County            6       6       6           6           6   \n",
       "Marion County             7       7       7           7           7   \n",
       "Coos County               8       8       8           8           8   \n",
       "Curry County              9       9       9           9           9   \n",
       "Crook County             10      10      10          10          10   \n",
       "Wallowa County           10      10      10          10          10   \n",
       "Morrow County            11      11      11          11          11   \n",
       "Union County             14      14      14          14          14   \n",
       "Lake County              18      18      18          18          18   \n",
       "Lane County              18      18      18          18          18   \n",
       "Gilliam County           19      19      19          19          19   \n",
       "Josephine County         20      20      20          20          20   \n",
       "Sherman County           20      20      20          20          20   \n",
       "Baker County             22      22      22          22          22   \n",
       "Deschutes County         22      22      22          22          22   \n",
       "Jackson County           25      25      25          25          25   \n",
       "Wheeler County           28      28      28          28          28   \n",
       "Grant County             28      28      28          28          28   \n",
       "Jefferson County         30      30      30          30          30   \n",
       "Harney County            31      31      31          31          31   \n",
       "Klamath County           34      34      34          34          34   \n",
       "Umatilla County          40      40      40          40          40   \n",
       "Douglas County           40      40      40          40          40   \n",
       "Malheur County           49      49      49          49          49   \n",
       "Wasco County             71      71      71          71          71   \n",
       "\n",
       "                   NWCG_REPOR  NWCG_REP_1  NWCG_REP_2  SOURCE_REP  SOURCE_R_1  \\\n",
       "FIPS_NAME                                                                       \n",
       "Adams County                1           1           1           1           1   \n",
       "Tillamook County            1           1           1           1           1   \n",
       "Columbia County             1           1           1           1           1   \n",
       "Yamhill County              1           1           1           1           1   \n",
       "Klickitat County            2           2           2           2           2   \n",
       "Washington County           2           2           2           2           2   \n",
       "Clatsop County              3           3           3           3           3   \n",
       "Multnomah County            3           3           3           3           3   \n",
       "Polk County                 4           4           4           4           4   \n",
       "Clackamas County            4           4           4           4           4   \n",
       "Benton County               5           5           5           5           5   \n",
       "Hood River County           5           5           5           5           5   \n",
       "Linn County                 5           5           5           5           5   \n",
       "Lincoln County              6           6           6           6           6   \n",
       "Marion County               7           7           7           7           7   \n",
       "Coos County                 8           8           8           8           8   \n",
       "Curry County                9           9           9           9           9   \n",
       "Crook County               10          10          10          10          10   \n",
       "Wallowa County             10          10          10          10          10   \n",
       "Morrow County              11          11          11          11          11   \n",
       "Union County               14          14          14          14          14   \n",
       "Lake County                18          18          18          18          18   \n",
       "Lane County                18          18          18          18          18   \n",
       "Gilliam County             19          19          19          19          19   \n",
       "Josephine County           20          20          20          20          20   \n",
       "Sherman County             20          20          20          20          20   \n",
       "Baker County               22          22          22          22          22   \n",
       "Deschutes County           22          22          22          22          22   \n",
       "Jackson County             25          25          25          25          25   \n",
       "Wheeler County             28          28          28          28          28   \n",
       "Grant County               28          28          28          28          28   \n",
       "Jefferson County           30          30          30          30          30   \n",
       "Harney County              31          31          31          31          31   \n",
       "Klamath County             34          34          34          34          34   \n",
       "Umatilla County            40          40          40          40          40   \n",
       "Douglas County             40          40          40          40          40   \n",
       "Malheur County             49          49          49          49          49   \n",
       "Wasco County               71          71          71          71          71   \n",
       "\n",
       "                   ...  CONT_TIME  FIRE_SIZE  FIRE_SIZE_  LATITUDE  LONGITUDE  \\\n",
       "FIPS_NAME          ...                                                          \n",
       "Adams County       ...          1          1           1         1          1   \n",
       "Tillamook County   ...          1          1           1         1          1   \n",
       "Columbia County    ...          1          1           1         1          1   \n",
       "Yamhill County     ...          1          1           1         1          1   \n",
       "Klickitat County   ...          2          2           2         2          2   \n",
       "Washington County  ...          1          2           2         2          2   \n",
       "Clatsop County     ...          2          3           3         3          3   \n",
       "Multnomah County   ...          2          3           3         3          3   \n",
       "Polk County        ...          0          4           4         4          4   \n",
       "Clackamas County   ...          3          4           4         4          4   \n",
       "Benton County      ...          3          5           5         5          5   \n",
       "Hood River County  ...          3          5           5         5          5   \n",
       "Linn County        ...          2          5           5         5          5   \n",
       "Lincoln County     ...          2          6           6         6          6   \n",
       "Marion County      ...          2          7           7         7          7   \n",
       "Coos County        ...          2          8           8         8          8   \n",
       "Curry County       ...          3          9           9         9          9   \n",
       "Crook County       ...          8         10          10        10         10   \n",
       "Wallowa County     ...          1         10          10        10         10   \n",
       "Morrow County      ...          7         11          11        11         11   \n",
       "Union County       ...          4         14          14        14         14   \n",
       "Lake County        ...         18         18          18        18         18   \n",
       "Lane County        ...         10         18          18        18         18   \n",
       "Gilliam County     ...         18         19          19        19         19   \n",
       "Josephine County   ...         17         20          20        20         20   \n",
       "Sherman County     ...         19         20          20        20         20   \n",
       "Baker County       ...         20         22          22        22         22   \n",
       "Deschutes County   ...         19         22          22        22         22   \n",
       "Jackson County     ...         15         25          25        25         25   \n",
       "Wheeler County     ...         17         28          28        28         28   \n",
       "Grant County       ...         11         28          28        28         28   \n",
       "Jefferson County   ...         26         30          30        30         30   \n",
       "Harney County      ...         31         31          31        31         31   \n",
       "Klamath County     ...         17         34          34        34         34   \n",
       "Umatilla County    ...         16         40          40        40         40   \n",
       "Douglas County     ...         25         40          40        40         40   \n",
       "Malheur County     ...         48         49          49        49         49   \n",
       "Wasco County       ...         55         71          71        71         71   \n",
       "\n",
       "                   OWNER_DESC  STATE  COUNTY  FIPS_CODE  geometry  \n",
       "FIPS_NAME                                                          \n",
       "Adams County                1      1       1          1         1  \n",
       "Tillamook County            1      1       1          1         1  \n",
       "Columbia County             1      1       1          1         1  \n",
       "Yamhill County              1      1       1          1         1  \n",
       "Klickitat County            2      2       2          2         2  \n",
       "Washington County           2      2       2          2         2  \n",
       "Clatsop County              3      3       3          3         3  \n",
       "Multnomah County            3      3       3          3         3  \n",
       "Polk County                 4      4       4          4         4  \n",
       "Clackamas County            4      4       4          4         4  \n",
       "Benton County               5      5       5          5         5  \n",
       "Hood River County           5      5       5          5         5  \n",
       "Linn County                 5      5       5          5         5  \n",
       "Lincoln County              6      6       6          6         6  \n",
       "Marion County               7      7       7          7         7  \n",
       "Coos County                 8      8       8          8         8  \n",
       "Curry County                9      9       9          9         9  \n",
       "Crook County               10     10      10         10        10  \n",
       "Wallowa County             10     10      10         10        10  \n",
       "Morrow County              11     11      11         11        11  \n",
       "Union County               14     14      14         14        14  \n",
       "Lake County                18     18      18         18        18  \n",
       "Lane County                18     18      18         18        18  \n",
       "Gilliam County             19     19      19         19        19  \n",
       "Josephine County           20     20      20         20        20  \n",
       "Sherman County             20     20      20         20        20  \n",
       "Baker County               22     22      22         22        22  \n",
       "Deschutes County           22     22      22         22        22  \n",
       "Jackson County             25     25      25         25        25  \n",
       "Wheeler County             28     28      28         28        28  \n",
       "Grant County               28     28      28         28        28  \n",
       "Jefferson County           30     30      30         30        30  \n",
       "Harney County              31     31      31         31        31  \n",
       "Klamath County             34     34      34         34        34  \n",
       "Umatilla County            40     40      40         40        40  \n",
       "Douglas County             40     40      40         40        40  \n",
       "Malheur County             49     49      49         49        49  \n",
       "Wasco County               71     71      71         71        71  \n",
       "\n",
       "[38 rows x 38 columns]"
      ]
     },
     "execution_count": 21,
     "metadata": {},
     "output_type": "execute_result"
    }
   ],
   "source": [
    "most_count.sort_values(by='OBJECTID')"
   ]
  },
  {
   "cell_type": "markdown",
   "id": "c1ca02aa",
   "metadata": {},
   "source": [
    "# Question 1b"
   ]
  },
  {
   "cell_type": "code",
   "execution_count": 22,
   "id": "ed2e858c",
   "metadata": {
    "scrolled": true
   },
   "outputs": [
    {
     "data": {
      "text/plain": [
       "FIPS_NAME\n",
       "Baker County          29\n",
       "Clackamas County       2\n",
       "Crook County          24\n",
       "Curry County           4\n",
       "Deschutes County      12\n",
       "Douglas County        45\n",
       "Gilliam County        21\n",
       "Grant County          63\n",
       "Harney County        119\n",
       "Hood River County      3\n",
       "Jackson County        30\n",
       "Jefferson County      26\n",
       "Josephine County      15\n",
       "Klamath County        15\n",
       "Lake County           34\n",
       "Lane County           15\n",
       "Linn County            3\n",
       "Malheur County       183\n",
       "Marion County          5\n",
       "Morrow County          6\n",
       "Owyhee County          1\n",
       "Sherman County        12\n",
       "Umatilla County       20\n",
       "Union County           4\n",
       "Wallowa County        29\n",
       "Wasco County          33\n",
       "Wheeler County        39\n",
       "Yamhill County         1\n",
       "Name: FIRE_SIZE, dtype: int64"
      ]
     },
     "execution_count": 22,
     "metadata": {},
     "output_type": "execute_result"
    }
   ],
   "source": [
    "\n",
    "df_large_natural['FIRE_SIZE'].groupby(df_large_natural['FIPS_NAME']).count()"
   ]
  },
  {
   "cell_type": "code",
   "execution_count": 23,
   "id": "8ce6bdcc",
   "metadata": {},
   "outputs": [],
   "source": [
    "#Question 1b\n",
    "df_large = df[df['FIRE_SIZE'] > 100]"
   ]
  },
  {
   "cell_type": "code",
   "execution_count": 24,
   "id": "08bdb24a",
   "metadata": {},
   "outputs": [],
   "source": [
    "df_natural = df_large[df_large['NWCG_CAUSE']=='Natural']"
   ]
  },
  {
   "cell_type": "code",
   "execution_count": 25,
   "id": "8f44cc21",
   "metadata": {},
   "outputs": [],
   "source": [
    "#df_natural['month'].describe()"
   ]
  },
  {
   "cell_type": "code",
   "execution_count": 26,
   "id": "a058dda9",
   "metadata": {},
   "outputs": [],
   "source": [
    "df_large_natural = df_natural[df_natural['FIRE_SIZE']>100]"
   ]
  },
  {
   "cell_type": "code",
   "execution_count": 27,
   "id": "467f2781",
   "metadata": {},
   "outputs": [
    {
     "name": "stderr",
     "output_type": "stream",
     "text": [
      "/Users/jack/Documents/Anaconda3/anaconda3/envs/lab2/lib/python3.8/site-packages/geopandas/geodataframe.py:199: UserWarning: Pandas doesn't allow columns to be created via a new attribute name - see https://pandas.pydata.org/pandas-docs/stable/indexing.html#attribute-access\n",
      "  super().__setattr__(attr, val)\n"
     ]
    }
   ],
   "source": [
    "datetime = pd.to_datetime(df_large_natural['DISCOVERY_'],format='%Y/%m/%d %H:%M:%S.%f')\n",
    "df_large_natural.month = datetime\n",
    "\n",
    "#monthcount = df_large_natural.groupby('month').count()\n",
    "#monthcount"
   ]
  },
  {
   "cell_type": "code",
   "execution_count": 28,
   "id": "6853545c",
   "metadata": {},
   "outputs": [],
   "source": [
    "datetime = pd.to_datetime(df_large_natural['DISCOVERY_'],format='%Y/%m/%d %H:%M:%S.%f')\n",
    "df_large_natural[\"month\"] = datetime.dt.month\n"
   ]
  },
  {
   "cell_type": "code",
   "execution_count": 29,
   "id": "ae66b8ee",
   "metadata": {},
   "outputs": [
    {
     "data": {
      "text/plain": [
       "56       7\n",
       "89       7\n",
       "95       8\n",
       "96       6\n",
       "109      7\n",
       "        ..\n",
       "67007    8\n",
       "67008    9\n",
       "67014    9\n",
       "67017    8\n",
       "67022    8\n",
       "Name: month, Length: 1164, dtype: int64"
      ]
     },
     "execution_count": 29,
     "metadata": {},
     "output_type": "execute_result"
    }
   ],
   "source": [
    "df_large_natural[\"month\"]"
   ]
  },
  {
   "cell_type": "code",
   "execution_count": 30,
   "id": "196d9f6e",
   "metadata": {},
   "outputs": [
    {
     "data": {
      "text/plain": [
       "month\n",
       "4       2\n",
       "5       6\n",
       "6      98\n",
       "7     410\n",
       "8     549\n",
       "9      93\n",
       "10      6\n",
       "Name: FIRE_SIZE, dtype: int64"
      ]
     },
     "execution_count": 30,
     "metadata": {},
     "output_type": "execute_result"
    }
   ],
   "source": [
    "df_large_natural['FIRE_SIZE'].groupby(df_large_natural['month']).count()"
   ]
  },
  {
   "cell_type": "markdown",
   "id": "21018c51",
   "metadata": {},
   "source": [
    "# Question 1c\n"
   ]
  },
  {
   "cell_type": "code",
   "execution_count": 31,
   "id": "c715b937",
   "metadata": {},
   "outputs": [],
   "source": [
    "\n",
    "# Filter fires larger than 200 acres\n",
    "df_large = df[df['FIRE_SIZE'] > 200]"
   ]
  },
  {
   "cell_type": "code",
   "execution_count": 32,
   "id": "8204a9ed",
   "metadata": {},
   "outputs": [
    {
     "data": {
      "text/plain": [
       "array(['Natural', 'Human', 'Missing data/not specified/undetermined'],\n",
       "      dtype=object)"
      ]
     },
     "execution_count": 32,
     "metadata": {},
     "output_type": "execute_result"
    }
   ],
   "source": [
    "# Find the different cause of large wildfires\n",
    "df_large['NWCG_CAUSE'].unique()"
   ]
  },
  {
   "cell_type": "code",
   "execution_count": 33,
   "id": "7f1a59a9",
   "metadata": {},
   "outputs": [],
   "source": [
    "# Filter fires that were caused by specified/undetermined causes\n",
    "df_large = df_large[df_large['NWCG_CAUSE'] == 'Missing data/not specified/undetermined']"
   ]
  },
  {
   "cell_type": "markdown",
   "id": "a99702c4",
   "metadata": {},
   "source": [
    "# Question 1d"
   ]
  },
  {
   "cell_type": "code",
   "execution_count": 34,
   "id": "3f55f2cb",
   "metadata": {},
   "outputs": [
    {
     "data": {
      "text/plain": [
       "count     67042.000000\n",
       "mean        144.878795\n",
       "std        3815.600420\n",
       "min           0.010000\n",
       "25%           0.100000\n",
       "50%           0.100000\n",
       "75%           0.330000\n",
       "max      558198.300000\n",
       "Name: FIRE_SIZE, dtype: float64"
      ]
     },
     "execution_count": 34,
     "metadata": {},
     "output_type": "execute_result"
    }
   ],
   "source": [
    "\n",
    "# Get some stats for numeric columns\n",
    "df['FIRE_SIZE'].describe()"
   ]
  },
  {
   "cell_type": "code",
   "execution_count": 35,
   "id": "4ed5742a",
   "metadata": {},
   "outputs": [
    {
     "data": {
      "text/plain": [
       "23600.0"
      ]
     },
     "execution_count": 35,
     "metadata": {},
     "output_type": "execute_result"
    }
   ],
   "source": [
    "df_large['FIRE_SIZE'].max()"
   ]
  },
  {
   "cell_type": "code",
   "execution_count": 55,
   "id": "360ccc12",
   "metadata": {},
   "outputs": [],
   "source": [
    "largest_fire = df_large['FIRE_SIZE'].max()"
   ]
  },
  {
   "cell_type": "code",
   "execution_count": 56,
   "id": "8e8fc2e4",
   "metadata": {},
   "outputs": [
    {
     "data": {
      "text/html": [
       "<div>\n",
       "<style scoped>\n",
       "    .dataframe tbody tr th:only-of-type {\n",
       "        vertical-align: middle;\n",
       "    }\n",
       "\n",
       "    .dataframe tbody tr th {\n",
       "        vertical-align: top;\n",
       "    }\n",
       "\n",
       "    .dataframe thead th {\n",
       "        text-align: right;\n",
       "    }\n",
       "</style>\n",
       "<table border=\"1\" class=\"dataframe\">\n",
       "  <thead>\n",
       "    <tr style=\"text-align: right;\">\n",
       "      <th></th>\n",
       "      <th>DISCOVERY_</th>\n",
       "      <th>FIRE_NAME</th>\n",
       "      <th>FIPS_NAME</th>\n",
       "      <th>FIRE_SIZE</th>\n",
       "    </tr>\n",
       "  </thead>\n",
       "  <tbody>\n",
       "    <tr>\n",
       "      <th>66964</th>\n",
       "      <td>2012/07/08 00:00:00.000</td>\n",
       "      <td>LONG DRAW</td>\n",
       "      <td>Malheur County</td>\n",
       "      <td>558198.3</td>\n",
       "    </tr>\n",
       "  </tbody>\n",
       "</table>\n",
       "</div>"
      ],
      "text/plain": [
       "                    DISCOVERY_  FIRE_NAME       FIPS_NAME  FIRE_SIZE\n",
       "66964  2012/07/08 00:00:00.000  LONG DRAW  Malheur County   558198.3"
      ]
     },
     "execution_count": 56,
     "metadata": {},
     "output_type": "execute_result"
    }
   ],
   "source": [
    "df[df['FIRE_SIZE']== df['FIRE_SIZE'].max()][['DISCOVERY_','FIRE_NAME','FIPS_NAME','FIRE_SIZE']]"
   ]
  },
  {
   "cell_type": "markdown",
   "id": "eebeb083",
   "metadata": {},
   "source": [
    "# Question 1e"
   ]
  },
  {
   "cell_type": "code",
   "execution_count": 57,
   "id": "c4283388",
   "metadata": {},
   "outputs": [],
   "source": [
    "\n",
    "# Filter fires larger than 50 acres\n",
    "df_large = df[df['FIRE_SIZE'] > 50]"
   ]
  },
  {
   "cell_type": "code",
   "execution_count": 58,
   "id": "0d063e23",
   "metadata": {},
   "outputs": [
    {
     "data": {
      "text/plain": [
       "FIPS_NAME\n",
       "Lane County    33\n",
       "Name: FIRE_SIZE, dtype: int64"
      ]
     },
     "execution_count": 58,
     "metadata": {},
     "output_type": "execute_result"
    }
   ],
   "source": [
    "df_large[df_large[\"FIPS_NAME\"]==\"Lane County\"]['FIRE_SIZE'].groupby(df_large['FIPS_NAME']).count()"
   ]
  },
  {
   "cell_type": "markdown",
   "id": "aa89784b",
   "metadata": {},
   "source": [
    "# Lab 2b: Where are wildfires occurring in  Oregon?"
   ]
  },
  {
   "cell_type": "code",
   "execution_count": 59,
   "id": "4297bb28",
   "metadata": {},
   "outputs": [],
   "source": [
    "# Import modules\n",
    "from cenpy import products\n",
    "import matplotlib.pyplot as plt\n",
    "\n",
    "# Define product\n",
    "acs = products.ACS(2019)"
   ]
  },
  {
   "cell_type": "code",
   "execution_count": 60,
   "id": "5b3bb806",
   "metadata": {},
   "outputs": [
    {
     "data": {
      "text/html": [
       "<div>\n",
       "<style scoped>\n",
       "    .dataframe tbody tr th:only-of-type {\n",
       "        vertical-align: middle;\n",
       "    }\n",
       "\n",
       "    .dataframe tbody tr th {\n",
       "        vertical-align: top;\n",
       "    }\n",
       "\n",
       "    .dataframe thead th {\n",
       "        text-align: right;\n",
       "    }\n",
       "</style>\n",
       "<table border=\"1\" class=\"dataframe\">\n",
       "  <thead>\n",
       "    <tr style=\"text-align: right;\">\n",
       "      <th></th>\n",
       "      <th>description</th>\n",
       "      <th>columns</th>\n",
       "    </tr>\n",
       "    <tr>\n",
       "      <th>table_name</th>\n",
       "      <th></th>\n",
       "      <th></th>\n",
       "    </tr>\n",
       "  </thead>\n",
       "  <tbody>\n",
       "    <tr>\n",
       "      <th>B01003</th>\n",
       "      <td>TOTAL POPULATION</td>\n",
       "      <td>[B01003_001E]</td>\n",
       "    </tr>\n",
       "    <tr>\n",
       "      <th>B05006</th>\n",
       "      <td>PLACE OF BIRTH FOR THE FOREIGN-BORN POPULATION...</td>\n",
       "      <td>[B05006_001E, B05006_002E, B05006_003E, B05006...</td>\n",
       "    </tr>\n",
       "    <tr>\n",
       "      <th>B05007</th>\n",
       "      <td>PLACE OF BIRTH BY YEAR OF ENTRY BY CITIZENSHIP...</td>\n",
       "      <td>[B05007_001E, B05007_002E, B05007_003E, B05007...</td>\n",
       "    </tr>\n",
       "    <tr>\n",
       "      <th>B05008</th>\n",
       "      <td>SEX BY PLACE OF BIRTH BY YEAR OF ENTRY FOR THE...</td>\n",
       "      <td>[B05008_001E, B05008_002E, B05008_003E, B05008...</td>\n",
       "    </tr>\n",
       "    <tr>\n",
       "      <th>B05013</th>\n",
       "      <td>SEX BY AGE FOR THE FOREIGN-BORN POPULATION</td>\n",
       "      <td>[B05013_001E, B05013_002E, B05013_003E, B05013...</td>\n",
       "    </tr>\n",
       "    <tr>\n",
       "      <th>...</th>\n",
       "      <td>...</td>\n",
       "      <td>...</td>\n",
       "    </tr>\n",
       "    <tr>\n",
       "      <th>C24030</th>\n",
       "      <td>SEX BY INDUSTRY FOR THE CIVILIAN EMPLOYED POPU...</td>\n",
       "      <td>[C24030_001E, C24030_002E, C24030_003E, C24030...</td>\n",
       "    </tr>\n",
       "    <tr>\n",
       "      <th>C24040</th>\n",
       "      <td>SEX BY INDUSTRY FOR THE FULL-TIME, YEAR-ROUND ...</td>\n",
       "      <td>[C24040_001E, C24040_002E, C24040_003E, C24040...</td>\n",
       "    </tr>\n",
       "    <tr>\n",
       "      <th>C24050</th>\n",
       "      <td>INDUSTRY BY OCCUPATION FOR THE CIVILIAN  EMPLO...</td>\n",
       "      <td>[C24050_001E, C24050_002E, C24050_003E, C24050...</td>\n",
       "    </tr>\n",
       "    <tr>\n",
       "      <th>C24060</th>\n",
       "      <td>OCCUPATION BY CLASS OF WORKER FOR THE CIVILIAN...</td>\n",
       "      <td>[C24060_001E, C24060_002E, C24060_003E, C24060...</td>\n",
       "    </tr>\n",
       "    <tr>\n",
       "      <th>C24070</th>\n",
       "      <td>INDUSTRY BY CLASS OF WORKER FOR THE CIVILIAN E...</td>\n",
       "      <td>[C24070_001E, C24070_002E, C24070_003E, C24070...</td>\n",
       "    </tr>\n",
       "  </tbody>\n",
       "</table>\n",
       "<p>143 rows × 2 columns</p>\n",
       "</div>"
      ],
      "text/plain": [
       "                                                  description  \\\n",
       "table_name                                                      \n",
       "B01003                                       TOTAL POPULATION   \n",
       "B05006      PLACE OF BIRTH FOR THE FOREIGN-BORN POPULATION...   \n",
       "B05007      PLACE OF BIRTH BY YEAR OF ENTRY BY CITIZENSHIP...   \n",
       "B05008      SEX BY PLACE OF BIRTH BY YEAR OF ENTRY FOR THE...   \n",
       "B05013             SEX BY AGE FOR THE FOREIGN-BORN POPULATION   \n",
       "...                                                       ...   \n",
       "C24030      SEX BY INDUSTRY FOR THE CIVILIAN EMPLOYED POPU...   \n",
       "C24040      SEX BY INDUSTRY FOR THE FULL-TIME, YEAR-ROUND ...   \n",
       "C24050      INDUSTRY BY OCCUPATION FOR THE CIVILIAN  EMPLO...   \n",
       "C24060      OCCUPATION BY CLASS OF WORKER FOR THE CIVILIAN...   \n",
       "C24070      INDUSTRY BY CLASS OF WORKER FOR THE CIVILIAN E...   \n",
       "\n",
       "                                                      columns  \n",
       "table_name                                                     \n",
       "B01003                                          [B01003_001E]  \n",
       "B05006      [B05006_001E, B05006_002E, B05006_003E, B05006...  \n",
       "B05007      [B05007_001E, B05007_002E, B05007_003E, B05007...  \n",
       "B05008      [B05008_001E, B05008_002E, B05008_003E, B05008...  \n",
       "B05013      [B05013_001E, B05013_002E, B05013_003E, B05013...  \n",
       "...                                                       ...  \n",
       "C24030      [C24030_001E, C24030_002E, C24030_003E, C24030...  \n",
       "C24040      [C24040_001E, C24040_002E, C24040_003E, C24040...  \n",
       "C24050      [C24050_001E, C24050_002E, C24050_003E, C24050...  \n",
       "C24060      [C24060_001E, C24060_002E, C24060_003E, C24060...  \n",
       "C24070      [C24070_001E, C24070_002E, C24070_003E, C24070...  \n",
       "\n",
       "[143 rows x 2 columns]"
      ]
     },
     "execution_count": 60,
     "metadata": {},
     "output_type": "execute_result"
    }
   ],
   "source": [
    "# Print list of tables\n",
    "acs.filter_tables('POPULATION', by='description')"
   ]
  },
  {
   "cell_type": "code",
   "execution_count": 61,
   "id": "6d3fc438",
   "metadata": {},
   "outputs": [
    {
     "data": {
      "text/html": [
       "<div>\n",
       "<style scoped>\n",
       "    .dataframe tbody tr th:only-of-type {\n",
       "        vertical-align: middle;\n",
       "    }\n",
       "\n",
       "    .dataframe tbody tr th {\n",
       "        vertical-align: top;\n",
       "    }\n",
       "\n",
       "    .dataframe thead th {\n",
       "        text-align: right;\n",
       "    }\n",
       "</style>\n",
       "<table border=\"1\" class=\"dataframe\">\n",
       "  <thead>\n",
       "    <tr style=\"text-align: right;\">\n",
       "      <th></th>\n",
       "      <th>label</th>\n",
       "      <th>concept</th>\n",
       "      <th>predicateType</th>\n",
       "      <th>group</th>\n",
       "      <th>limit</th>\n",
       "      <th>predicateOnly</th>\n",
       "      <th>hasGeoCollectionSupport</th>\n",
       "      <th>attributes</th>\n",
       "      <th>required</th>\n",
       "    </tr>\n",
       "  </thead>\n",
       "  <tbody>\n",
       "    <tr>\n",
       "      <th>B01003_001E</th>\n",
       "      <td>Estimate!!Total</td>\n",
       "      <td>TOTAL POPULATION</td>\n",
       "      <td>int</td>\n",
       "      <td>B01003</td>\n",
       "      <td>0</td>\n",
       "      <td>NaN</td>\n",
       "      <td>NaN</td>\n",
       "      <td>B01003_001EA,B01003_001M,B01003_001MA</td>\n",
       "      <td>NaN</td>\n",
       "    </tr>\n",
       "  </tbody>\n",
       "</table>\n",
       "</div>"
      ],
      "text/plain": [
       "                       label           concept predicateType   group limit  \\\n",
       "B01003_001E  Estimate!!Total  TOTAL POPULATION           int  B01003     0   \n",
       "\n",
       "            predicateOnly hasGeoCollectionSupport  \\\n",
       "B01003_001E           NaN                     NaN   \n",
       "\n",
       "                                        attributes required  \n",
       "B01003_001E  B01003_001EA,B01003_001M,B01003_001MA      NaN  "
      ]
     },
     "execution_count": 61,
     "metadata": {},
     "output_type": "execute_result"
    }
   ],
   "source": [
    "# Print list of variables\n",
    "acs.filter_variables('B01003')"
   ]
  },
  {
   "cell_type": "code",
   "execution_count": 62,
   "id": "956c2b1d",
   "metadata": {},
   "outputs": [
    {
     "name": "stderr",
     "output_type": "stream",
     "text": [
      "/Users/jack/Documents/Anaconda3/anaconda3/envs/lab2/lib/python3.8/site-packages/pyproj/crs/crs.py:131: FutureWarning: '+init=<authority>:<code>' syntax is deprecated. '<authority>:<code>' is the preferred initialization method. When making the change, be mindful of axis order changes: https://pyproj4.github.io/pyproj/stable/gotchas.html#axis-order-changes-in-proj-6\n",
      "  in_crs_string = _prepare_from_proj_string(in_crs_string)\n",
      "/Users/jack/Documents/Anaconda3/anaconda3/envs/lab2/lib/python3.8/site-packages/pyproj/crs/crs.py:131: FutureWarning: '+init=<authority>:<code>' syntax is deprecated. '<authority>:<code>' is the preferred initialization method. When making the change, be mindful of axis order changes: https://pyproj4.github.io/pyproj/stable/gotchas.html#axis-order-changes-in-proj-6\n",
      "  in_crs_string = _prepare_from_proj_string(in_crs_string)\n",
      "/Users/jack/Documents/Anaconda3/anaconda3/envs/lab2/lib/python3.8/site-packages/cenpy/products.py:762: FutureWarning: The `op` parameter is deprecated and will be removed in a future release. Please use the `predicate` parameter instead.\n",
      "  return self._from_name(county, variables, level, \"Counties\", **kwargs)\n"
     ]
    }
   ],
   "source": [
    "# Download data\n",
    "malheur_pop = products.ACS(2019).from_county('Malheur County', level='tract',\n",
    "                                        variables=['B01003_001E']) # don't worry about the deprecation message!"
   ]
  },
  {
   "cell_type": "code",
   "execution_count": 63,
   "id": "767a96cb",
   "metadata": {},
   "outputs": [
    {
     "data": {
      "text/plain": [
       "count       8.000000\n",
       "mean     3801.500000\n",
       "std      1968.306088\n",
       "min         0.000000\n",
       "25%      3540.750000\n",
       "50%      4518.500000\n",
       "75%      4802.250000\n",
       "max      5781.000000\n",
       "Name: B01003_001E, dtype: float64"
      ]
     },
     "execution_count": 63,
     "metadata": {},
     "output_type": "execute_result"
    }
   ],
   "source": [
    "# Calculate some stats\n",
    "malheur_pop['B01003_001E'].describe()"
   ]
  },
  {
   "cell_type": "code",
   "execution_count": 64,
   "id": "6f0d8f7e",
   "metadata": {},
   "outputs": [
    {
     "data": {
      "text/plain": [
       "<AxesSubplot:>"
      ]
     },
     "execution_count": 64,
     "metadata": {},
     "output_type": "execute_result"
    },
    {
     "data": {
      "image/png": "[encoded data removed]",
      "text/plain": [
       "<Figure size 720x720 with 1 Axes>"
      ]
     },
     "metadata": {
      "needs_background": "light"
     },
     "output_type": "display_data"
    }
   ],
   "source": [
    "# Plot map\n",
    "f, ax = plt.subplots(1, 1, figsize=(10,10))\n",
    "malheur_pop.plot('B01003_001E', ax=ax, cmap='plasma')"
   ]
  },
  {
   "cell_type": "code",
   "execution_count": 65,
   "id": "97cf712d",
   "metadata": {},
   "outputs": [
    {
     "data": {
      "text/plain": [
       "<AxesSubplot:>"
      ]
     },
     "execution_count": 65,
     "metadata": {},
     "output_type": "execute_result"
    },
    {
     "data": {
      "image/png": "[encoded data removed]",
      "text/plain": [
       "<Figure size 720x720 with 2 Axes>"
      ]
     },
     "metadata": {
      "needs_background": "light"
     },
     "output_type": "display_data"
    }
   ],
   "source": [
    "malheur_pop['pop_density'] = 1e4 * malheur_pop['B01003_001E'] / malheur_pop['geometry'].area\n",
    "\n",
    "from mpl_toolkits.axes_grid1 import make_axes_locatable\n",
    "\n",
    "# Plot map\n",
    "f, ax = plt.subplots(1, 1, figsize=(10,10))\n",
    "\n",
    "# These two lines make the colorbar the same size as the axes.\n",
    "divider = make_axes_locatable(ax)\n",
    "cax = divider.append_axes(\"right\", size=\"5%\", pad=0.1)\n",
    "\n",
    "malheur_pop.plot('pop_density', ax=ax, cmap='plasma', legend=True, cax=cax)"
   ]
  },
  {
   "cell_type": "code",
   "execution_count": 66,
   "id": "a193907c",
   "metadata": {},
   "outputs": [
    {
     "data": {
      "text/plain": [
       "<Derived Projected CRS: EPSG:3857>\n",
       "Name: WGS 84 / Pseudo-Mercator\n",
       "Axis Info [cartesian]:\n",
       "- E[east]: Easting (metre)\n",
       "- N[north]: Northing (metre)\n",
       "Area of Use:\n",
       "- name: World between 85.06°S and 85.06°N.\n",
       "- bounds: (-180.0, -85.06, 180.0, 85.06)\n",
       "Coordinate Operation:\n",
       "- name: Popular Visualisation Pseudo-Mercator\n",
       "- method: Popular Visualisation Pseudo Mercator\n",
       "Datum: World Geodetic System 1984 ensemble\n",
       "- Ellipsoid: WGS 84\n",
       "- Prime Meridian: Greenwich"
      ]
     },
     "execution_count": 66,
     "metadata": {},
     "output_type": "execute_result"
    }
   ],
   "source": [
    "malheur_pop.crs"
   ]
  },
  {
   "cell_type": "code",
   "execution_count": 67,
   "id": "78179ab2",
   "metadata": {},
   "outputs": [
    {
     "data": {
      "text/plain": [
       "<Geographic 2D CRS: EPSG:4326>\n",
       "Name: WGS 84\n",
       "Axis Info [ellipsoidal]:\n",
       "- Lat[north]: Geodetic latitude (degree)\n",
       "- Lon[east]: Geodetic longitude (degree)\n",
       "Area of Use:\n",
       "- name: World.\n",
       "- bounds: (-180.0, -90.0, 180.0, 90.0)\n",
       "Datum: World Geodetic System 1984 ensemble\n",
       "- Ellipsoid: WGS 84\n",
       "- Prime Meridian: Greenwich"
      ]
     },
     "execution_count": 67,
     "metadata": {},
     "output_type": "execute_result"
    }
   ],
   "source": [
    "# Make \n",
    "df_large = df[df['FIRE_SIZE'] > 100]\n",
    "malheur_fires = df_large[df_large['FIPS_NAME'] == 'Malheur County']\n",
    "malheur_fires.crs"
   ]
  },
  {
   "cell_type": "code",
   "execution_count": 68,
   "id": "53a49fd3",
   "metadata": {},
   "outputs": [
    {
     "data": {
      "text/plain": [
       "<Derived Projected CRS: EPSG:3857>\n",
       "Name: WGS 84 / Pseudo-Mercator\n",
       "Axis Info [cartesian]:\n",
       "- X[east]: Easting (metre)\n",
       "- Y[north]: Northing (metre)\n",
       "Area of Use:\n",
       "- name: World between 85.06°S and 85.06°N.\n",
       "- bounds: (-180.0, -85.06, 180.0, 85.06)\n",
       "Coordinate Operation:\n",
       "- name: Popular Visualisation Pseudo-Mercator\n",
       "- method: Popular Visualisation Pseudo Mercator\n",
       "Datum: World Geodetic System 1984 ensemble\n",
       "- Ellipsoid: WGS 84\n",
       "- Prime Meridian: Greenwich"
      ]
     },
     "execution_count": 68,
     "metadata": {},
     "output_type": "execute_result"
    }
   ],
   "source": [
    "malheur_fires_proj = malheur_fires.to_crs('EPSG:3857')\n",
    "malheur_fires_proj.crs"
   ]
  },
  {
   "cell_type": "markdown",
   "id": "ddf95be6",
   "metadata": {},
   "source": []
  },
  {
   "cell_type": "code",
   "execution_count": 69,
   "id": "fef1469b",
   "metadata": {},
   "outputs": [
    {
     "data": {
      "text/plain": [
       "<AxesSubplot:>"
      ]
     },
     "execution_count": 69,
     "metadata": {},
     "output_type": "execute_result"
    },
    {
     "data": {
      "image/png": "[encoded data removed]",
      "text/plain": [
       "<Figure size 720x720 with 2 Axes>"
      ]
     },
     "metadata": {
      "needs_background": "light"
     },
     "output_type": "display_data"
    }
   ],
   "source": [
    "# Plot map\n",
    "f, ax = plt.subplots(1, 1, figsize=(10,10))\n",
    "\n",
    "# These two lines make the colorbar the same size as the axes.\n",
    "divider = make_axes_locatable(ax)\n",
    "cax = divider.append_axes(\"right\", size=\"5%\", pad=0.1)\n",
    "\n",
    "malheur_pop.plot('pop_density', ax=ax, cmap='plasma', legend=True, cax=cax)\n",
    "malheur_fires_proj.plot(ax=ax, c='red')"
   ]
  },
  {
   "cell_type": "markdown",
   "id": "97e476d3",
   "metadata": {},
   "source": [
    "### The diagram below is a choropleth map showing the fire count in Malheur County. As we can see most of the fire occur in the rural areas, with some fires near Ontario. "
   ]
  },
  {
   "cell_type": "code",
   "execution_count": 70,
   "id": "412c5fb7",
   "metadata": {
    "scrolled": false
   },
   "outputs": [
    {
     "name": "stderr",
     "output_type": "stream",
     "text": [
      "/Users/jack/Documents/Anaconda3/anaconda3/envs/lab2/lib/python3.8/site-packages/mapclassify/classifiers.py:1718: UserWarning: Warning: Not enough unique values in array to form k classes\n",
      "  Warn(ms, UserWarning)\n",
      "/Users/jack/Documents/Anaconda3/anaconda3/envs/lab2/lib/python3.8/site-packages/mapclassify/classifiers.py:1719: UserWarning: Warning: setting k to 5\n",
      "  Warn(\"Warning: setting k to %d\" % uvk, UserWarning)\n"
     ]
    },
    {
     "data": {
      "text/plain": [
       "<AxesSubplot:>"
      ]
     },
     "execution_count": 70,
     "metadata": {},
     "output_type": "execute_result"
    },
    {
     "data": {
      "image/png": "[encoded data removed]",
      "text/plain": [
       "<Figure size 720x720 with 2 Axes>"
      ]
     },
     "metadata": {
      "needs_background": "light"
     },
     "output_type": "display_data"
    }
   ],
   "source": [
    "# Spatial join\n",
    "joined_df = gpd.sjoin(malheur_fires_proj, malheur_pop, how='inner', predicate='intersects')\n",
    "\n",
    "# Groupby tract\n",
    "tract_count = joined_df.groupby(['tract'], as_index=False)['OBJECTID'].count()\n",
    "tract_count.columns = ['tract', 'fire_count']\n",
    "\n",
    "# Merge back to original DataFrame\n",
    "merged_df = malheur_pop.merge(tract_count, on='tract', how='left')\n",
    "\n",
    "# Clean up data by filling NaNs with 0\n",
    "merged_df['fire_count'].fillna(0, inplace=True)  \n",
    "\n",
    "# Plot map\n",
    "f, ax = plt.subplots(1, 1, figsize=(10,10))\n",
    "divider = make_axes_locatable(ax)\n",
    "cax = divider.append_axes(\"right\", size=\"5%\", pad=0.1)\n",
    "merged_df.plot('fire_count', ax=ax, cmap='viridis', legend=True, cax=cax, scheme = 'naturalbreaks',k=8)"
   ]
  },
  {
   "cell_type": "code",
   "execution_count": null,
   "id": "e5cf4f33",
   "metadata": {},
   "outputs": [],
   "source": []
  },
  {
   "cell_type": "code",
   "execution_count": null,
   "id": "98e25aa9",
   "metadata": {},
   "outputs": [],
   "source": []
  },
  {
   "cell_type": "code",
   "execution_count": null,
   "id": "a86af750",
   "metadata": {},
   "outputs": [],
   "source": []
  },
  {
   "cell_type": "code",
   "execution_count": null,
   "id": "a0666d99",
   "metadata": {},
   "outputs": [],
   "source": []
  }
 ],
 "metadata": {
  "kernelspec": {
   "display_name": "Python 3 (ipykernel)",
   "language": "python",
   "name": "python3"
  },
  "language_info": {
   "codemirror_mode": {
    "name": "ipython",
    "version": 3
   },
   "file_extension": ".py",
   "mimetype": "text/x-python",
   "name": "python",
   "nbconvert_exporter": "python",
   "pygments_lexer": "ipython3",
   "version": "3.8.12"
  }
 },
 "nbformat": 4,
 "nbformat_minor": 5
}
