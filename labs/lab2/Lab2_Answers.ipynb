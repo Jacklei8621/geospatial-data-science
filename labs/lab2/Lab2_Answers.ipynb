{
 "cells": [
  {
   "cell_type": "markdown",
   "id": "28e133b5",
   "metadata": {},
   "source": [
    "# Question 1 (20 points)"
   ]
  },
  {
   "cell_type": "raw",
   "id": "d1877a8f",
   "metadata": {},
   "source": [
    "\n",
    "Write a script (either in Spyder or as a Jupyter Notebook) to answer the following questions:\n",
    "\n",
    "a) Which county had the most human caused wildfires >50 acres? (HINT: use the FIPS_NAME column)\n",
    "    Wasco County had the most human caused wildfires >50 acres.\n",
    "    \n",
    "b) Which month had the most natural caused wildfires >100 acres?\n",
    "    August had the most natural caused wildfires >100 acres.  \n",
    "    \n",
    "c) How many fires >200 acres have an undetermined cause (e.g. Missing data/not specified/undetermined?\n",
    "    There were 13 fires >200 acres have an undetermined cause.\n",
    "\n",
    "d) What is the name, date, and county of the largest sized fire?\n",
    "    The lragest sized fire was in Malheur County, called Long Draw with 558198.3 acres on 2012/07/08. \n",
    "    \n",
    "e) How many wildfires in Lane County were >50 acres?\n",
    "Remember, focus on adapting the example code rather than writing your own from scratch.\n",
    "    There were 33 wildfires in Lane County  >50 acres.  \n",
    "\n"
   ]
  },
  {
   "cell_type": "code",
   "execution_count": null,
   "id": "4cacbacc",
   "metadata": {},
   "outputs": [],
   "source": []
  }
 ],
 "metadata": {
  "kernelspec": {
   "display_name": "Python 3 (ipykernel)",
   "language": "python",
   "name": "python3"
  },
  "language_info": {
   "codemirror_mode": {
    "name": "ipython",
    "version": 3
   },
   "file_extension": ".py",
   "mimetype": "text/x-python",
   "name": "python",
   "nbconvert_exporter": "python",
   "pygments_lexer": "ipython3",
   "version": "3.8.12"
  }
 },
 "nbformat": 4,
 "nbformat_minor": 5
}
